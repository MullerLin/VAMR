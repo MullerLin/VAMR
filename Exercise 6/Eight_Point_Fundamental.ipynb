{
 "cells": [
  {
   "cell_type": "code",
   "execution_count": 1,
   "id": "25ca3bf9",
   "metadata": {},
   "outputs": [],
   "source": [
    "import numpy as np"
   ]
  },
  {
   "cell_type": "code",
   "execution_count": 2,
   "id": "98be5fbb",
   "metadata": {},
   "outputs": [],
   "source": [
    "\n",
    "def distPoint2EpipolarLine(F, p1, p2):\n",
    "    \"\"\" Compute the point-to-epipolar-line distance\n",
    "\n",
    "       Input:\n",
    "       - F np.ndarray(3,3): Fundamental matrix\n",
    "       - p1 np.ndarray(3,N): homogeneous coords of the observed points in image 1\n",
    "       - p2 np.ndarray(3,N): homogeneous coords of the observed points in image 2\n",
    "\n",
    "       Output:\n",
    "       - cost: sum of squared distance from points to epipolar lines\n",
    "               normalized by the number of point coordinates\n",
    "    \"\"\"\n",
    "\n",
    "    N = p1.shape[1]\n",
    "\n",
    "    homog_points = np.c_[p1, p2]\n",
    "    epi_lines = np.c_[F.T @ p2, F @ p1]\n",
    "\n",
    "    denom = epi_lines[0,:]**2 + epi_lines[1,:]**2\n",
    "    cost = np.sqrt( np.sum( np.sum( epi_lines * homog_points, axis = 0)**2 / denom) / N)\n",
    "\n",
    "    return cost\n"
   ]
  },
  {
   "cell_type": "markdown",
   "id": "11b1ce51",
   "metadata": {},
   "source": [
    "## data input and initialize"
   ]
  },
  {
   "cell_type": "code",
   "execution_count": 4,
   "id": "612b5f89",
   "metadata": {},
   "outputs": [],
   "source": [
    "import os\n",
    "dirname = os.path.dirname('/home/mullin/WorkSpace/CourseProject/3 VAMR/Exercise 6/python/code/')"
   ]
  },
  {
   "cell_type": "code",
   "execution_count": 11,
   "id": "f23e8ce2",
   "metadata": {},
   "outputs": [],
   "source": [
    "# Number of 3D points to test\n",
    "N = 40\n",
    "\n",
    "# Random homogeneous coordinates of 3-D points\n",
    "X = np.loadtxt(dirname+\"/matlab_X.csv\", delimiter = \",\")"
   ]
  },
  {
   "cell_type": "code",
   "execution_count": 8,
   "id": "b77ac284",
   "metadata": {},
   "outputs": [
    {
     "data": {
      "text/plain": [
       "array([[-0.53824  , -0.99609  ,  0.1766   ,  1.8169   ,  0.014169 ,\n",
       "        -0.40906  ,  1.0004   , -2.1335   ,  2.4787   , -0.85772  ,\n",
       "        -0.021797 ,  0.66457  , -0.32108  ,  2.0975   , -0.95841  ,\n",
       "        -0.73658  ,  0.097978 ,  1.3709   ,  0.97763  , -1.9895   ,\n",
       "        -1.1469   ,  0.31566  ,  0.98557  , -0.0068143, -0.78677  ,\n",
       "         0.03276  ,  0.51277  , -1.6442   ,  1.0856   ,  0.097482 ,\n",
       "        -0.88921  , -0.91481  , -0.86132  ,  0.061581 ,  1.0138   ,\n",
       "        -1.6829   , -0.45697  , -1.1292   ,  0.24122  , -0.39351  ],\n",
       "       [ 0.86723  , -0.52321  ,  0.75518  , -0.12383  , -0.059551 ,\n",
       "        -1.2819   , -0.80133  ,  0.40398  ,  1.5391   ,  0.39835  ,\n",
       "        -0.88006  , -0.53014  ,  2.1458   ,  0.38772  , -2.6689   ,\n",
       "         1.1147   , -0.84962  ,  0.74102  ,  0.93957  ,  1.6782   ,\n",
       "        -0.70088  ,  1.2744   ,  1.0236   ,  0.088046 , -2.3368   ,\n",
       "         0.70411  , -1.4975   ,  1.5138   ,  0.62863  ,  0.50698  ,\n",
       "        -0.98323  ,  0.034324 , -0.35355  ,  0.55804  , -0.94877  ,\n",
       "        -1.0493   , -0.56365  , -0.030542 ,  0.68748  ,  0.85326  ],\n",
       "       [ 0.97599  , -1.2974   , -0.5915   , -1.1106   , -0.66101  ,\n",
       "        -0.2849   ,  0.0918   , -0.9585   ,  0.82701  , -0.22481  ,\n",
       "         1.1086   ,  0.040909 ,  0.80041  ,  1.0453   , -0.80269  ,\n",
       "        -0.85335  ,  0.5607   , -0.71288  , -2.2629   ,  0.35869  ,\n",
       "        -0.64544  , -0.07451  ,  0.13157  , -0.11497  ,  0.40782  ,\n",
       "        -0.86467  , -1.4528   ,  0.72906  , -0.8741   ,  1.0248   ,\n",
       "        -0.031379 , -0.25025  ,  0.82951  , -0.17638  , -0.010704 ,\n",
       "         0.68979  ,  1.4567   ,  1.5848   , -0.56729  ,  0.36524  ],\n",
       "       [ 0.33739  ,  0.91739  ,  1.8444   , -0.68091  ,  0.30595  ,\n",
       "        -0.064787 ,  0.2738   , -0.32632  , -0.15959  , -1.3147   ,\n",
       "        -0.46414  ,  0.15505  ,  1.1963   , -1.3718   , -0.45102  ,\n",
       "        -0.75875  , -0.3475   ,  0.80472  , -0.51369  , -0.25333  ,\n",
       "         0.78188  , -2.3036   ,  0.60206  , -1.3616   , -0.61362  ,\n",
       "        -0.28869  , -0.80014  ,  0.20881  ,  1.9178   , -0.9279   ,\n",
       "         0.86876  , -1.0576   , -0.36874  ,  1.0482   , -0.3515   ,\n",
       "         0.0074355, -0.9783   , -0.87838  ,  0.98895  ,  0.15825  ]])"
      ]
     },
     "execution_count": 8,
     "metadata": {},
     "output_type": "execute_result"
    }
   ],
   "source": [
    "X"
   ]
  },
  {
   "cell_type": "code",
   "execution_count": 10,
   "id": "6c0d45c9",
   "metadata": {},
   "outputs": [
    {
     "data": {
      "text/plain": [
       "(4, 40)"
      ]
     },
     "execution_count": 10,
     "metadata": {},
     "output_type": "execute_result"
    }
   ],
   "source": [
    "X.shape"
   ]
  },
  {
   "cell_type": "code",
   "execution_count": 9,
   "id": "069df6d1",
   "metadata": {},
   "outputs": [],
   "source": [
    "# Simulated scene with error-free correspondances\n",
    "X[2, :] = X[2, :] * 5 + 10\n",
    "X[3, :] = 1"
   ]
  },
  {
   "cell_type": "code",
   "execution_count": 12,
   "id": "3a679b16",
   "metadata": {},
   "outputs": [],
   "source": [
    "# points without noise\n",
    "P1 = np.array([ [500,   0,      320,    0],\n",
    "                [0,     500,    240,    0],\n",
    "                [0,     0,      1,      0]])\n",
    "\n",
    "P2 = np.array([ [500,   0,      320,    -100],\n",
    "                [0,     500,    240,    0],\n",
    "                [0,     0,      1,      0]])\n",
    "\n",
    "# Image (i.e. projected points)\n",
    "x1 = P1 @ X\n",
    "x2 = P2 @ X"
   ]
  },
  {
   "cell_type": "code",
   "execution_count": 20,
   "id": "06c60fc9",
   "metadata": {},
   "outputs": [
    {
     "data": {
      "text/plain": [
       "(3, 40)"
      ]
     },
     "execution_count": 20,
     "metadata": {},
     "output_type": "execute_result"
    }
   ],
   "source": [
    "x1.shape"
   ]
  },
  {
   "cell_type": "code",
   "execution_count": 22,
   "id": "6620b9c9",
   "metadata": {},
   "outputs": [],
   "source": [
    "# points with noise\n",
    "sigma = 1e-1\n",
    "#  noisy_x1 = x1 + sigma * np.random.randn(*x1.shape)\n",
    "#  noisy_x2 = x2 + sigma * np.random.randn(*x2.shape)\n",
    "\n",
    "# If you want to get the same results as matlab users, uncomment those two lines\n",
    "noisy_x1 = np.loadtxt(dirname + \"/matlab_noisy_x1.csv\", delimiter = \",\")\n",
    "noisy_x2 = np.loadtxt(dirname + \"/matlab_noisy_x2.csv\", delimiter = \",\")"
   ]
  },
  {
   "cell_type": "markdown",
   "id": "1528d3d9",
   "metadata": {},
   "source": [
    "## Test"
   ]
  },
  {
   "cell_type": "code",
   "execution_count": 24,
   "id": "7d2d79f1",
   "metadata": {},
   "outputs": [],
   "source": [
    "p1 = x1\n",
    "p2 = x2"
   ]
  },
  {
   "cell_type": "code",
   "execution_count": 28,
   "id": "5141212e",
   "metadata": {},
   "outputs": [],
   "source": [
    "num_P = p1.shape[1]"
   ]
  },
  {
   "cell_type": "code",
   "execution_count": 30,
   "id": "7083fffb",
   "metadata": {},
   "outputs": [],
   "source": [
    "A = np.zeros((num_P,9))\n",
    "for i in range(num_P):\n",
    "    A[i,:] = np.kron( p1[:,i], p2[:,i] ).T"
   ]
  },
  {
   "cell_type": "code",
   "execution_count": 32,
   "id": "db619d7b",
   "metadata": {},
   "outputs": [],
   "source": [
    "U,sigma, VT = np.linalg.svd(A,full_matrices=True)\n",
    "F = VT.T[:,-1].reshape(3,3)"
   ]
  },
  {
   "cell_type": "code",
   "execution_count": 60,
   "id": "f3a4b0a1",
   "metadata": {},
   "outputs": [
    {
     "data": {
      "text/plain": [
       "array([[ 9.93041474e-20, -2.43148804e-18, -1.74072590e-16],\n",
       "       [ 2.05129684e-18,  1.82925950e-19, -7.07106781e-01],\n",
       "       [-5.54920434e-17,  7.07106781e-01, -3.15678631e-15]])"
      ]
     },
     "execution_count": 60,
     "metadata": {},
     "output_type": "execute_result"
    }
   ],
   "source": [
    "F"
   ]
  },
  {
   "cell_type": "code",
   "execution_count": 61,
   "id": "daeef7b1",
   "metadata": {},
   "outputs": [],
   "source": [
    "U_F,sigma_F, VT_F = np.linalg.svd(F,full_matrices=True)"
   ]
  },
  {
   "cell_type": "code",
   "execution_count": 62,
   "id": "38a1f22a",
   "metadata": {},
   "outputs": [
    {
     "data": {
      "text/plain": [
       "array([[ 4.44089210e-16,  2.22044605e-16,  1.00000000e+00],\n",
       "       [ 7.30079297e-01, -6.83362437e-01, -6.93889390e-17],\n",
       "       [ 6.83362437e-01,  7.30079297e-01,  0.00000000e+00]])"
      ]
     },
     "execution_count": 62,
     "metadata": {},
     "output_type": "execute_result"
    }
   ],
   "source": [
    "U_F"
   ]
  },
  {
   "cell_type": "code",
   "execution_count": 63,
   "id": "e1152917",
   "metadata": {},
   "outputs": [
    {
     "data": {
      "text/plain": [
       "array([7.07106781e-01, 7.07106781e-01, 9.93041474e-20])"
      ]
     },
     "execution_count": 63,
     "metadata": {},
     "output_type": "execute_result"
    }
   ],
   "source": [
    "sigma_F"
   ]
  },
  {
   "cell_type": "code",
   "execution_count": 64,
   "id": "8afbc066",
   "metadata": {},
   "outputs": [
    {
     "data": {
      "text/plain": [
       "array([[7.07106781e-01, 0.00000000e+00, 0.00000000e+00],\n",
       "       [0.00000000e+00, 7.07106781e-01, 0.00000000e+00],\n",
       "       [0.00000000e+00, 0.00000000e+00, 9.93041474e-20]])"
      ]
     },
     "execution_count": 64,
     "metadata": {},
     "output_type": "execute_result"
    }
   ],
   "source": [
    "np.diag(sigma_F)"
   ]
  },
  {
   "cell_type": "code",
   "execution_count": 65,
   "id": "fb3737db",
   "metadata": {},
   "outputs": [
    {
     "data": {
      "text/plain": [
       "array([[-5.15107048e-17,  6.83362437e-01, -7.30079297e-01],\n",
       "       [-5.92772865e-17,  7.30079297e-01,  6.83362437e-01],\n",
       "       [ 1.00000000e+00,  7.84776004e-17,  2.90097181e-18]])"
      ]
     },
     "execution_count": 65,
     "metadata": {},
     "output_type": "execute_result"
    }
   ],
   "source": [
    "VT_F"
   ]
  },
  {
   "cell_type": "code",
   "execution_count": 66,
   "id": "51f4855c",
   "metadata": {},
   "outputs": [
    {
     "data": {
      "text/plain": [
       "array([[ 9.93041474e-20,  3.29217642e-16, -1.21964179e-16],\n",
       "       [ 2.05129684e-18,  1.66533454e-16, -7.07106781e-01],\n",
       "       [-5.54920434e-17,  7.07106781e-01, -3.21964677e-15]])"
      ]
     },
     "execution_count": 66,
     "metadata": {},
     "output_type": "execute_result"
    }
   ],
   "source": [
    "U_F @ np.diag(sigma_F) @ VT_F"
   ]
  },
  {
   "cell_type": "code",
   "execution_count": null,
   "id": "29126707",
   "metadata": {},
   "outputs": [],
   "source": []
  },
  {
   "cell_type": "code",
   "execution_count": 40,
   "id": "5c6dd8f0",
   "metadata": {},
   "outputs": [],
   "source": [
    "sigma_F[2] = 0"
   ]
  },
  {
   "cell_type": "code",
   "execution_count": 41,
   "id": "b873904b",
   "metadata": {},
   "outputs": [
    {
     "data": {
      "text/plain": [
       "array([0.70710678, 0.70710678, 0.        ])"
      ]
     },
     "execution_count": 41,
     "metadata": {},
     "output_type": "execute_result"
    }
   ],
   "source": [
    "sigma_F"
   ]
  },
  {
   "cell_type": "code",
   "execution_count": null,
   "id": "e15a9592",
   "metadata": {},
   "outputs": [],
   "source": [
    "sigma_M = np.diag(sigma_F)"
   ]
  },
  {
   "cell_type": "code",
   "execution_count": 67,
   "id": "9592e006",
   "metadata": {},
   "outputs": [],
   "source": [
    "F_mod = U_F @ np.diag(sigma_F) @ VT_F"
   ]
  },
  {
   "cell_type": "code",
   "execution_count": 68,
   "id": "1caed607",
   "metadata": {},
   "outputs": [
    {
     "data": {
      "text/plain": [
       "array([[ 9.93041474e-20,  3.29217642e-16, -1.21964179e-16],\n",
       "       [ 2.05129684e-18,  1.66533454e-16, -7.07106781e-01],\n",
       "       [-5.54920434e-17,  7.07106781e-01, -3.21964677e-15]])"
      ]
     },
     "execution_count": 68,
     "metadata": {},
     "output_type": "execute_result"
    }
   ],
   "source": [
    "F_mod"
   ]
  },
  {
   "cell_type": "code",
   "execution_count": null,
   "id": "bfdb7f38",
   "metadata": {},
   "outputs": [],
   "source": []
  },
  {
   "cell_type": "code",
   "execution_count": null,
   "id": "13fd6aee",
   "metadata": {},
   "outputs": [],
   "source": []
  },
  {
   "cell_type": "code",
   "execution_count": null,
   "id": "c86e7869",
   "metadata": {},
   "outputs": [],
   "source": []
  },
  {
   "cell_type": "markdown",
   "id": "9da634e0",
   "metadata": {},
   "source": [
    "## Def fundamentalEightPoint"
   ]
  },
  {
   "cell_type": "code",
   "execution_count": 69,
   "id": "aeb5c16d",
   "metadata": {},
   "outputs": [],
   "source": [
    "import numpy as np\n",
    "\n",
    "def fundamentalEightPoint(p1, p2):\n",
    "    \"\"\" The 8-point algorithm for the estimation of the fundamental matrix F\n",
    "\n",
    "     The eight-point algorithm for the fundamental matrix with a posteriori\n",
    "     enforcement of the singularity constraint (det(F)=0).\n",
    "     Does not include data normalization.\n",
    "\n",
    "     Reference: \"Multiple View Geometry\" (Hartley & Zisserman 2000), Sect. 10.1 page 262.\n",
    "\n",
    "     Input: point correspondences\n",
    "      - p1 np.ndarray(3,N): homogeneous coordinates of 2-D points in image 1\n",
    "      - p2 np.ndarray(3,N): homogeneous coordinates of 2-D points in image 2\n",
    "\n",
    "     Output:\n",
    "      - F np.ndarray(3,3) : fundamental matrix\n",
    "    \"\"\"\n",
    "\n",
    "    num_P = p1.shape[1]\n",
    "    A = np.zeros((num_P, 9))\n",
    "    for i in range(num_P):\n",
    "        A[i, :] = np.kron(p1[:, i], p2[:, i]).T\n",
    "    U, sigma, VT = np.linalg.svd(A, full_matrices=True)\n",
    "    F = VT.T[:, -1].reshape(3, 3)\n",
    "    U_F, sigma_F, VT_F = np.linalg.svd(F, full_matrices=True)\n",
    "    sigma_F[2] = 0\n",
    "    F_mod = U_F @ np.diag(sigma_F) @ VT_F\n",
    "    \n",
    "    return F_mod\n"
   ]
  },
  {
   "cell_type": "code",
   "execution_count": null,
   "id": "41785427",
   "metadata": {},
   "outputs": [],
   "source": []
  },
  {
   "cell_type": "code",
   "execution_count": null,
   "id": "bae8a2e0",
   "metadata": {},
   "outputs": [],
   "source": []
  },
  {
   "cell_type": "markdown",
   "id": "a35ad71e",
   "metadata": {},
   "source": [
    "## Test code"
   ]
  },
  {
   "cell_type": "code",
   "execution_count": 70,
   "id": "c279d794",
   "metadata": {},
   "outputs": [
    {
     "name": "stdout",
     "output_type": "stream",
     "text": [
      "\n",
      "Noise-free correspondences\n",
      "Algebraic error: 0.000000\n",
      "Geometric error: 0.000000 px\n"
     ]
    }
   ],
   "source": [
    "# Estimate Fundamental Matrix via 8-point algorithm\n",
    "F  = fundamentalEightPoint(x1, x2)\n",
    "cost_algebraic = np.linalg.norm( np.sum(x2 * (F @ x1)) ) / np.sqrt(N)\n",
    "cost_dist_epi_line = distPoint2EpipolarLine(F, x1, x2)\n",
    "\n",
    "print(\"\")\n",
    "print('Noise-free correspondences');\n",
    "print('Algebraic error: %f' % cost_algebraic);\n",
    "print('Geometric error: %f px' % cost_dist_epi_line);"
   ]
  },
  {
   "cell_type": "code",
   "execution_count": 71,
   "id": "6bfe3dc9",
   "metadata": {},
   "outputs": [
    {
     "name": "stdout",
     "output_type": "stream",
     "text": [
      "\n",
      "Noisy correspondences with 8 Point Algorithm\n",
      "Algebraic error: 8.776260\n",
      "Geometric error: 320.780422 px\n"
     ]
    }
   ],
   "source": [
    "# Test with noise\n",
    "F  = fundamentalEightPoint(noisy_x1, noisy_x2) # This gives bad results!\n",
    "\n",
    "cost_algebraic = np.linalg.norm( np.sum(noisy_x2 * (F @ noisy_x1), axis=0) ) / np.sqrt(N)\n",
    "cost_dist_epi_line = distPoint2EpipolarLine(F, noisy_x1, noisy_x2)\n",
    "\n",
    "print(\"\")\n",
    "print('Noisy correspondences with 8 Point Algorithm')\n",
    "print('Algebraic error: %f' % cost_algebraic)\n",
    "print('Geometric error: %f px' % cost_dist_epi_line)\n"
   ]
  },
  {
   "cell_type": "code",
   "execution_count": null,
   "id": "6641b442",
   "metadata": {},
   "outputs": [],
   "source": []
  }
 ],
 "metadata": {
  "kernelspec": {
   "display_name": "Python [conda env:VAMR]",
   "language": "python",
   "name": "conda-env-VAMR-py"
  },
  "language_info": {
   "codemirror_mode": {
    "name": "ipython",
    "version": 3
   },
   "file_extension": ".py",
   "mimetype": "text/x-python",
   "name": "python",
   "nbconvert_exporter": "python",
   "pygments_lexer": "ipython3",
   "version": "3.8.13"
  }
 },
 "nbformat": 4,
 "nbformat_minor": 5
}
