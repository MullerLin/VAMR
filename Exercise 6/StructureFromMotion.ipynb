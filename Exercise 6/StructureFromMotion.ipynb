{
 "cells": [
  {
   "cell_type": "code",
   "execution_count": 1,
   "id": "7e6ed1e9",
   "metadata": {},
   "outputs": [],
   "source": [
    "import cv2\n",
    "import numpy as np\n",
    "import matplotlib.pyplot as plt"
   ]
  },
  {
   "cell_type": "code",
   "execution_count": 2,
   "id": "9ee757b6",
   "metadata": {},
   "outputs": [],
   "source": [
    "def linearTriangulation(p1, p2, M1, M2):\n",
    "    \"\"\" Linear Triangulation\n",
    "     Input:\n",
    "      - p1 np.ndarray(3, N): homogeneous coordinates of points in image 1\n",
    "      - p2 np.ndarray(3, N): homogeneous coordinates of points in image 2\n",
    "      - M1 np.ndarray(3, 4): projection matrix corresponding to first image\n",
    "      - M2 np.ndarray(3, 4): projection matrix corresponding to second image\n",
    "\n",
    "     Output:\n",
    "      - P np.ndarray(4, N): homogeneous coordinates of 3-D points\n",
    "    \"\"\"\n",
    "    p_size = p1.shape[1]\n",
    "    P_est = np.ones([p_size,4])\n",
    "    for i in range (p_size):\n",
    "        temp_p1_x = cross2Matrix(p1[:,i].squeeze())\n",
    "        temp_p2_x = cross2Matrix(p2[:,i].squeeze())\n",
    "        temp_A = np.r_[temp_p1_x@M1, temp_p2_x@M2]\n",
    "        _,_, VT = np.linalg.svd(temp_A,full_matrices=True)\n",
    "        P_est[i,]  = VT.T[:,-1] / VT.T[3,-1]   \n",
    "\n",
    "    \n",
    "    return P_est.T\n"
   ]
  },
  {
   "cell_type": "code",
   "execution_count": 3,
   "id": "0255f3ed",
   "metadata": {},
   "outputs": [],
   "source": [
    "def normalise2DPts(pts):\n",
    "    \"\"\"  normalises 2D homogeneous points\n",
    "\n",
    "     Function translates and normalises a set of 2D homogeneous points\n",
    "     so that their centroid is at the origin and their mean distance from\n",
    "     the origin is sqrt(2).\n",
    "\n",
    "     Usage:   [pts_tilde, T] = normalise2dpts(pts)\n",
    "\n",
    "     Argument:\n",
    "       pts -  3xN array of 2D homogeneous coordinates\n",
    "\n",
    "     Returns:\n",
    "       pts_tilde -  3xN array of transformed 2D homogeneous coordinates.\n",
    "       T         -  The 3x3 transformation matrix, pts_tilde = T*pts\n",
    "    \"\"\"\n",
    "    \n",
    "    pts_E = pts/pts[2:,]\n",
    "    miu = np.mean(pts_E[:2,:], axis = 1)\n",
    "    \n",
    "    pts_dis = pts_E[:2,:].T - miu\n",
    "    sigma = np.sqrt(np.mean(np.sum(pts_dis**2, axis = 1)))\n",
    "    s = np.sqrt(2) / sigma\n",
    "    T = np.array([\n",
    "    [s, 0, -s * miu[0]],\n",
    "    [0, s, -s * miu[1]],\n",
    "    [0, 0, 1]])\n",
    "    pts_tilde = T @ pts_E\n",
    "    return pts_tilde, T"
   ]
  },
  {
   "cell_type": "code",
   "execution_count": 4,
   "id": "e931d2fe",
   "metadata": {},
   "outputs": [],
   "source": [
    "def fundamentalEightPoint(p1, p2):\n",
    "    \"\"\" The 8-point algorithm for the estimation of the fundamental matrix F\n",
    "\n",
    "     The eight-point algorithm for the fundamental matrix with a posteriori\n",
    "     enforcement of the singularity constraint (det(F)=0).\n",
    "     Does not include data normalization.\n",
    "\n",
    "     Reference: \"Multiple View Geometry\" (Hartley & Zisserman 2000), Sect. 10.1 page 262.\n",
    "\n",
    "     Input: point correspondences\n",
    "      - p1 np.ndarray(3,N): homogeneous coordinates of 2-D points in image 1\n",
    "      - p2 np.ndarray(3,N): homogeneous coordinates of 2-D points in image 2\n",
    "\n",
    "     Output:\n",
    "      - F np.ndarray(3,3) : fundamental matrix\n",
    "    \"\"\"\n",
    "\n",
    "    num_P = p1.shape[1]\n",
    "    A = np.zeros((num_P, 9))\n",
    "    for i in range(num_P):\n",
    "        A[i, :] = np.kron(p1[:, i], p2[:, i]).T\n",
    "    U, sigma, VT = np.linalg.svd(A, full_matrices=True)\n",
    "    F = VT.T[:, -1].reshape(3, 3)\n",
    "    U_F, sigma_F, VT_F = np.linalg.svd(F, full_matrices=True)\n",
    "    sigma_F[2] = 0\n",
    "    F_mod = U_F @ np.diag(sigma_F) @ VT_F\n",
    "    \n",
    "    return F_mod"
   ]
  },
  {
   "cell_type": "code",
   "execution_count": 5,
   "id": "5283cf71",
   "metadata": {},
   "outputs": [],
   "source": [
    "def fundamentalEightPointNormalized(p1, p2):\n",
    "    \"\"\" Normalized Version of the 8 Point algorith\n",
    "     Input: point correspondences\n",
    "      - p1 np.ndarray(3,N): homogeneous coordinates of 2-D points in image 1\n",
    "      - p2 np.ndarray(3,N): homogeneous coordinates of 2-D points in image 2\n",
    "\n",
    "     Output:\n",
    "      - F np.ndarray(3,3) : fundamental matrix\n",
    "    \"\"\"\n",
    "    p1_n, T1 = normalise2DPts(p1)\n",
    "    p2_n, T2 = normalise2DPts(p2)\n",
    "    \n",
    "    F_ = fundamentalEightPoint(p1_n, p2_n)\n",
    "    \n",
    "    F = T2.T @ F_ @T1\n",
    "    \n",
    "    return F"
   ]
  },
  {
   "cell_type": "code",
   "execution_count": 6,
   "id": "a814d0ae",
   "metadata": {},
   "outputs": [],
   "source": [
    "def cross2Matrix(x):\n",
    "    \"\"\" Antisymmetric matrix corresponding to a 3-vector\n",
    "     Computes the antisymmetric matrix M corresponding to a 3-vector x such\n",
    "     that M*y = cross(x,y) for all 3-vectors y.\n",
    "\n",
    "     Input: \n",
    "       - x np.ndarray(3,1) : vector\n",
    "\n",
    "     Output: \n",
    "       - M np.ndarray(3,3) : antisymmetric matrix\n",
    "    \"\"\"\n",
    "    M = np.array([[0,   -x[2], x[1]], \n",
    "                  [x[2],  0,  -x[0]],\n",
    "                  [-x[1], x[0],  0]])\n",
    "    return M"
   ]
  },
  {
   "cell_type": "code",
   "execution_count": 7,
   "id": "d9c377e5",
   "metadata": {},
   "outputs": [],
   "source": [
    "import numpy as np\n",
    "\n",
    "from matplotlib.patches import FancyArrowPatch\n",
    "from mpl_toolkits.mplot3d import proj3d\n",
    "\n",
    "class Arrow3D(FancyArrowPatch):\n",
    "    def __init__(self, xs, ys, zs, *args, **kwargs):\n",
    "        super().__init__((0, 0), (0, 0), *args, **kwargs)\n",
    "        self._verts3d = xs, ys, zs\n",
    "\n",
    "    def draw(self, renderer):\n",
    "        xs3d, ys3d, zs3d = self._verts3d\n",
    "        xs, ys, zs = proj3d.proj_transform(xs3d, ys3d, zs3d, renderer.M)\n",
    "        self.set_positions((xs[0], ys[0]), (xs[1], ys[1]))\n",
    "        FancyArrowPatch.draw(self, renderer)\n",
    "\n",
    "    def do_3d_projection(self, renderer=None):\n",
    "        xs3d, ys3d, zs3d = self._verts3d\n",
    "        xs, ys, zs = proj3d.proj_transform(xs3d, ys3d, zs3d, self.axes.M)\n",
    "        self.set_positions((xs[0], ys[0]), (xs[1], ys[1]))\n",
    "\n",
    "        return np.min(zs)\n"
   ]
  },
  {
   "cell_type": "code",
   "execution_count": 8,
   "id": "f14d03b1",
   "metadata": {},
   "outputs": [],
   "source": [
    "\n",
    "\n",
    "def drawCamera(ax, position, direction, length_scale = 1, head_size = 10, \n",
    "        equal_axis = True, set_ax_limits = True):\n",
    "    # Draws a camera consisting of arrows into a 3d Plot\n",
    "    # ax            axes object, creates as follows\n",
    "    #                   fig = plt.figure()\n",
    "    #                   ax = fig.add_subplot(projection='3d')\n",
    "    # position      np.array(3,) containing the camera position\n",
    "    # direction     np.array(3,3) where each column corresponds to the [x, y, z]\n",
    "    #               axis direction\n",
    "    # length_scale  length scale: the arrows are drawn with length\n",
    "    #               length_scale * direction\n",
    "    # head_size     controls the size of the head of the arrows\n",
    "    # equal_axis    boolean, if set to True (default) the axis are set to an \n",
    "    #               equal aspect ratio\n",
    "    # set_ax_limits if set to false, the plot box is not touched by the function\n",
    "\n",
    "    arrow_prop_dict = dict(mutation_scale=head_size, arrowstyle='-|>', color='r')\n",
    "    a = Arrow3D([position[0], position[0] + length_scale * direction[0, 0]],\n",
    "                [position[1], position[1] + length_scale * direction[1, 0]],\n",
    "                [position[2], position[2] + length_scale * direction[2, 0]],\n",
    "                **arrow_prop_dict)\n",
    "    ax.add_artist(a)\n",
    "    arrow_prop_dict = dict(mutation_scale=head_size, arrowstyle='-|>', color='g')\n",
    "    a = Arrow3D([position[0], position[0] + length_scale * direction[0, 1]],\n",
    "                [position[1], position[1] + length_scale * direction[1, 1]],\n",
    "                [position[2], position[2] + length_scale * direction[2, 1]],\n",
    "                **arrow_prop_dict)\n",
    "    ax.add_artist(a)\n",
    "    arrow_prop_dict = dict(mutation_scale=head_size, arrowstyle='-|>', color='b')\n",
    "    a = Arrow3D([position[0], position[0] + length_scale * direction[0, 2]],\n",
    "                [position[1], position[1] + length_scale * direction[1, 2]],\n",
    "                [position[2], position[2] + length_scale * direction[2, 2]],\n",
    "                **arrow_prop_dict)\n",
    "    ax.add_artist(a)\n",
    "\n",
    "    if not set_ax_limits:\n",
    "        return\n",
    "\n",
    "    xlim = ax.get_xlim()\n",
    "    ylim = ax.get_ylim()\n",
    "    zlim = ax.get_zlim()\n",
    "    ax.set_xlim([min(xlim[0], position[0]), max(xlim[1], position[0])])\n",
    "    ax.set_ylim([min(ylim[0], position[1]), max(ylim[1], position[1])])\n",
    "    ax.set_zlim([min(zlim[0], position[2]), max(zlim[1], position[2])])\n",
    "    \n",
    "    # This sets the aspect ratio to 'equal'\n",
    "    if equal_axis:\n",
    "        ax.set_box_aspect((np.ptp(ax.get_xlim()),\n",
    "                       np.ptp(ax.get_ylim()),\n",
    "                       np.ptp(ax.get_zlim())))"
   ]
  },
  {
   "cell_type": "markdown",
   "id": "84df8d11",
   "metadata": {},
   "source": [
    "## 数据读入 与函数"
   ]
  },
  {
   "cell_type": "code",
   "execution_count": 9,
   "id": "bb5e5f60",
   "metadata": {},
   "outputs": [],
   "source": [
    "import os\n",
    "dirname = os.path.dirname('/home/mullin/WorkSpace/CourseProject/3 VAMR/Exercise 6/python/')"
   ]
  },
  {
   "cell_type": "code",
   "execution_count": 10,
   "id": "75ae415d",
   "metadata": {},
   "outputs": [],
   "source": [
    "img_1 = np.array(cv2.imread(dirname+'/data/0001.jpg'))\n",
    "img_2 = np.array(cv2.imread(dirname+'/data/0002.jpg'))"
   ]
  },
  {
   "cell_type": "code",
   "execution_count": 11,
   "id": "b2f8e1eb",
   "metadata": {},
   "outputs": [],
   "source": [
    "K = np.array([  [1379.74,   0,          760.35],\n",
    "                [    0,     1382.08,    503.41],\n",
    "                [    0,     0,          1 ]] )"
   ]
  },
  {
   "cell_type": "code",
   "execution_count": 12,
   "id": "8a726cf8",
   "metadata": {},
   "outputs": [],
   "source": [
    "# Load outlier-free point correspondences\n",
    "p1 = np.loadtxt(dirname+'/data/matches0001.txt')\n",
    "p2 = np.loadtxt(dirname+'/data/matches0002.txt')\n",
    "\n",
    "p1 = np.r_[p1, np.ones((1, p1.shape[1]))]\n",
    "p2 = np.r_[p2, np.ones((1, p2.shape[1]))]"
   ]
  },
  {
   "cell_type": "markdown",
   "id": "2bddec8a",
   "metadata": {},
   "source": [
    "## Test "
   ]
  },
  {
   "cell_type": "code",
   "execution_count": null,
   "id": "bc589e83",
   "metadata": {},
   "outputs": [],
   "source": []
  },
  {
   "cell_type": "code",
   "execution_count": null,
   "id": "794843c6",
   "metadata": {},
   "outputs": [],
   "source": []
  },
  {
   "cell_type": "code",
   "execution_count": null,
   "id": "7aa5894c",
   "metadata": {},
   "outputs": [],
   "source": []
  },
  {
   "cell_type": "code",
   "execution_count": null,
   "id": "6524a108",
   "metadata": {},
   "outputs": [],
   "source": []
  },
  {
   "cell_type": "markdown",
   "id": "bbfdf7c6",
   "metadata": {},
   "source": [
    "## estimate Essential Matrix "
   ]
  },
  {
   "cell_type": "code",
   "execution_count": 27,
   "id": "8eabe7d3",
   "metadata": {},
   "outputs": [],
   "source": [
    "def estimateEssentialMatrix(p1, p2, K1, K2):\n",
    "    \"\"\" estimates the essential matrix given matching point coordinates,\n",
    "        and the camera calibration K\n",
    "\n",
    "     Input: point correspondences\n",
    "      - p1 np.ndarray(3,N): homogeneous coordinates of 2-D points in image 1\n",
    "      - p2 np.ndarray(3,N): homogeneous coordinates of 2-D points in image 2\n",
    "      - K1 np.ndarray(3,3): calibration matrix of camera 1\n",
    "      - K2 np.ndarray(3,3): calibration matrix of camera 2\n",
    "\n",
    "     Output:\n",
    "      - E np.ndarray(3,3) : fundamental matrix\n",
    "    \"\"\"\n",
    "    \n",
    "    F = fundamentalEightPointNormalized(p1,p2)\n",
    "    print(\"F:\\n\", F)\n",
    "    E = K2.T @ F @ K1\n",
    "    \n",
    "    return E\n"
   ]
  },
  {
   "cell_type": "code",
   "execution_count": null,
   "id": "2ddbb902",
   "metadata": {},
   "outputs": [],
   "source": []
  },
  {
   "cell_type": "markdown",
   "id": "000f51a8",
   "metadata": {},
   "source": [
    "## Function：DecomposeEMatrix"
   ]
  },
  {
   "cell_type": "code",
   "execution_count": 14,
   "id": "cb46e651",
   "metadata": {},
   "outputs": [],
   "source": [
    "def decomposeEssentialMatrix(E):\n",
    "    \"\"\" Given an essential matrix, compute the camera motion, i.e.,  R and T such\n",
    "     that E ~ T_x R\n",
    "     \n",
    "     Input:\n",
    "       - E(3,3) : Essential matrix\n",
    "\n",
    "     Output:\n",
    "       - R(3,3,2) : the two possible rotations\n",
    "       - u3(3,1)   : a vector with the translation information\n",
    "    \"\"\"\n",
    "    \n",
    "    W = np.array([[0, -1, 0],\n",
    "                  [1,  0,  0],\n",
    "                  [0,  0,  1 ]] )\n",
    "    \n",
    "    U, sigma, VT = np.linalg.svd(E, full_matrices=True)\n",
    "    R = np.zeros([3,3,2])\n",
    "    if (np.linalg.det(U @ W @ VT) > 0):   \n",
    "        R[:,:,0] = U @ W @ VT\n",
    "    else:\n",
    "        R[:,:,0] = - U @ W @ VT\n",
    "    \n",
    "    if (np.linalg.det(U @ W.T @ VT) > 0):\n",
    "        R[:,:,1] = U @ W.T @ VT\n",
    "    else:\n",
    "        R[:,:,1] = - U @ W.T @ VT\n",
    "    \n",
    "    u3 = U[:,2]\n",
    "    \n",
    "    if np.linalg.norm(u3) != 0:\n",
    "        u3 /= np.linalg.norm(u3)\n",
    "    \n",
    "    return R, u3"
   ]
  },
  {
   "cell_type": "markdown",
   "id": "5eee964a",
   "metadata": {},
   "source": [
    "### test for decompose"
   ]
  },
  {
   "cell_type": "code",
   "execution_count": 15,
   "id": "2045509e",
   "metadata": {},
   "outputs": [],
   "source": [
    "    W = np.array([[0, -1, 0],\n",
    "                  [1,  0,  0],\n",
    "                  [0,  0,  1 ]] )"
   ]
  },
  {
   "cell_type": "code",
   "execution_count": 16,
   "id": "47dcd143",
   "metadata": {},
   "outputs": [
    {
     "ename": "NameError",
     "evalue": "name 'E' is not defined",
     "output_type": "error",
     "traceback": [
      "\u001b[0;31m---------------------------------------------------------------------------\u001b[0m",
      "\u001b[0;31mNameError\u001b[0m                                 Traceback (most recent call last)",
      "Input \u001b[0;32mIn [16]\u001b[0m, in \u001b[0;36m<cell line: 1>\u001b[0;34m()\u001b[0m\n\u001b[0;32m----> 1\u001b[0m U, sigma, VT \u001b[38;5;241m=\u001b[39m np\u001b[38;5;241m.\u001b[39mlinalg\u001b[38;5;241m.\u001b[39msvd(\u001b[43mE\u001b[49m, full_matrices\u001b[38;5;241m=\u001b[39m\u001b[38;5;28;01mTrue\u001b[39;00m)\n",
      "\u001b[0;31mNameError\u001b[0m: name 'E' is not defined"
     ]
    }
   ],
   "source": [
    "U, sigma, VT = np.linalg.svd(E, full_matrices=True)"
   ]
  },
  {
   "cell_type": "code",
   "execution_count": 17,
   "id": "e3015a11",
   "metadata": {},
   "outputs": [
    {
     "ename": "NameError",
     "evalue": "name 'U' is not defined",
     "output_type": "error",
     "traceback": [
      "\u001b[0;31m---------------------------------------------------------------------------\u001b[0m",
      "\u001b[0;31mNameError\u001b[0m                                 Traceback (most recent call last)",
      "Input \u001b[0;32mIn [17]\u001b[0m, in \u001b[0;36m<cell line: 1>\u001b[0;34m()\u001b[0m\n\u001b[0;32m----> 1\u001b[0m \u001b[43mU\u001b[49m[:,\u001b[38;5;241m2\u001b[39m]\n",
      "\u001b[0;31mNameError\u001b[0m: name 'U' is not defined"
     ]
    }
   ],
   "source": [
    "U[:,2]"
   ]
  },
  {
   "cell_type": "code",
   "execution_count": 18,
   "id": "7f22aefa",
   "metadata": {},
   "outputs": [
    {
     "data": {
      "text/plain": [
       "array([[-9.66560148e-01,  2.50368550e-04,  2.56439890e-01],\n",
       "       [ 3.56035084e-04,  9.99999870e-01,  3.65624889e-04],\n",
       "       [ 2.56439765e-01, -4.44700045e-04,  9.66560112e-01]])"
      ]
     },
     "execution_count": 18,
     "metadata": {},
     "output_type": "execute_result"
    }
   ],
   "source": [
    "U @ W @ VT"
   ]
  },
  {
   "cell_type": "code",
   "execution_count": 19,
   "id": "6b2a5407",
   "metadata": {},
   "outputs": [
    {
     "data": {
      "text/plain": [
       "array([[-9.81051429e-01, -4.43919147e-03, -1.93696639e-01],\n",
       "       [ 4.62877772e-03, -9.99989149e-01, -5.26213051e-04],\n",
       "       [ 1.93692201e-01,  1.41282075e-03, -9.81061331e-01]])"
      ]
     },
     "execution_count": 19,
     "metadata": {},
     "output_type": "execute_result"
    }
   ],
   "source": [
    "U @ W.T @ VT"
   ]
  },
  {
   "cell_type": "code",
   "execution_count": 20,
   "id": "69a66a60",
   "metadata": {},
   "outputs": [],
   "source": [
    "R = np.zeros([3,3,2])"
   ]
  },
  {
   "cell_type": "code",
   "execution_count": 23,
   "id": "bc11a067",
   "metadata": {},
   "outputs": [],
   "source": [
    "if (np.linalg.det(U @ W @ VT) > 0):\n",
    "    \n",
    "    R[:,:,0] = U @ W @ VT\n",
    "else:\n",
    "    R[:,:,0] = - U @ W @ VT\n",
    "    \n",
    "if (np.linalg.det(U @ W.T @ VT) > 0):\n",
    "    \n",
    "    R[:,:,1] = U @ W.T @ VT\n",
    "else:\n",
    "    R[:,:,1] = - U @ W.T @ VT"
   ]
  },
  {
   "cell_type": "code",
   "execution_count": 25,
   "id": "109a858c",
   "metadata": {},
   "outputs": [
    {
     "data": {
      "text/plain": [
       "(3, 3, 2)"
      ]
     },
     "execution_count": 25,
     "metadata": {},
     "output_type": "execute_result"
    }
   ],
   "source": [
    "R.shape"
   ]
  },
  {
   "cell_type": "code",
   "execution_count": 28,
   "id": "ebe97667",
   "metadata": {},
   "outputs": [
    {
     "data": {
      "text/plain": [
       "-0.9999999999999999"
      ]
     },
     "execution_count": 28,
     "metadata": {},
     "output_type": "execute_result"
    }
   ],
   "source": [
    "np.linalg.det(U @ W @ VT)"
   ]
  },
  {
   "cell_type": "code",
   "execution_count": 29,
   "id": "e79de746",
   "metadata": {},
   "outputs": [
    {
     "data": {
      "text/plain": [
       "-0.9999999999999999"
      ]
     },
     "execution_count": 29,
     "metadata": {},
     "output_type": "execute_result"
    }
   ],
   "source": [
    "np.linalg.det(U @ W.T @ VT)"
   ]
  },
  {
   "cell_type": "markdown",
   "id": "dcb52a6f",
   "metadata": {},
   "source": [
    "## Funtion：disambiguate"
   ]
  },
  {
   "cell_type": "code",
   "execution_count": 59,
   "id": "5aa50f9c",
   "metadata": {},
   "outputs": [],
   "source": [
    "def disambiguateRelativePose(Rots,u3,points0_h,points1_h,K1,K2):\n",
    "    \"\"\" DISAMBIGUATERELATIVEPOSE- finds the correct relative camera pose (among\n",
    "     four possible configurations) by returning the one that yields points\n",
    "     lying in front of the image plane (with positive depth).\n",
    "\n",
    "     Arguments:\n",
    "       Rots -  3x3x2: the two possible rotations returned by decomposeEssentialMatrix\n",
    "       u3   -  a 3x1 vector with the translation information returned by decomposeEssentialMatrix\n",
    "       p1   -  3xN homogeneous coordinates of point correspondences in image 1\n",
    "       p2   -  3xN homogeneous coordinates of point correspondences in image 2\n",
    "       K1   -  3x3 calibration matrix for camera 1\n",
    "       K2   -  3x3 calibration matrix for camera 2\n",
    "\n",
    "     Returns:\n",
    "       R -  3x3 the correct rotation matrix\n",
    "       T -  3x1 the correct translation vector\n",
    "\n",
    "       where [R|t] = T_C2_C1 = T_C2_W is a transformation that maps points\n",
    "       from the world coordinate system (identical to the coordinate system of camera 1)\n",
    "       to camera 2.\n",
    "    \"\"\"\n",
    "    M1 = K1 @ np.c_[np.eye(3), np.zeros((3,1))]\n",
    "    M2 = np.zeros((3,4,4))\n",
    "    M2[:,:,0] = K2 @ np.c_[Rots[:,:,0], u3]\n",
    "    M2[:,:,1] = K2 @ np.c_[Rots[:,:,1], u3]\n",
    "    M2[:,:,2] = K2 @ np.c_[Rots[:,:,0], -u3]\n",
    "    M2[:,:,3] = K2 @ np.c_[Rots[:,:,1], -u3]\n",
    "    num_point_posdepth = np.zeros(4)\n",
    "    for i in range (4):\n",
    "        P_c1 = linearTriangulation(points0_h, points1_h, M1, M2[:,:,i])\n",
    "        P_c2 = np.linalg.inv(K2) @ M2[:,:,i] @ P_c1\n",
    "        num_point_posdepth[i] = np.sum(P_c1[2,:] > 0) + np.sum(P_c2[2,:] > 0)\n",
    "        \n",
    "    M_T = np.linalg.inv(K2) @ M2[:,:,np.argmax(num_point_posdepth)]\n",
    "    return M_T[:,0:3],M_T[:,3]"
   ]
  },
  {
   "cell_type": "markdown",
   "id": "01579068",
   "metadata": {},
   "source": [
    "### Test for disambiguate "
   ]
  },
  {
   "cell_type": "code",
   "execution_count": 44,
   "id": "27f49347",
   "metadata": {},
   "outputs": [],
   "source": [
    "M1 = np.c_[np.eye(3), np.zeros((3,1))]"
   ]
  },
  {
   "cell_type": "code",
   "execution_count": 45,
   "id": "9d527319",
   "metadata": {},
   "outputs": [
    {
     "data": {
      "text/plain": [
       "array([[1., 0., 0., 0.],\n",
       "       [0., 1., 0., 0.],\n",
       "       [0., 0., 1., 0.]])"
      ]
     },
     "execution_count": 45,
     "metadata": {},
     "output_type": "execute_result"
    }
   ],
   "source": [
    "M1"
   ]
  },
  {
   "cell_type": "code",
   "execution_count": 46,
   "id": "4f67c630",
   "metadata": {},
   "outputs": [
    {
     "data": {
      "text/plain": [
       "(3, 4)"
      ]
     },
     "execution_count": 46,
     "metadata": {},
     "output_type": "execute_result"
    }
   ],
   "source": [
    "M1.shape"
   ]
  },
  {
   "cell_type": "code",
   "execution_count": 47,
   "id": "4f63536e",
   "metadata": {},
   "outputs": [],
   "source": [
    "M2 = np.zeros((3,4,4))"
   ]
  },
  {
   "cell_type": "code",
   "execution_count": 48,
   "id": "d728de02",
   "metadata": {},
   "outputs": [],
   "source": [
    "K2 =K\n",
    "M2[:,:,0] = K2 @ np.c_[Rots[:,:,0], u3]\n",
    "M2[:,:,1] = K2 @ np.c_[Rots[:,:,1], u3]\n",
    "M2[:,:,2] = K2 @ np.c_[Rots[:,:,0], -u3]\n",
    "M2[:,:,3] = K2 @ np.c_[Rots[:,:,1], -u3]"
   ]
  },
  {
   "cell_type": "code",
   "execution_count": 49,
   "id": "5d14ae77",
   "metadata": {},
   "outputs": [],
   "source": [
    "num_point_posdepth = np.zeros(4)\n",
    "points0_h = p1\n",
    "points1_h = p2\n",
    "for i in range (4):\n",
    "    P_c1 = linearTriangulation(points0_h, points1_h, M1, M2[:,:,i])\n",
    "    P_c2 = np.linalg.inv(K2) @ M2[:,:,i] @ P_c1\n",
    "    num_point_posdepth[i] = np.sum(P_c1[2,:] > 0) + np.sum(P_c2[2,:] > 0)\n"
   ]
  },
  {
   "cell_type": "code",
   "execution_count": 50,
   "id": "7b712f6b",
   "metadata": {},
   "outputs": [
    {
     "data": {
      "text/plain": [
       "array([ 78., 113.,  90.,  55.])"
      ]
     },
     "execution_count": 50,
     "metadata": {},
     "output_type": "execute_result"
    }
   ],
   "source": [
    "num_point_posdepth"
   ]
  },
  {
   "cell_type": "code",
   "execution_count": 51,
   "id": "cba32e94",
   "metadata": {},
   "outputs": [
    {
     "data": {
      "text/plain": [
       "array([[ 1.20632203e+03,  5.05069178e+00,  1.01320098e+03],\n",
       "       [-1.03903932e+02,  1.38135377e+03,  4.94603353e+02],\n",
       "       [-1.93692201e-01, -1.41282075e-03,  9.81061331e-01]])"
      ]
     },
     "execution_count": 51,
     "metadata": {},
     "output_type": "execute_result"
    }
   ],
   "source": [
    "M2[:,0:3,np.argmax(num_point_posdepth)]"
   ]
  },
  {
   "cell_type": "code",
   "execution_count": 56,
   "id": "430dd684",
   "metadata": {},
   "outputs": [
    {
     "data": {
      "text/plain": [
       "1"
      ]
     },
     "execution_count": 56,
     "metadata": {},
     "output_type": "execute_result"
    }
   ],
   "source": [
    "index"
   ]
  },
  {
   "cell_type": "code",
   "execution_count": 52,
   "id": "4332fdd6",
   "metadata": {},
   "outputs": [
    {
     "data": {
      "text/plain": [
       "array([[ 9.81051429e-01,  4.43919147e-03,  1.93696639e-01,\n",
       "         9.74313235e-01],\n",
       "       [-4.62877772e-03,  9.99989149e-01,  5.26213051e-04,\n",
       "        -2.49370519e-03],\n",
       "       [-1.93692201e-01, -1.41282075e-03,  9.81061331e-01,\n",
       "        -2.25183264e-01]])"
      ]
     },
     "execution_count": 52,
     "metadata": {},
     "output_type": "execute_result"
    }
   ],
   "source": [
    "np.linalg.inv(K2) @ M2[:,:,i]"
   ]
  },
  {
   "cell_type": "markdown",
   "id": "d5125089",
   "metadata": {},
   "source": [
    "## CODE"
   ]
  },
  {
   "cell_type": "code",
   "execution_count": 28,
   "id": "86e76749",
   "metadata": {},
   "outputs": [
    {
     "name": "stdout",
     "output_type": "stream",
     "text": [
      "F:\n",
      " [[-9.57519791e-10  3.76386464e-07 -1.95028779e-04]\n",
      " [-5.24686714e-08  3.96320048e-09 -2.20888791e-03]\n",
      " [ 2.22281522e-05  1.95871052e-03  1.29791403e-01]]\n",
      "E:\n",
      " [[-1.82281364e-03  7.17735511e-01 -8.66493166e-03]\n",
      " [-1.00053090e-01  7.57028808e-03 -3.10523987e+00]\n",
      " [-6.77887209e-03  3.10538322e+00 -3.10327163e-03]]\n"
     ]
    }
   ],
   "source": [
    "# Estimate the essential matrix E using the 8-point algorithm\n",
    "E = estimateEssentialMatrix(p1, p2, K, K);\n",
    "print(\"E:\\n\", E)"
   ]
  },
  {
   "cell_type": "code",
   "execution_count": 60,
   "id": "6f26d68b",
   "metadata": {},
   "outputs": [],
   "source": [
    "# Extract the relative camera positions (R,T) from the essential matrix\n",
    "# Obtain extrinsic parameters (R,t) from E\n",
    "Rots, u3 = decomposeEssentialMatrix(E)"
   ]
  },
  {
   "cell_type": "code",
   "execution_count": 55,
   "id": "02103943",
   "metadata": {},
   "outputs": [
    {
     "data": {
      "text/plain": [
       "array([[[ 9.66560148e-01,  9.81051429e-01],\n",
       "        [-2.50368550e-04,  4.43919147e-03],\n",
       "        [-2.56439890e-01,  1.93696639e-01]],\n",
       "\n",
       "       [[-3.56035084e-04, -4.62877772e-03],\n",
       "        [-9.99999870e-01,  9.99989149e-01],\n",
       "        [-3.65624889e-04,  5.26213051e-04]],\n",
       "\n",
       "       [[-2.56439765e-01, -1.93692201e-01],\n",
       "        [ 4.44700045e-04, -1.41282075e-03],\n",
       "        [-9.66560112e-01,  9.81061331e-01]]])"
      ]
     },
     "execution_count": 55,
     "metadata": {},
     "output_type": "execute_result"
    }
   ],
   "source": [
    "Rots"
   ]
  },
  {
   "cell_type": "code",
   "execution_count": 30,
   "id": "b4723ee9",
   "metadata": {},
   "outputs": [
    {
     "data": {
      "text/plain": [
       "array([-0.97431323,  0.00249371,  0.22518326])"
      ]
     },
     "execution_count": 30,
     "metadata": {},
     "output_type": "execute_result"
    }
   ],
   "source": [
    "u3"
   ]
  },
  {
   "cell_type": "code",
   "execution_count": 61,
   "id": "42871684",
   "metadata": {},
   "outputs": [],
   "source": [
    "# Disambiguate among the four possible configurations\n",
    "R_C2_W,T_C2_W = disambiguateRelativePose(Rots, u3, p1, p2, K, K)"
   ]
  },
  {
   "cell_type": "code",
   "execution_count": 62,
   "id": "9a48264f",
   "metadata": {},
   "outputs": [
    {
     "data": {
      "text/plain": [
       "array([[ 9.81051429e-01,  4.43919147e-03,  1.93696639e-01],\n",
       "       [-4.62877772e-03,  9.99989149e-01,  5.26213051e-04],\n",
       "       [-1.93692201e-01, -1.41282075e-03,  9.81061331e-01]])"
      ]
     },
     "execution_count": 62,
     "metadata": {},
     "output_type": "execute_result"
    }
   ],
   "source": [
    "R_C2_W"
   ]
  },
  {
   "cell_type": "code",
   "execution_count": 63,
   "id": "57628530",
   "metadata": {},
   "outputs": [
    {
     "data": {
      "text/plain": [
       "array([[ 9.81051429e-01,  4.43919147e-03,  1.93696639e-01],\n",
       "       [-4.62877772e-03,  9.99989149e-01,  5.26213051e-04],\n",
       "       [-1.93692201e-01, -1.41282075e-03,  9.81061331e-01]])"
      ]
     },
     "execution_count": 63,
     "metadata": {},
     "output_type": "execute_result"
    }
   ],
   "source": [
    "R_C2_W_sol"
   ]
  },
  {
   "cell_type": "code",
   "execution_count": 64,
   "id": "b9672d59",
   "metadata": {},
   "outputs": [
    {
     "data": {
      "text/plain": [
       "array([-0.97431323,  0.00249371,  0.22518326])"
      ]
     },
     "execution_count": 64,
     "metadata": {},
     "output_type": "execute_result"
    }
   ],
   "source": [
    "T_C2_W"
   ]
  },
  {
   "cell_type": "code",
   "execution_count": 65,
   "id": "fd2a99e5",
   "metadata": {},
   "outputs": [
    {
     "data": {
      "text/plain": [
       "array([-0.97431323,  0.00249371,  0.22518326])"
      ]
     },
     "execution_count": 65,
     "metadata": {},
     "output_type": "execute_result"
    }
   ],
   "source": [
    "T_C2_W_sol"
   ]
  },
  {
   "cell_type": "code",
   "execution_count": 73,
   "id": "13c98660",
   "metadata": {},
   "outputs": [],
   "source": [
    "# Triangulate a point cloud using the final transformation (R,T)\n",
    "M1 = K @ np.eye(3,4)\n",
    "M2 = K @ np.c_[R_C2_W, T_C2_W]\n",
    "P = linearTriangulation(p1, p2, M1, M2)"
   ]
  },
  {
   "cell_type": "code",
   "execution_count": 74,
   "id": "23332b0f",
   "metadata": {},
   "outputs": [
    {
     "data": {
      "text/plain": [
       "array([[ 2.31335417e+00,  3.01024227e+00,  2.05837557e+00,\n",
       "         9.42021489e-01,  1.03659728e+00,  9.21270745e+00,\n",
       "        -1.21598145e+01,  9.25221514e-01,  1.05145270e+00,\n",
       "        -1.72336648e-02,  1.07854026e+00,  5.90502855e-01,\n",
       "         8.99612240e-01,  1.06169985e+00,  8.62361399e-01,\n",
       "        -1.80283490e+00, -2.18187564e-01,  1.28047886e+00,\n",
       "         8.85880703e-01, -1.69554571e+00,  1.03832868e+00,\n",
       "         1.40563857e+00, -2.99293070e-03,  9.79755903e-01,\n",
       "        -1.26106944e+00, -1.55727836e+00, -1.45394813e+00,\n",
       "        -1.43776132e+00,  1.56508922e+00,  6.20417593e-01,\n",
       "        -1.31269189e+00, -1.42634350e+00,  7.21252046e-02,\n",
       "         1.69985967e+00, -6.36123503e-02, -6.83903669e-01,\n",
       "         4.24453479e-01,  1.66284698e+00,  1.68818340e+00,\n",
       "         1.44578426e+00,  1.72242253e+00, -3.63128762e-01,\n",
       "        -1.33800772e+00, -1.27489663e+00, -1.23979481e+00,\n",
       "        -1.22588780e+00, -1.19696098e+00, -1.19814961e+00,\n",
       "        -1.46469143e-01,  1.51542932e+00,  1.72088725e+00,\n",
       "         1.15099041e+00,  2.00922082e+00,  1.90720875e+00,\n",
       "         1.14657600e-02, -3.18874789e-01,  1.64829673e+00,\n",
       "        -1.12200414e+00, -7.67028012e-01, -2.25639765e-01,\n",
       "         2.51991164e-01,  5.86296181e-01,  2.13015692e+00,\n",
       "        -1.10602276e+00,  1.87894900e+00,  1.11366282e+00,\n",
       "         2.31008519e-01, -1.28786491e+00,  1.26633729e+00,\n",
       "        -3.03914998e-01,  1.84441797e+00, -6.08060642e-01,\n",
       "         1.31275459e+00,  2.39621317e+00,  6.42410507e-01,\n",
       "        -1.01206994e+00,  2.50142102e+00,  1.28471955e+00,\n",
       "        -1.26471012e+00,  1.38962430e+00, -1.31890851e+00,\n",
       "        -2.23165883e-01, -1.12232200e+00,  2.41371144e+00],\n",
       "       [ 5.84485250e+00,  8.13160813e+00,  2.46913003e+00,\n",
       "        -8.65077761e-01, -5.88684644e-01,  7.19337277e+00,\n",
       "        -2.07876393e+01, -1.00639308e+00, -7.59529621e-01,\n",
       "        -2.93907487e+00, -7.60476415e-01, -1.60463314e+00,\n",
       "        -1.15169320e+00, -9.22895647e-01, -1.14085995e+00,\n",
       "        -1.06418156e+00, -2.05203189e+00, -6.73770953e-01,\n",
       "        -1.09483938e+00, -9.18557748e-01, -9.28447436e-01,\n",
       "        -6.15226547e-01, -1.31165340e+00, -8.02025007e-01,\n",
       "        -1.10981229e+00, -6.78139169e-01, -8.92032165e-01,\n",
       "        -6.86945497e-01, -4.59388302e-01, -7.22986304e-01,\n",
       "        -6.63557007e-01, -4.67196036e-01, -6.01404923e-01,\n",
       "        -3.45116079e-01, -5.23174332e-01, -5.00810145e-01,\n",
       "        -3.45571035e-01, -2.06990883e-01, -2.01664633e-01,\n",
       "        -2.13810701e-01, -1.89834117e-01, -2.92421519e-01,\n",
       "        -1.58760963e-01, -8.55367811e-02, -4.90535003e-02,\n",
       "        -2.47350942e-02, -8.30935586e-03,  4.38213052e-03,\n",
       "         5.81041816e-02,  6.37466221e-02,  7.94205210e-02,\n",
       "         1.34286326e-01,  2.18114785e-01,  2.56310310e-01,\n",
       "         4.25709083e-01,  4.36928900e-01,  3.88039096e-01,\n",
       "         4.13125604e-01,  4.68895293e-01,  5.14066361e-01,\n",
       "         5.35602584e-01,  5.45256890e-01,  4.01211695e-01,\n",
       "         4.89099900e-01,  5.12985512e-01,  6.49975764e-01,\n",
       "         6.58093926e-01,  5.67488585e-01,  1.11932954e+00,\n",
       "         1.85051052e+00,  1.03546250e+00,  1.95304813e+00,\n",
       "         1.44324769e+00,  1.23569085e+00,  2.30389327e+00,\n",
       "         2.11545652e+00,  1.27371749e+00,  1.68229504e+00,\n",
       "         2.39175392e+00, -6.39337884e-01,  2.40726724e-01,\n",
       "         6.02047614e-01,  1.67298724e+00,  1.33986768e+00],\n",
       "       [-1.72994566e+01, -2.41857066e+01, -7.29014046e+00,\n",
       "         2.81856883e+00,  1.95064365e+00, -2.12185095e+01,\n",
       "         6.60772372e+01,  3.40169436e+00,  2.63278349e+00,\n",
       "         9.99635683e+00,  2.72198267e+00,  5.68878712e+00,\n",
       "         4.34871319e+00,  3.69684021e+00,  4.57031900e+00,\n",
       "         3.81675189e+00,  8.41237240e+00,  2.94262659e+00,\n",
       "         4.80796371e+00,  3.75236809e+00,  4.51764618e+00,\n",
       "         3.19245951e+00,  7.11680169e+00,  4.88968341e+00,\n",
       "         6.27568647e+00,  3.76826639e+00,  5.17546181e+00,\n",
       "         4.59501382e+00,  3.82771676e+00,  5.78678208e+00,\n",
       "         5.32420218e+00,  3.95188551e+00,  6.22235353e+00,\n",
       "         3.90932384e+00,  6.18175969e+00,  5.90031401e+00,\n",
       "         5.80787722e+00,  4.44944956e+00,  4.41165043e+00,\n",
       "         4.85876339e+00,  4.35967585e+00,  5.99724931e+00,\n",
       "         3.66383690e+00,  3.85354876e+00,  4.33334133e+00,\n",
       "         4.33755325e+00,  4.35973246e+00,  4.36173605e+00,\n",
       "         5.95651986e+00,  5.05677715e+00,  4.87025199e+00,\n",
       "         5.75378607e+00,  4.67178944e+00,  4.85874161e+00,\n",
       "         5.98083879e+00,  5.84098967e+00,  5.23449958e+00,\n",
       "         4.67504442e+00,  5.32611081e+00,  5.89673929e+00,\n",
       "         6.16106529e+00,  6.27176977e+00,  4.82543034e+00,\n",
       "         4.63165600e+00,  5.18197072e+00,  6.27540818e+00,\n",
       "         6.17063637e+00,  3.23174832e+00,  6.42868281e+00,\n",
       "         9.90808603e+00,  5.55582181e+00,  9.37090028e+00,\n",
       "         6.56977634e+00,  5.58681918e+00,  9.56037844e+00,\n",
       "         8.38626771e+00,  5.57928828e+00,  6.71620035e+00,\n",
       "         8.20073975e+00,  3.86834324e+00,  3.26110530e+00,\n",
       "         5.84420818e+00,  8.55010213e+00,  5.65320152e+00],\n",
       "       [ 1.00000000e+00,  1.00000000e+00,  1.00000000e+00,\n",
       "         1.00000000e+00,  1.00000000e+00,  1.00000000e+00,\n",
       "         1.00000000e+00,  1.00000000e+00,  1.00000000e+00,\n",
       "         1.00000000e+00,  1.00000000e+00,  1.00000000e+00,\n",
       "         1.00000000e+00,  1.00000000e+00,  1.00000000e+00,\n",
       "         1.00000000e+00,  1.00000000e+00,  1.00000000e+00,\n",
       "         1.00000000e+00,  1.00000000e+00,  1.00000000e+00,\n",
       "         1.00000000e+00,  1.00000000e+00,  1.00000000e+00,\n",
       "         1.00000000e+00,  1.00000000e+00,  1.00000000e+00,\n",
       "         1.00000000e+00,  1.00000000e+00,  1.00000000e+00,\n",
       "         1.00000000e+00,  1.00000000e+00,  1.00000000e+00,\n",
       "         1.00000000e+00,  1.00000000e+00,  1.00000000e+00,\n",
       "         1.00000000e+00,  1.00000000e+00,  1.00000000e+00,\n",
       "         1.00000000e+00,  1.00000000e+00,  1.00000000e+00,\n",
       "         1.00000000e+00,  1.00000000e+00,  1.00000000e+00,\n",
       "         1.00000000e+00,  1.00000000e+00,  1.00000000e+00,\n",
       "         1.00000000e+00,  1.00000000e+00,  1.00000000e+00,\n",
       "         1.00000000e+00,  1.00000000e+00,  1.00000000e+00,\n",
       "         1.00000000e+00,  1.00000000e+00,  1.00000000e+00,\n",
       "         1.00000000e+00,  1.00000000e+00,  1.00000000e+00,\n",
       "         1.00000000e+00,  1.00000000e+00,  1.00000000e+00,\n",
       "         1.00000000e+00,  1.00000000e+00,  1.00000000e+00,\n",
       "         1.00000000e+00,  1.00000000e+00,  1.00000000e+00,\n",
       "         1.00000000e+00,  1.00000000e+00,  1.00000000e+00,\n",
       "         1.00000000e+00,  1.00000000e+00,  1.00000000e+00,\n",
       "         1.00000000e+00,  1.00000000e+00,  1.00000000e+00,\n",
       "         1.00000000e+00,  1.00000000e+00,  1.00000000e+00,\n",
       "         1.00000000e+00,  1.00000000e+00,  1.00000000e+00]])"
      ]
     },
     "execution_count": 74,
     "metadata": {},
     "output_type": "execute_result"
    }
   ],
   "source": [
    "P"
   ]
  },
  {
   "cell_type": "code",
   "execution_count": 76,
   "id": "b87bd3c1",
   "metadata": {},
   "outputs": [
    {
     "name": "stderr",
     "output_type": "stream",
     "text": [
      "/tmp/ipykernel_6603/2007158205.py:13: MatplotlibDeprecationWarning: \n",
      "The M attribute was deprecated in Matplotlib 3.4 and will be removed two minor releases later. Use self.axes.M instead.\n",
      "  xs, ys, zs = proj3d.proj_transform(xs3d, ys3d, zs3d, renderer.M)\n"
     ]
    },
    {
     "data": {
      "image/png": "[encoded data removed]",
      "text/plain": [
       "<Figure size 640x480 with 3 Axes>"
      ]
     },
     "metadata": {},
     "output_type": "display_data"
    }
   ],
   "source": [
    "#Visualize the 3-D scene\n",
    "fig = plt.figure()\n",
    "ax = fig.add_subplot(1, 3, 1, projection='3d')\n",
    "\n",
    "# R,T should encode the pose of camera 2, such that M1 = [I|0] and M2=[R|t]\n",
    "\n",
    "# P is a [4xN] matrix containing the triangulated point cloud (in\n",
    "# homogeneous coordinates), given by the function linearTriangulation\n",
    "ax.scatter(P[0,:], P[1,:], P[2,:], marker = 'o')\n",
    "\n",
    "# Display camera pose\n",
    "drawCamera(ax, np.zeros((3,)), np.eye(3), length_scale = 2)\n",
    "ax.text(-0.1,-0.1,-0.1,\"Cam 1\")\n",
    "\n",
    "center_cam2_W = -R_C2_W.T @ T_C2_W\n",
    "drawCamera(ax, center_cam2_W, R_C2_W.T, length_scale = 2)\n",
    "ax.text(center_cam2_W[0]-0.1, center_cam2_W[1]-0.1, center_cam2_W[2]-0.1,'Cam 2')\n",
    "\n",
    "# Display matched points\n",
    "ax = fig.add_subplot(1,3,2)\n",
    "ax.imshow(img_1)\n",
    "ax.scatter(p1[0,:], p1[1,:], color = 'y', marker='s')\n",
    "ax.set_title(\"Image 1\")\n",
    "\n",
    "ax = fig.add_subplot(1,3,3)\n",
    "ax.imshow(img_2)\n",
    "ax.scatter(p2[0,:], p2[1,:], color = 'y', marker='s')\n",
    "ax.set_title(\"Image 2\")\n",
    "\n",
    "plt.show()"
   ]
  },
  {
   "cell_type": "markdown",
   "id": "4a61dd0a",
   "metadata": {},
   "source": [
    " [[-1.82281364e-03  7.17735511e-01 -8.66493166e-03]\n",
    " [-1.00053090e-01  7.57028808e-03 -3.10523987e+00]\n",
    " [-6.77887209e-03  3.10538322e+00 -3.10327163e-03]]"
   ]
  },
  {
   "cell_type": "code",
   "execution_count": null,
   "id": "4bfa0e9f",
   "metadata": {},
   "outputs": [],
   "source": []
  },
  {
   "cell_type": "markdown",
   "id": "dddba8f8",
   "metadata": {},
   "source": [
    "##  Solution"
   ]
  },
  {
   "cell_type": "code",
   "execution_count": 24,
   "id": "ea8732ca",
   "metadata": {},
   "outputs": [],
   "source": [
    "def estimateEssentialMatrix_solution(p1, p2, K1, K2):\n",
    "    \"\"\" estimates the essential matrix given matching point coordinates,\n",
    "        and the camera calibration K\n",
    "\n",
    "     Input: point correspondences\n",
    "      - p1 np.ndarray(3,N): homogeneous coordinates of 2-D points in image 1\n",
    "      - p2 np.ndarray(3,N): homogeneous coordinates of 2-D points in image 2\n",
    "      - K1 np.ndarray(3,3): calibration matrix of camera 1\n",
    "      - K2 np.ndarray(3,3): calibration matrix of camera 2\n",
    "\n",
    "     Output:\n",
    "      - E np.ndarray(3,3) : fundamental matrix\n",
    "    \"\"\"\n",
    "\n",
    "    F = fundamentalEightPointNormalized(p1, p2);\n",
    "    print(\"F:\\n\", F)\n",
    "\n",
    "    # Compute the essential matrix from the fundamental matrix given K\n",
    "    E = K2.T @ F @ K1\n",
    "\n",
    "    return E"
   ]
  },
  {
   "cell_type": "code",
   "execution_count": 25,
   "id": "aadd5b58",
   "metadata": {},
   "outputs": [
    {
     "name": "stdout",
     "output_type": "stream",
     "text": [
      "F:\n",
      " [[-9.57519791e-10  3.76386464e-07 -1.95028779e-04]\n",
      " [-5.24686714e-08  3.96320048e-09 -2.20888791e-03]\n",
      " [ 2.22281522e-05  1.95871052e-03  1.29791403e-01]]\n",
      "E:\n",
      " [[-1.82281364e-03  7.17735511e-01 -8.66493166e-03]\n",
      " [-1.00053090e-01  7.57028808e-03 -3.10523987e+00]\n",
      " [-6.77887209e-03  3.10538322e+00 -3.10327163e-03]]\n"
     ]
    }
   ],
   "source": [
    "# Estimate the essential matrix E using the 8-point algorithm\n",
    "E = estimateEssentialMatrix_solution(p1, p2, K, K);\n",
    "print(\"E:\\n\", E)"
   ]
  },
  {
   "cell_type": "code",
   "execution_count": 31,
   "id": "3e24a90e",
   "metadata": {},
   "outputs": [],
   "source": [
    "def decomposeEssentialMatrix_sol(E):\n",
    "    \"\"\" Given an essential matrix, compute the camera motion, i.e.,  R and T such\n",
    "     that E ~ T_x R\n",
    "     \n",
    "     Input:\n",
    "       - E(3,3) : Essential matrix\n",
    "\n",
    "     Output:\n",
    "       - R(3,3,2) : the two possible rotations\n",
    "       - u3(3,1)   : a vector with the translation information\n",
    "    \"\"\"\n",
    "\n",
    "    u, _, vh = np.linalg.svd(E)\n",
    "\n",
    "    # Translation\n",
    "    u3 = u[:, 2]\n",
    "\n",
    "    # Rotations\n",
    "    W = np.array([ [0, -1,  0],\n",
    "                   [1,  0,  0],\n",
    "                   [0,  0,  1]])\n",
    "\n",
    "    R = np.zeros((3,3,2))\n",
    "    R[:, :, 0] = u @ W @ vh\n",
    "    R[:, :, 1] = u @ W.T @ vh\n",
    "\n",
    "    for i in range(2):\n",
    "        if np.linalg.det(R[:, :, i]) < 0:\n",
    "            R[:, :, i] *= -1\n",
    "\n",
    "    if np.linalg.norm(u3) != 0:\n",
    "        u3 /= np.linalg.norm(u3)\n",
    "\n",
    "    return R, u3\n"
   ]
  },
  {
   "cell_type": "code",
   "execution_count": 32,
   "id": "962461a5",
   "metadata": {},
   "outputs": [],
   "source": [
    "# Extract the relative camera positions (R,T) from the essential matrix\n",
    "# Obtain extrinsic parameters (R,t) from E\n",
    "Rots, u3 = decomposeEssentialMatrix_sol(E)"
   ]
  },
  {
   "cell_type": "code",
   "execution_count": 33,
   "id": "c20066d4",
   "metadata": {},
   "outputs": [
    {
     "data": {
      "text/plain": [
       "array([[[ 9.66560148e-01,  9.81051429e-01],\n",
       "        [-2.50368550e-04,  4.43919147e-03],\n",
       "        [-2.56439890e-01,  1.93696639e-01]],\n",
       "\n",
       "       [[-3.56035084e-04, -4.62877772e-03],\n",
       "        [-9.99999870e-01,  9.99989149e-01],\n",
       "        [-3.65624889e-04,  5.26213051e-04]],\n",
       "\n",
       "       [[-2.56439765e-01, -1.93692201e-01],\n",
       "        [ 4.44700045e-04, -1.41282075e-03],\n",
       "        [-9.66560112e-01,  9.81061331e-01]]])"
      ]
     },
     "execution_count": 33,
     "metadata": {},
     "output_type": "execute_result"
    }
   ],
   "source": [
    "Rots"
   ]
  },
  {
   "cell_type": "code",
   "execution_count": 34,
   "id": "24068285",
   "metadata": {},
   "outputs": [
    {
     "data": {
      "text/plain": [
       "array([-0.97431323,  0.00249371,  0.22518326])"
      ]
     },
     "execution_count": 34,
     "metadata": {},
     "output_type": "execute_result"
    }
   ],
   "source": [
    "u3"
   ]
  },
  {
   "cell_type": "code",
   "execution_count": 37,
   "id": "98afe68e",
   "metadata": {},
   "outputs": [],
   "source": [
    "def disambiguateRelativePose_sol(Rots,u3,points0_h,points1_h,K1,K2):\n",
    "    \"\"\" DISAMBIGUATERELATIVEPOSE- finds the correct relative camera pose (among\n",
    "     four possible configurations) by returning the one that yields points\n",
    "     lying in front of the image plane (with positive depth).\n",
    "\n",
    "     Arguments:\n",
    "       Rots -  3x3x2: the two possible rotations returned by decomposeEssentialMatrix\n",
    "       u3   -  a 3x1 vector with the translation information returned by decomposeEssentialMatrix\n",
    "       p1   -  3xN homogeneous coordinates of point correspondences in image 1\n",
    "       p2   -  3xN homogeneous coordinates of point correspondences in image 2\n",
    "       K1   -  3x3 calibration matrix for camera 1\n",
    "       K2   -  3x3 calibration matrix for camera 2\n",
    "\n",
    "     Returns:\n",
    "       R -  3x3 the correct rotation matrix\n",
    "       T -  3x1 the correct translation vector\n",
    "\n",
    "       where [R|t] = T_C2_C1 = T_C2_W is a transformation that maps points\n",
    "       from the world coordinate system (identical to the coordinate system of camera 1)\n",
    "       to camera 2.\n",
    "    \"\"\"\n",
    "\n",
    "    # Projection matrix of camera 1\n",
    "    M1 = K1 @ np.eye(3,4)\n",
    "\n",
    "    total_points_in_front_best = 0\n",
    "    for iRot in range(2):\n",
    "        R_C2_C1_test = Rots[:,:,iRot]\n",
    "        \n",
    "        for iSignT in range(2):\n",
    "            T_C2_C1_test = u3 * (-1)**iSignT\n",
    "            \n",
    "            M2 = K2 @ np.c_[R_C2_C1_test, T_C2_C1_test]\n",
    "            P_C1 = linearTriangulation(points0_h, points1_h, M1, M2)\n",
    "            \n",
    "            # project in both cameras\n",
    "            P_C2 = np.c_[R_C2_C1_test, T_C2_C1_test] @ P_C1\n",
    "            \n",
    "            num_points_in_front1 = np.sum(P_C1[2,:] > 0)\n",
    "            num_points_in_front2 = np.sum(P_C2[2,:] > 0)\n",
    "            total_points_in_front = num_points_in_front1 + num_points_in_front2\n",
    "                  \n",
    "            if (total_points_in_front > total_points_in_front_best):\n",
    "                # Keep the rotation that gives the highest number of points\n",
    "                # in front of both cameras\n",
    "                R = R_C2_C1_test;\n",
    "                T = T_C2_C1_test;\n",
    "                total_points_in_front_best = total_points_in_front;\n",
    "\n",
    "    return R, T"
   ]
  },
  {
   "cell_type": "code",
   "execution_count": 38,
   "id": "ddb875c2",
   "metadata": {},
   "outputs": [],
   "source": [
    "# Disambiguate among the four possible configurations\n",
    "R_C2_W_sol,T_C2_W_sol = disambiguateRelativePose_sol(Rots, u3, p1, p2, K, K)"
   ]
  },
  {
   "cell_type": "code",
   "execution_count": 39,
   "id": "a220fb33",
   "metadata": {},
   "outputs": [
    {
     "data": {
      "text/plain": [
       "array([[ 9.81051429e-01,  4.43919147e-03,  1.93696639e-01],\n",
       "       [-4.62877772e-03,  9.99989149e-01,  5.26213051e-04],\n",
       "       [-1.93692201e-01, -1.41282075e-03,  9.81061331e-01]])"
      ]
     },
     "execution_count": 39,
     "metadata": {},
     "output_type": "execute_result"
    }
   ],
   "source": [
    "R_C2_W_sol"
   ]
  },
  {
   "cell_type": "code",
   "execution_count": 40,
   "id": "91a2157e",
   "metadata": {},
   "outputs": [
    {
     "data": {
      "text/plain": [
       "array([-0.97431323,  0.00249371,  0.22518326])"
      ]
     },
     "execution_count": 40,
     "metadata": {},
     "output_type": "execute_result"
    }
   ],
   "source": [
    "T_C2_W_sol"
   ]
  },
  {
   "cell_type": "code",
   "execution_count": 71,
   "id": "37aa0859",
   "metadata": {},
   "outputs": [],
   "source": [
    "# Triangulate a point cloud using the final transformation (R,T)\n",
    "M1 = K @ np.eye(3,4)\n",
    "M2 = K @ np.c_[R_C2_W_sol, T_C2_W_sol]\n",
    "P_sol = linearTriangulation(p1, p2, M1, M2)"
   ]
  },
  {
   "cell_type": "code",
   "execution_count": 72,
   "id": "cb2f786f",
   "metadata": {},
   "outputs": [
    {
     "data": {
      "text/plain": [
       "array([[ 2.31335417e+00,  3.01024227e+00,  2.05837557e+00,\n",
       "         9.42021489e-01,  1.03659728e+00,  9.21270745e+00,\n",
       "        -1.21598145e+01,  9.25221514e-01,  1.05145270e+00,\n",
       "        -1.72336648e-02,  1.07854026e+00,  5.90502855e-01,\n",
       "         8.99612240e-01,  1.06169985e+00,  8.62361399e-01,\n",
       "        -1.80283490e+00, -2.18187564e-01,  1.28047886e+00,\n",
       "         8.85880703e-01, -1.69554571e+00,  1.03832868e+00,\n",
       "         1.40563857e+00, -2.99293070e-03,  9.79755903e-01,\n",
       "        -1.26106944e+00, -1.55727836e+00, -1.45394813e+00,\n",
       "        -1.43776132e+00,  1.56508922e+00,  6.20417593e-01,\n",
       "        -1.31269189e+00, -1.42634350e+00,  7.21252046e-02,\n",
       "         1.69985967e+00, -6.36123503e-02, -6.83903669e-01,\n",
       "         4.24453479e-01,  1.66284698e+00,  1.68818340e+00,\n",
       "         1.44578426e+00,  1.72242253e+00, -3.63128762e-01,\n",
       "        -1.33800772e+00, -1.27489663e+00, -1.23979481e+00,\n",
       "        -1.22588780e+00, -1.19696098e+00, -1.19814961e+00,\n",
       "        -1.46469143e-01,  1.51542932e+00,  1.72088725e+00,\n",
       "         1.15099041e+00,  2.00922082e+00,  1.90720875e+00,\n",
       "         1.14657600e-02, -3.18874789e-01,  1.64829673e+00,\n",
       "        -1.12200414e+00, -7.67028012e-01, -2.25639765e-01,\n",
       "         2.51991164e-01,  5.86296181e-01,  2.13015692e+00,\n",
       "        -1.10602276e+00,  1.87894900e+00,  1.11366282e+00,\n",
       "         2.31008519e-01, -1.28786491e+00,  1.26633729e+00,\n",
       "        -3.03914998e-01,  1.84441797e+00, -6.08060642e-01,\n",
       "         1.31275459e+00,  2.39621317e+00,  6.42410507e-01,\n",
       "        -1.01206994e+00,  2.50142102e+00,  1.28471955e+00,\n",
       "        -1.26471012e+00,  1.38962430e+00, -1.31890851e+00,\n",
       "        -2.23165883e-01, -1.12232200e+00,  2.41371144e+00],\n",
       "       [ 5.84485250e+00,  8.13160813e+00,  2.46913003e+00,\n",
       "        -8.65077761e-01, -5.88684644e-01,  7.19337277e+00,\n",
       "        -2.07876393e+01, -1.00639308e+00, -7.59529621e-01,\n",
       "        -2.93907487e+00, -7.60476415e-01, -1.60463314e+00,\n",
       "        -1.15169320e+00, -9.22895647e-01, -1.14085995e+00,\n",
       "        -1.06418156e+00, -2.05203189e+00, -6.73770953e-01,\n",
       "        -1.09483938e+00, -9.18557748e-01, -9.28447436e-01,\n",
       "        -6.15226547e-01, -1.31165340e+00, -8.02025007e-01,\n",
       "        -1.10981229e+00, -6.78139169e-01, -8.92032165e-01,\n",
       "        -6.86945497e-01, -4.59388302e-01, -7.22986304e-01,\n",
       "        -6.63557007e-01, -4.67196036e-01, -6.01404923e-01,\n",
       "        -3.45116079e-01, -5.23174332e-01, -5.00810145e-01,\n",
       "        -3.45571035e-01, -2.06990883e-01, -2.01664633e-01,\n",
       "        -2.13810701e-01, -1.89834117e-01, -2.92421519e-01,\n",
       "        -1.58760963e-01, -8.55367811e-02, -4.90535003e-02,\n",
       "        -2.47350942e-02, -8.30935586e-03,  4.38213052e-03,\n",
       "         5.81041816e-02,  6.37466221e-02,  7.94205210e-02,\n",
       "         1.34286326e-01,  2.18114785e-01,  2.56310310e-01,\n",
       "         4.25709083e-01,  4.36928900e-01,  3.88039096e-01,\n",
       "         4.13125604e-01,  4.68895293e-01,  5.14066361e-01,\n",
       "         5.35602584e-01,  5.45256890e-01,  4.01211695e-01,\n",
       "         4.89099900e-01,  5.12985512e-01,  6.49975764e-01,\n",
       "         6.58093926e-01,  5.67488585e-01,  1.11932954e+00,\n",
       "         1.85051052e+00,  1.03546250e+00,  1.95304813e+00,\n",
       "         1.44324769e+00,  1.23569085e+00,  2.30389327e+00,\n",
       "         2.11545652e+00,  1.27371749e+00,  1.68229504e+00,\n",
       "         2.39175392e+00, -6.39337884e-01,  2.40726724e-01,\n",
       "         6.02047614e-01,  1.67298724e+00,  1.33986768e+00],\n",
       "       [-1.72994566e+01, -2.41857066e+01, -7.29014046e+00,\n",
       "         2.81856883e+00,  1.95064365e+00, -2.12185095e+01,\n",
       "         6.60772372e+01,  3.40169436e+00,  2.63278349e+00,\n",
       "         9.99635683e+00,  2.72198267e+00,  5.68878712e+00,\n",
       "         4.34871319e+00,  3.69684021e+00,  4.57031900e+00,\n",
       "         3.81675189e+00,  8.41237240e+00,  2.94262659e+00,\n",
       "         4.80796371e+00,  3.75236809e+00,  4.51764618e+00,\n",
       "         3.19245951e+00,  7.11680169e+00,  4.88968341e+00,\n",
       "         6.27568647e+00,  3.76826639e+00,  5.17546181e+00,\n",
       "         4.59501382e+00,  3.82771676e+00,  5.78678208e+00,\n",
       "         5.32420218e+00,  3.95188551e+00,  6.22235353e+00,\n",
       "         3.90932384e+00,  6.18175969e+00,  5.90031401e+00,\n",
       "         5.80787722e+00,  4.44944956e+00,  4.41165043e+00,\n",
       "         4.85876339e+00,  4.35967585e+00,  5.99724931e+00,\n",
       "         3.66383690e+00,  3.85354876e+00,  4.33334133e+00,\n",
       "         4.33755325e+00,  4.35973246e+00,  4.36173605e+00,\n",
       "         5.95651986e+00,  5.05677715e+00,  4.87025199e+00,\n",
       "         5.75378607e+00,  4.67178944e+00,  4.85874161e+00,\n",
       "         5.98083879e+00,  5.84098967e+00,  5.23449958e+00,\n",
       "         4.67504442e+00,  5.32611081e+00,  5.89673929e+00,\n",
       "         6.16106529e+00,  6.27176977e+00,  4.82543034e+00,\n",
       "         4.63165600e+00,  5.18197072e+00,  6.27540818e+00,\n",
       "         6.17063637e+00,  3.23174832e+00,  6.42868281e+00,\n",
       "         9.90808603e+00,  5.55582181e+00,  9.37090028e+00,\n",
       "         6.56977634e+00,  5.58681918e+00,  9.56037844e+00,\n",
       "         8.38626771e+00,  5.57928828e+00,  6.71620035e+00,\n",
       "         8.20073975e+00,  3.86834324e+00,  3.26110530e+00,\n",
       "         5.84420818e+00,  8.55010213e+00,  5.65320152e+00],\n",
       "       [ 1.00000000e+00,  1.00000000e+00,  1.00000000e+00,\n",
       "         1.00000000e+00,  1.00000000e+00,  1.00000000e+00,\n",
       "         1.00000000e+00,  1.00000000e+00,  1.00000000e+00,\n",
       "         1.00000000e+00,  1.00000000e+00,  1.00000000e+00,\n",
       "         1.00000000e+00,  1.00000000e+00,  1.00000000e+00,\n",
       "         1.00000000e+00,  1.00000000e+00,  1.00000000e+00,\n",
       "         1.00000000e+00,  1.00000000e+00,  1.00000000e+00,\n",
       "         1.00000000e+00,  1.00000000e+00,  1.00000000e+00,\n",
       "         1.00000000e+00,  1.00000000e+00,  1.00000000e+00,\n",
       "         1.00000000e+00,  1.00000000e+00,  1.00000000e+00,\n",
       "         1.00000000e+00,  1.00000000e+00,  1.00000000e+00,\n",
       "         1.00000000e+00,  1.00000000e+00,  1.00000000e+00,\n",
       "         1.00000000e+00,  1.00000000e+00,  1.00000000e+00,\n",
       "         1.00000000e+00,  1.00000000e+00,  1.00000000e+00,\n",
       "         1.00000000e+00,  1.00000000e+00,  1.00000000e+00,\n",
       "         1.00000000e+00,  1.00000000e+00,  1.00000000e+00,\n",
       "         1.00000000e+00,  1.00000000e+00,  1.00000000e+00,\n",
       "         1.00000000e+00,  1.00000000e+00,  1.00000000e+00,\n",
       "         1.00000000e+00,  1.00000000e+00,  1.00000000e+00,\n",
       "         1.00000000e+00,  1.00000000e+00,  1.00000000e+00,\n",
       "         1.00000000e+00,  1.00000000e+00,  1.00000000e+00,\n",
       "         1.00000000e+00,  1.00000000e+00,  1.00000000e+00,\n",
       "         1.00000000e+00,  1.00000000e+00,  1.00000000e+00,\n",
       "         1.00000000e+00,  1.00000000e+00,  1.00000000e+00,\n",
       "         1.00000000e+00,  1.00000000e+00,  1.00000000e+00,\n",
       "         1.00000000e+00,  1.00000000e+00,  1.00000000e+00,\n",
       "         1.00000000e+00,  1.00000000e+00,  1.00000000e+00,\n",
       "         1.00000000e+00,  1.00000000e+00,  1.00000000e+00]])"
      ]
     },
     "execution_count": 72,
     "metadata": {},
     "output_type": "execute_result"
    }
   ],
   "source": [
    "P_sol"
   ]
  },
  {
   "cell_type": "code",
   "execution_count": 75,
   "id": "d4268ba2",
   "metadata": {},
   "outputs": [
    {
     "data": {
      "text/plain": [
       "array([[ 2.31335417e+00,  3.01024227e+00,  2.05837557e+00,\n",
       "         9.42021489e-01,  1.03659728e+00,  9.21270745e+00,\n",
       "        -1.21598145e+01,  9.25221514e-01,  1.05145270e+00,\n",
       "        -1.72336648e-02,  1.07854026e+00,  5.90502855e-01,\n",
       "         8.99612240e-01,  1.06169985e+00,  8.62361399e-01,\n",
       "        -1.80283490e+00, -2.18187564e-01,  1.28047886e+00,\n",
       "         8.85880703e-01, -1.69554571e+00,  1.03832868e+00,\n",
       "         1.40563857e+00, -2.99293070e-03,  9.79755903e-01,\n",
       "        -1.26106944e+00, -1.55727836e+00, -1.45394813e+00,\n",
       "        -1.43776132e+00,  1.56508922e+00,  6.20417593e-01,\n",
       "        -1.31269189e+00, -1.42634350e+00,  7.21252046e-02,\n",
       "         1.69985967e+00, -6.36123503e-02, -6.83903669e-01,\n",
       "         4.24453479e-01,  1.66284698e+00,  1.68818340e+00,\n",
       "         1.44578426e+00,  1.72242253e+00, -3.63128762e-01,\n",
       "        -1.33800772e+00, -1.27489663e+00, -1.23979481e+00,\n",
       "        -1.22588780e+00, -1.19696098e+00, -1.19814961e+00,\n",
       "        -1.46469143e-01,  1.51542932e+00,  1.72088725e+00,\n",
       "         1.15099041e+00,  2.00922082e+00,  1.90720875e+00,\n",
       "         1.14657600e-02, -3.18874789e-01,  1.64829673e+00,\n",
       "        -1.12200414e+00, -7.67028012e-01, -2.25639765e-01,\n",
       "         2.51991164e-01,  5.86296181e-01,  2.13015692e+00,\n",
       "        -1.10602276e+00,  1.87894900e+00,  1.11366282e+00,\n",
       "         2.31008519e-01, -1.28786491e+00,  1.26633729e+00,\n",
       "        -3.03914998e-01,  1.84441797e+00, -6.08060642e-01,\n",
       "         1.31275459e+00,  2.39621317e+00,  6.42410507e-01,\n",
       "        -1.01206994e+00,  2.50142102e+00,  1.28471955e+00,\n",
       "        -1.26471012e+00,  1.38962430e+00, -1.31890851e+00,\n",
       "        -2.23165883e-01, -1.12232200e+00,  2.41371144e+00],\n",
       "       [ 5.84485250e+00,  8.13160813e+00,  2.46913003e+00,\n",
       "        -8.65077761e-01, -5.88684644e-01,  7.19337277e+00,\n",
       "        -2.07876393e+01, -1.00639308e+00, -7.59529621e-01,\n",
       "        -2.93907487e+00, -7.60476415e-01, -1.60463314e+00,\n",
       "        -1.15169320e+00, -9.22895647e-01, -1.14085995e+00,\n",
       "        -1.06418156e+00, -2.05203189e+00, -6.73770953e-01,\n",
       "        -1.09483938e+00, -9.18557748e-01, -9.28447436e-01,\n",
       "        -6.15226547e-01, -1.31165340e+00, -8.02025007e-01,\n",
       "        -1.10981229e+00, -6.78139169e-01, -8.92032165e-01,\n",
       "        -6.86945497e-01, -4.59388302e-01, -7.22986304e-01,\n",
       "        -6.63557007e-01, -4.67196036e-01, -6.01404923e-01,\n",
       "        -3.45116079e-01, -5.23174332e-01, -5.00810145e-01,\n",
       "        -3.45571035e-01, -2.06990883e-01, -2.01664633e-01,\n",
       "        -2.13810701e-01, -1.89834117e-01, -2.92421519e-01,\n",
       "        -1.58760963e-01, -8.55367811e-02, -4.90535003e-02,\n",
       "        -2.47350942e-02, -8.30935586e-03,  4.38213052e-03,\n",
       "         5.81041816e-02,  6.37466221e-02,  7.94205210e-02,\n",
       "         1.34286326e-01,  2.18114785e-01,  2.56310310e-01,\n",
       "         4.25709083e-01,  4.36928900e-01,  3.88039096e-01,\n",
       "         4.13125604e-01,  4.68895293e-01,  5.14066361e-01,\n",
       "         5.35602584e-01,  5.45256890e-01,  4.01211695e-01,\n",
       "         4.89099900e-01,  5.12985512e-01,  6.49975764e-01,\n",
       "         6.58093926e-01,  5.67488585e-01,  1.11932954e+00,\n",
       "         1.85051052e+00,  1.03546250e+00,  1.95304813e+00,\n",
       "         1.44324769e+00,  1.23569085e+00,  2.30389327e+00,\n",
       "         2.11545652e+00,  1.27371749e+00,  1.68229504e+00,\n",
       "         2.39175392e+00, -6.39337884e-01,  2.40726724e-01,\n",
       "         6.02047614e-01,  1.67298724e+00,  1.33986768e+00],\n",
       "       [-1.72994566e+01, -2.41857066e+01, -7.29014046e+00,\n",
       "         2.81856883e+00,  1.95064365e+00, -2.12185095e+01,\n",
       "         6.60772372e+01,  3.40169436e+00,  2.63278349e+00,\n",
       "         9.99635683e+00,  2.72198267e+00,  5.68878712e+00,\n",
       "         4.34871319e+00,  3.69684021e+00,  4.57031900e+00,\n",
       "         3.81675189e+00,  8.41237240e+00,  2.94262659e+00,\n",
       "         4.80796371e+00,  3.75236809e+00,  4.51764618e+00,\n",
       "         3.19245951e+00,  7.11680169e+00,  4.88968341e+00,\n",
       "         6.27568647e+00,  3.76826639e+00,  5.17546181e+00,\n",
       "         4.59501382e+00,  3.82771676e+00,  5.78678208e+00,\n",
       "         5.32420218e+00,  3.95188551e+00,  6.22235353e+00,\n",
       "         3.90932384e+00,  6.18175969e+00,  5.90031401e+00,\n",
       "         5.80787722e+00,  4.44944956e+00,  4.41165043e+00,\n",
       "         4.85876339e+00,  4.35967585e+00,  5.99724931e+00,\n",
       "         3.66383690e+00,  3.85354876e+00,  4.33334133e+00,\n",
       "         4.33755325e+00,  4.35973246e+00,  4.36173605e+00,\n",
       "         5.95651986e+00,  5.05677715e+00,  4.87025199e+00,\n",
       "         5.75378607e+00,  4.67178944e+00,  4.85874161e+00,\n",
       "         5.98083879e+00,  5.84098967e+00,  5.23449958e+00,\n",
       "         4.67504442e+00,  5.32611081e+00,  5.89673929e+00,\n",
       "         6.16106529e+00,  6.27176977e+00,  4.82543034e+00,\n",
       "         4.63165600e+00,  5.18197072e+00,  6.27540818e+00,\n",
       "         6.17063637e+00,  3.23174832e+00,  6.42868281e+00,\n",
       "         9.90808603e+00,  5.55582181e+00,  9.37090028e+00,\n",
       "         6.56977634e+00,  5.58681918e+00,  9.56037844e+00,\n",
       "         8.38626771e+00,  5.57928828e+00,  6.71620035e+00,\n",
       "         8.20073975e+00,  3.86834324e+00,  3.26110530e+00,\n",
       "         5.84420818e+00,  8.55010213e+00,  5.65320152e+00],\n",
       "       [ 1.00000000e+00,  1.00000000e+00,  1.00000000e+00,\n",
       "         1.00000000e+00,  1.00000000e+00,  1.00000000e+00,\n",
       "         1.00000000e+00,  1.00000000e+00,  1.00000000e+00,\n",
       "         1.00000000e+00,  1.00000000e+00,  1.00000000e+00,\n",
       "         1.00000000e+00,  1.00000000e+00,  1.00000000e+00,\n",
       "         1.00000000e+00,  1.00000000e+00,  1.00000000e+00,\n",
       "         1.00000000e+00,  1.00000000e+00,  1.00000000e+00,\n",
       "         1.00000000e+00,  1.00000000e+00,  1.00000000e+00,\n",
       "         1.00000000e+00,  1.00000000e+00,  1.00000000e+00,\n",
       "         1.00000000e+00,  1.00000000e+00,  1.00000000e+00,\n",
       "         1.00000000e+00,  1.00000000e+00,  1.00000000e+00,\n",
       "         1.00000000e+00,  1.00000000e+00,  1.00000000e+00,\n",
       "         1.00000000e+00,  1.00000000e+00,  1.00000000e+00,\n",
       "         1.00000000e+00,  1.00000000e+00,  1.00000000e+00,\n",
       "         1.00000000e+00,  1.00000000e+00,  1.00000000e+00,\n",
       "         1.00000000e+00,  1.00000000e+00,  1.00000000e+00,\n",
       "         1.00000000e+00,  1.00000000e+00,  1.00000000e+00,\n",
       "         1.00000000e+00,  1.00000000e+00,  1.00000000e+00,\n",
       "         1.00000000e+00,  1.00000000e+00,  1.00000000e+00,\n",
       "         1.00000000e+00,  1.00000000e+00,  1.00000000e+00,\n",
       "         1.00000000e+00,  1.00000000e+00,  1.00000000e+00,\n",
       "         1.00000000e+00,  1.00000000e+00,  1.00000000e+00,\n",
       "         1.00000000e+00,  1.00000000e+00,  1.00000000e+00,\n",
       "         1.00000000e+00,  1.00000000e+00,  1.00000000e+00,\n",
       "         1.00000000e+00,  1.00000000e+00,  1.00000000e+00,\n",
       "         1.00000000e+00,  1.00000000e+00,  1.00000000e+00,\n",
       "         1.00000000e+00,  1.00000000e+00,  1.00000000e+00,\n",
       "         1.00000000e+00,  1.00000000e+00,  1.00000000e+00]])"
      ]
     },
     "execution_count": 75,
     "metadata": {},
     "output_type": "execute_result"
    }
   ],
   "source": [
    "P"
   ]
  },
  {
   "cell_type": "code",
   "execution_count": null,
   "id": "8da52ac3",
   "metadata": {},
   "outputs": [],
   "source": []
  }
 ],
 "metadata": {
  "kernelspec": {
   "display_name": "Python [conda env:VAMR]",
   "language": "python",
   "name": "conda-env-VAMR-py"
  },
  "language_info": {
   "codemirror_mode": {
    "name": "ipython",
    "version": 3
   },
   "file_extension": ".py",
   "mimetype": "text/x-python",
   "name": "python",
   "nbconvert_exporter": "python",
   "pygments_lexer": "ipython3",
   "version": "3.8.13"
  }
 },
 "nbformat": 4,
 "nbformat_minor": 5
}
