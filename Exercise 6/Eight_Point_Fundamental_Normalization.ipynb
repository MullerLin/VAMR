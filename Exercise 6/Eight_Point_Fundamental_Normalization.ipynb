{
 "cells": [
  {
   "cell_type": "code",
   "execution_count": 1,
   "id": "27846a88",
   "metadata": {},
   "outputs": [],
   "source": [
    "import numpy as np"
   ]
  },
  {
   "cell_type": "code",
   "execution_count": 2,
   "id": "2d16cf69",
   "metadata": {},
   "outputs": [],
   "source": [
    "def distPoint2EpipolarLine(F, p1, p2):\n",
    "    \"\"\" Compute the point-to-epipolar-line distance\n",
    "\n",
    "       Input:\n",
    "       - F np.ndarray(3,3): Fundamental matrix\n",
    "       - p1 np.ndarray(3,N): homogeneous coords of the observed points in image 1\n",
    "       - p2 np.ndarray(3,N): homogeneous coords of the observed points in image 2\n",
    "\n",
    "       Output:\n",
    "       - cost: sum of squared distance from points to epipolar lines\n",
    "               normalized by the number of point coordinates\n",
    "    \"\"\"\n",
    "\n",
    "    N = p1.shape[1]\n",
    "\n",
    "    homog_points = np.c_[p1, p2]\n",
    "    epi_lines = np.c_[F.T @ p2, F @ p1]\n",
    "\n",
    "    denom = epi_lines[0,:]**2 + epi_lines[1,:]**2\n",
    "    cost = np.sqrt( np.sum( np.sum( epi_lines * homog_points, axis = 0)**2 / denom) / N)\n",
    "\n",
    "    return cost"
   ]
  },
  {
   "cell_type": "code",
   "execution_count": 86,
   "id": "9fc66b4a",
   "metadata": {},
   "outputs": [],
   "source": [
    "def fundamentalEightPoint(p1, p2):\n",
    "    \"\"\" The 8-point algorithm for the estimation of the fundamental matrix F\n",
    "\n",
    "     The eight-point algorithm for the fundamental matrix with a posteriori\n",
    "     enforcement of the singularity constraint (det(F)=0).\n",
    "     Does not include data normalization.\n",
    "\n",
    "     Reference: \"Multiple View Geometry\" (Hartley & Zisserman 2000), Sect. 10.1 page 262.\n",
    "\n",
    "     Input: point correspondences\n",
    "      - p1 np.ndarray(3,N): homogeneous coordinates of 2-D points in image 1\n",
    "      - p2 np.ndarray(3,N): homogeneous coordinates of 2-D points in image 2\n",
    "\n",
    "     Output:\n",
    "      - F np.ndarray(3,3) : fundamental matrix\n",
    "    \"\"\"\n",
    "\n",
    "    num_P = p1.shape[1]\n",
    "    A = np.zeros((num_P, 9))\n",
    "    for i in range(num_P):\n",
    "        A[i, :] = np.kron(p1[:, i], p2[:, i]).T\n",
    "    U, sigma, VT = np.linalg.svd(A, full_matrices=True)\n",
    "    F = VT.T[:, -1].reshape(3, 3)\n",
    "    U_F, sigma_F, VT_F = np.linalg.svd(F, full_matrices=True)\n",
    "    sigma_F[2] = 0\n",
    "    F_mod = U_F @ np.diag(sigma_F) @ VT_F\n",
    "    \n",
    "    return F_mod"
   ]
  },
  {
   "cell_type": "markdown",
   "id": "282694ef",
   "metadata": {},
   "source": [
    "## data input and initialize"
   ]
  },
  {
   "cell_type": "code",
   "execution_count": 4,
   "id": "370e3cc3",
   "metadata": {},
   "outputs": [],
   "source": [
    "import os\n",
    "dirname = os.path.dirname('/home/mullin/WorkSpace/CourseProject/3 VAMR/Exercise 6/python/code/')"
   ]
  },
  {
   "cell_type": "code",
   "execution_count": 5,
   "id": "17c434e8",
   "metadata": {},
   "outputs": [],
   "source": [
    "# Number of 3D points to test\n",
    "N = 40\n",
    "\n",
    "# Random homogeneous coordinates of 3-D points\n",
    "X = np.loadtxt(dirname+\"/matlab_X.csv\", delimiter = \",\")"
   ]
  },
  {
   "cell_type": "code",
   "execution_count": 6,
   "id": "7a9706fa",
   "metadata": {},
   "outputs": [],
   "source": [
    "# Simulated scene with error-free correspondances\n",
    "X[2, :] = X[2, :] * 5 + 10\n",
    "X[3, :] = 1"
   ]
  },
  {
   "cell_type": "code",
   "execution_count": 7,
   "id": "cb73844f",
   "metadata": {},
   "outputs": [],
   "source": [
    "# points without noise\n",
    "P1 = np.array([ [500,   0,      320,    0],\n",
    "                [0,     500,    240,    0],\n",
    "                [0,     0,      1,      0]])\n",
    "\n",
    "P2 = np.array([ [500,   0,      320,    -100],\n",
    "                [0,     500,    240,    0],\n",
    "                [0,     0,      1,      0]])\n",
    "\n",
    "# Image (i.e. projected points)\n",
    "x1 = P1 @ X\n",
    "x2 = P2 @ X"
   ]
  },
  {
   "cell_type": "code",
   "execution_count": 92,
   "id": "7002f057",
   "metadata": {},
   "outputs": [],
   "source": [
    "# points with noise\n",
    "sigma = 1e-1\n",
    "#  noisy_x1 = x1 + sigma * np.random.randn(*x1.shape)\n",
    "#  noisy_x2 = x2 + sigma * np.random.randn(*x2.shape)\n",
    "\n",
    "# If you want to get the same results as matlab users, uncomment those two lines\n",
    "noisy_x1 = np.loadtxt(dirname + \"/matlab_noisy_x1.csv\", delimiter = \",\")\n",
    "noisy_x2 = np.loadtxt(dirname + \"/matlab_noisy_x2.csv\", delimiter = \",\")"
   ]
  },
  {
   "cell_type": "markdown",
   "id": "2a6816b5",
   "metadata": {},
   "source": [
    "## Test"
   ]
  },
  {
   "cell_type": "code",
   "execution_count": 9,
   "id": "68da4ea5",
   "metadata": {},
   "outputs": [],
   "source": [
    "p1 = x1\n",
    "p2 = x2"
   ]
  },
  {
   "cell_type": "code",
   "execution_count": 10,
   "id": "7fa163a7",
   "metadata": {},
   "outputs": [],
   "source": [
    "num_P = p1.shape[1]"
   ]
  },
  {
   "cell_type": "code",
   "execution_count": 11,
   "id": "66fb1d61",
   "metadata": {},
   "outputs": [
    {
     "data": {
      "text/plain": [
       "(3, 40)"
      ]
     },
     "execution_count": 11,
     "metadata": {},
     "output_type": "execute_result"
    }
   ],
   "source": [
    "x1.shape"
   ]
  },
  {
   "cell_type": "code",
   "execution_count": null,
   "id": "0ad15fa6",
   "metadata": {},
   "outputs": [],
   "source": []
  },
  {
   "cell_type": "code",
   "execution_count": 15,
   "id": "b9c13938",
   "metadata": {},
   "outputs": [
    {
     "data": {
      "text/plain": [
       "array([3080.31674875, 2379.4294425 ,    9.77570825])"
      ]
     },
     "execution_count": 15,
     "metadata": {},
     "output_type": "execute_result"
    }
   ],
   "source": []
  },
  {
   "cell_type": "code",
   "execution_count": null,
   "id": "27515fa3",
   "metadata": {},
   "outputs": [],
   "source": []
  },
  {
   "cell_type": "code",
   "execution_count": 39,
   "id": "87448b77",
   "metadata": {},
   "outputs": [],
   "source": [
    "pts = x1"
   ]
  },
  {
   "cell_type": "code",
   "execution_count": 40,
   "id": "42bc4c3f",
   "metadata": {},
   "outputs": [],
   "source": [
    "pts_E = pts/pts[2,:]"
   ]
  },
  {
   "cell_type": "code",
   "execution_count": 41,
   "id": "35536a33",
   "metadata": {},
   "outputs": [],
   "source": [
    "miu = np.mean(pts_E[:2,:], axis = 1)"
   ]
  },
  {
   "cell_type": "code",
   "execution_count": 42,
   "id": "6e5c4d9f",
   "metadata": {},
   "outputs": [
    {
     "data": {
      "text/plain": [
       "array([305.39739015, 226.92227626])"
      ]
     },
     "execution_count": 42,
     "metadata": {},
     "output_type": "execute_result"
    }
   ],
   "source": [
    "miu"
   ]
  },
  {
   "cell_type": "code",
   "execution_count": 51,
   "id": "1671225a",
   "metadata": {},
   "outputs": [],
   "source": [
    "pts_dis = pts_E[:2,:].T - miu"
   ]
  },
  {
   "cell_type": "code",
   "execution_count": 54,
   "id": "48d5a658",
   "metadata": {},
   "outputs": [],
   "source": [
    "A = 3*np.eye(3)"
   ]
  },
  {
   "cell_type": "code",
   "execution_count": 60,
   "id": "208973a8",
   "metadata": {},
   "outputs": [],
   "source": [
    "A[1,0] = 6"
   ]
  },
  {
   "cell_type": "code",
   "execution_count": 63,
   "id": "d6c58b6f",
   "metadata": {},
   "outputs": [
    {
     "data": {
      "text/plain": [
       "array([[ 9.,  0.],\n",
       "       [36., 36.],\n",
       "       [ 0.,  0.]])"
      ]
     },
     "execution_count": 63,
     "metadata": {},
     "output_type": "execute_result"
    }
   ],
   "source": [
    "A[:,:2]**2"
   ]
  },
  {
   "cell_type": "code",
   "execution_count": 66,
   "id": "f351a53b",
   "metadata": {},
   "outputs": [
    {
     "data": {
      "text/plain": [
       "128.64400592486217"
      ]
     },
     "execution_count": 66,
     "metadata": {},
     "output_type": "execute_result"
    }
   ],
   "source": [
    "sigma = np.sqrt(np.mean(np.sum(pts_dis**2, axis = 1)))"
   ]
  },
  {
   "cell_type": "code",
   "execution_count": 74,
   "id": "c4a6535c",
   "metadata": {},
   "outputs": [],
   "source": [
    "s = np.sqrt(2) / sigma"
   ]
  },
  {
   "cell_type": "code",
   "execution_count": 76,
   "id": "1d769036",
   "metadata": {},
   "outputs": [],
   "source": [
    "    T = np.array([\n",
    "        [s, 0, -s * miu[0]],\n",
    "        [0, s, -s * miu[1]],\n",
    "        [0, 0, 1]])"
   ]
  },
  {
   "cell_type": "code",
   "execution_count": 78,
   "id": "c9a49a37",
   "metadata": {},
   "outputs": [],
   "source": [
    "pts_tilde = T @ pts_E"
   ]
  },
  {
   "cell_type": "markdown",
   "id": "78a6f414",
   "metadata": {},
   "source": [
    "## Function"
   ]
  },
  {
   "cell_type": "code",
   "execution_count": 96,
   "id": "3df799bf",
   "metadata": {},
   "outputs": [],
   "source": [
    "import numpy as np\n",
    "\n",
    "def normalise2DPts(pts):\n",
    "    \"\"\"  normalises 2D homogeneous points\n",
    "\n",
    "     Function translates and normalises a set of 2D homogeneous points\n",
    "     so that their centroid is at the origin and their mean distance from\n",
    "     the origin is sqrt(2).\n",
    "\n",
    "     Usage:   [pts_tilde, T] = normalise2dpts(pts)\n",
    "\n",
    "     Argument:\n",
    "       pts -  3xN array of 2D homogeneous coordinates\n",
    "\n",
    "     Returns:\n",
    "       pts_tilde -  3xN array of transformed 2D homogeneous coordinates.\n",
    "       T         -  The 3x3 transformation matrix, pts_tilde = T*pts\n",
    "    \"\"\"\n",
    "    \n",
    "    pts_E = pts/pts[2:,]\n",
    "    miu = np.mean(pts_E[:2,:], axis = 1)\n",
    "    \n",
    "    pts_dis = pts_E[:2,:].T - miu\n",
    "    sigma = np.sqrt(np.mean(np.sum(pts_dis**2, axis = 1)))\n",
    "    s = np.sqrt(2) / sigma\n",
    "    T = np.array([\n",
    "    [s, 0, -s * miu[0]],\n",
    "    [0, s, -s * miu[1]],\n",
    "    [0, 0, 1]])\n",
    "    pts_tilde = T @ pts_E\n",
    "    return pts_tilde, T\n"
   ]
  },
  {
   "cell_type": "code",
   "execution_count": 80,
   "id": "bf401095",
   "metadata": {},
   "outputs": [],
   "source": [
    "import numpy as np\n",
    "\n",
    "\n",
    "def fundamentalEightPointNormalized(p1, p2):\n",
    "    \"\"\" Normalized Version of the 8 Point algorith\n",
    "     Input: point correspondences\n",
    "      - p1 np.ndarray(3,N): homogeneous coordinates of 2-D points in image 1\n",
    "      - p2 np.ndarray(3,N): homogeneous coordinates of 2-D points in image 2\n",
    "\n",
    "     Output:\n",
    "      - F np.ndarray(3,3) : fundamental matrix\n",
    "    \"\"\"\n",
    "    p1_n, T1 = normalise2DPts(p1)\n",
    "    p2_n, T2 = normalise2DPts(p2)\n",
    "    \n",
    "    F_ = fundamentalEightPoint(p1_n, p2_n)\n",
    "    \n",
    "    F = T2.T @ F_ @T1\n",
    "    \n",
    "    return F\n"
   ]
  },
  {
   "cell_type": "markdown",
   "id": "2a16a517",
   "metadata": {},
   "source": [
    "## solution"
   ]
  },
  {
   "cell_type": "code",
   "execution_count": 89,
   "id": "048be740",
   "metadata": {},
   "outputs": [],
   "source": [
    "def normalise2DPts_solution(pts):\n",
    "    \"\"\"  normalises 2D homogeneous points\n",
    "\n",
    "     Function translates and normalises a set of 2D homogeneous points\n",
    "     so that their centroid is at the origin and their mean distance from\n",
    "     the origin is sqrt(2).\n",
    "\n",
    "     Usage:   [pts_tilde, T] = normalise2dpts(pts)\n",
    "\n",
    "     Argument:\n",
    "       pts -  3xN array of 2D homogeneous coordinates\n",
    "\n",
    "     Returns:\n",
    "       pts_tilde -  3xN array of transformed 2D homogeneous coordinates.\n",
    "       T         -  The 3x3 transformation matrix, pts_tilde = T*pts\n",
    "    \"\"\"\n",
    "\n",
    "\n",
    "    N = pts.shape[1]\n",
    "\n",
    "    # Convert homogeneous coordinates to Euclidean coordinates (pixels)\n",
    "    pts_ = pts/pts[2,:]\n",
    "\n",
    "    # Centroid (Euclidean coordinates)\n",
    "    mu = np.mean(pts_[:2,:], axis = 1)\n",
    "\n",
    "    # Average distance or root mean squared distance of centered points\n",
    "    # It does not matter too much which criterion to use. Both improve the\n",
    "    # numerical conditioning of the Fundamental matrix estimation problem.\n",
    "    pts_centered = (pts_[:2,:].T - mu).T\n",
    "\n",
    "    # Option 1: RMS distance\n",
    "    sigma = np.sqrt( np.mean( np.sum(pts_centered**2, axis = 0) ) )\n",
    "    # axis = 1？\n",
    "    # Option 2: average distance\n",
    "    # sigma = mean( sqrt(sum(pts_centered.^2)) );\n",
    "\n",
    "    s = np.sqrt(2) / sigma\n",
    "    T = np.array([\n",
    "        [s, 0, -s * mu[0]],\n",
    "        [0, s, -s * mu[1]],\n",
    "        [0, 0, 1]])\n",
    "\n",
    "    pts_tilde = T @ pts_\n",
    "\n",
    "    return pts_tilde, T\n"
   ]
  },
  {
   "cell_type": "code",
   "execution_count": 90,
   "id": "33e5ffb9",
   "metadata": {},
   "outputs": [],
   "source": [
    "def fundamentalEightPointNormalized_sol(p1, p2):\n",
    "    \"\"\" Normalized Version of the 8 Point algorith\n",
    "     Input: point correspondences\n",
    "      - p1 np.ndarray(3,N): homogeneous coordinates of 2-D points in image 1\n",
    "      - p2 np.ndarray(3,N): homogeneous coordinates of 2-D points in image 2\n",
    "\n",
    "     Output:\n",
    "      - F np.ndarray(3,3) : fundamental matrix\n",
    "    \"\"\"\n",
    "\n",
    "    # Normalize each set of points so that the origin\n",
    "    # is at centroid and mean distance from origin is sqrt(2).\n",
    "    p1_tilde, T1 = normalise2DPts_solution(p1)\n",
    "    p2_tilde, T2 = normalise2DPts_solution(p2)\n",
    "\n",
    "    # Linear solution\n",
    "    F = fundamentalEightPoint(p1_tilde, p2_tilde)\n",
    "\n",
    "    # Undo the normalization\n",
    "    F = T2.T @ F @ T1\n",
    "\n",
    "    return F"
   ]
  },
  {
   "cell_type": "markdown",
   "id": "5cf55a11",
   "metadata": {},
   "source": [
    "## Test code"
   ]
  },
  {
   "cell_type": "code",
   "execution_count": 93,
   "id": "a8669904",
   "metadata": {},
   "outputs": [
    {
     "name": "stdout",
     "output_type": "stream",
     "text": [
      "\n",
      "Noisy correspondences with normalized 8 Point Algorithm\n",
      "Algebraic error: 4.849496\n",
      "Geometric error: 63.578559 px\n"
     ]
    }
   ],
   "source": [
    "# Test with noise\n",
    "#  F  = fundamentalEightPoint(noisy_x1, noisy_x2) # This gives bad results!\n",
    "F  = fundamentalEightPointNormalized(noisy_x1, noisy_x2) # This gives good results!\n",
    "\n",
    "cost_algebraic = np.linalg.norm( np.sum(noisy_x2 * (F @ noisy_x1), axis=0) ) / np.sqrt(N)\n",
    "cost_dist_epi_line = distPoint2EpipolarLine(F, noisy_x1, noisy_x2)\n",
    "\n",
    "print(\"\")\n",
    "print('Noisy correspondences with normalized 8 Point Algorithm')\n",
    "print('Algebraic error: %f' % cost_algebraic)\n",
    "print('Geometric error: %f px' % cost_dist_epi_line)"
   ]
  },
  {
   "cell_type": "code",
   "execution_count": 94,
   "id": "917b55e7",
   "metadata": {},
   "outputs": [
    {
     "name": "stdout",
     "output_type": "stream",
     "text": [
      "\n",
      "Noisy correspondences with normalized solution 8 Point Algorithm\n",
      "Algebraic error: 6.804810\n",
      "Geometric error: 120.160463 px\n"
     ]
    }
   ],
   "source": [
    "# Test with noise\n",
    "#  F  = fundamentalEightPoint(noisy_x1, noisy_x2) # This gives bad results!\n",
    "F  = fundamentalEightPointNormalized_sol(noisy_x1, noisy_x2) # This gives good results!\n",
    "\n",
    "cost_algebraic = np.linalg.norm( np.sum(noisy_x2 * (F @ noisy_x1), axis=0) ) / np.sqrt(N)\n",
    "cost_dist_epi_line = distPoint2EpipolarLine(F, noisy_x1, noisy_x2)\n",
    "\n",
    "print(\"\")\n",
    "print('Noisy correspondences with normalized solution 8 Point Algorithm')\n",
    "print('Algebraic error: %f' % cost_algebraic)\n",
    "print('Geometric error: %f px' % cost_dist_epi_line)"
   ]
  },
  {
   "cell_type": "code",
   "execution_count": 95,
   "id": "18b0c405",
   "metadata": {},
   "outputs": [
    {
     "name": "stdout",
     "output_type": "stream",
     "text": [
      "\n",
      "Noisy correspondences with 8 Point Algorithm\n",
      "Algebraic error: 8.776260\n",
      "Geometric error: 320.780422 px\n"
     ]
    }
   ],
   "source": [
    "# Test with noise\n",
    "F  = fundamentalEightPoint(noisy_x1, noisy_x2) # This gives bad results!\n",
    "\n",
    "cost_algebraic = np.linalg.norm( np.sum(noisy_x2 * (F @ noisy_x1), axis=0) ) / np.sqrt(N)\n",
    "cost_dist_epi_line = distPoint2EpipolarLine(F, noisy_x1, noisy_x2)\n",
    "\n",
    "print(\"\")\n",
    "print('Noisy correspondences with 8 Point Algorithm')\n",
    "print('Algebraic error: %f' % cost_algebraic)\n",
    "print('Geometric error: %f px' % cost_dist_epi_line)\n"
   ]
  },
  {
   "cell_type": "code",
   "execution_count": null,
   "id": "f80ac735",
   "metadata": {},
   "outputs": [],
   "source": []
  }
 ],
 "metadata": {
  "kernelspec": {
   "display_name": "Python [conda env:VAMR]",
   "language": "python",
   "name": "conda-env-VAMR-py"
  },
  "language_info": {
   "codemirror_mode": {
    "name": "ipython",
    "version": 3
   },
   "file_extension": ".py",
   "mimetype": "text/x-python",
   "name": "python",
   "nbconvert_exporter": "python",
   "pygments_lexer": "ipython3",
   "version": "3.8.13"
  }
 },
 "nbformat": 4,
 "nbformat_minor": 5
}
