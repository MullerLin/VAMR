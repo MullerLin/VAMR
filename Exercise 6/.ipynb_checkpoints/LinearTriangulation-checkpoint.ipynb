{
 "cells": [
  {
   "cell_type": "markdown",
   "id": "4f63b967",
   "metadata": {},
   "source": [
    "## 导入与函数"
   ]
  },
  {
   "cell_type": "code",
   "execution_count": 1,
   "id": "9a06ca7b",
   "metadata": {},
   "outputs": [],
   "source": [
    "import numpy as np"
   ]
  },
  {
   "cell_type": "code",
   "execution_count": 2,
   "id": "b3e562d3",
   "metadata": {},
   "outputs": [],
   "source": [
    "def cross2Matrix(x):\n",
    "    \"\"\" Antisymmetric matrix corresponding to a 3-vector\n",
    "     Computes the antisymmetric matrix M corresponding to a 3-vector x such\n",
    "     that M*y = cross(x,y) for all 3-vectors y.\n",
    "\n",
    "     Input: \n",
    "       - x np.ndarray(3,1) : vector\n",
    "\n",
    "     Output: \n",
    "       - M np.ndarray(3,3) : antisymmetric matrix\n",
    "    \"\"\"\n",
    "    M = np.array([[0,   -x[2], x[1]], \n",
    "                  [x[2],  0,  -x[0]],\n",
    "                  [-x[1], x[0],  0]])\n",
    "    return M"
   ]
  },
  {
   "cell_type": "markdown",
   "id": "a495fc53",
   "metadata": {},
   "source": [
    "## Test for single point"
   ]
  },
  {
   "cell_type": "code",
   "execution_count": null,
   "id": "051c1130",
   "metadata": {},
   "outputs": [],
   "source": []
  },
  {
   "cell_type": "code",
   "execution_count": 3,
   "id": "6f509f19",
   "metadata": {},
   "outputs": [],
   "source": [
    "P = np.random.rand(4,1)\n",
    "\n",
    "# Test linear triangulation\n",
    "P[2, :] = P[2, :] * 5 + 10\n",
    "P[3, :] = 1\n",
    "\n",
    "\n",
    "M1 = np.array([ [500,   0,      320,    0],\n",
    "                [0,     500,    240,    0],\n",
    "                [0,     0,      1,      0]])\n",
    "\n",
    "M2 = np.array([ [500,   0,      320,    -100],\n",
    "                [0,     500,    240,    0],\n",
    "                [0,     0,      1,      0]])\n",
    "\n",
    "p1 = M1 @ P\n",
    "p2 = M2 @ P"
   ]
  },
  {
   "cell_type": "code",
   "execution_count": 6,
   "id": "ae83d506",
   "metadata": {},
   "outputs": [
    {
     "name": "stdout",
     "output_type": "stream",
     "text": [
      "[[ 0.458627  ]\n",
      " [ 0.93683662]\n",
      " [10.60388416]\n",
      " [ 1.        ]]\n",
      "[[3622.55643139]\n",
      " [3013.35050967]\n",
      " [  10.60388416]]\n",
      "[[3522.55643139]\n",
      " [3013.35050967]\n",
      " [  10.60388416]]\n"
     ]
    }
   ],
   "source": [
    "print(P)\n",
    "print(p1)\n",
    "print(p2)"
   ]
  },
  {
   "cell_type": "code",
   "execution_count": 8,
   "id": "b02f7ecd",
   "metadata": {},
   "outputs": [
    {
     "data": {
      "text/plain": [
       "array([3622.55643139, 3013.35050967,   10.60388416])"
      ]
     },
     "execution_count": 8,
     "metadata": {},
     "output_type": "execute_result"
    }
   ],
   "source": [
    "p1.squeeze()"
   ]
  },
  {
   "cell_type": "code",
   "execution_count": 10,
   "id": "0725647a",
   "metadata": {},
   "outputs": [],
   "source": [
    "p1_x = cross2Matrix(p1.squeeze())\n",
    "p2_x = cross2Matrix(p2.squeeze())"
   ]
  },
  {
   "cell_type": "code",
   "execution_count": 11,
   "id": "29071323",
   "metadata": {},
   "outputs": [
    {
     "name": "stdout",
     "output_type": "stream",
     "text": [
      "[[    0.           -10.60388416  3013.35050967]\n",
      " [   10.60388416     0.         -3622.55643139]\n",
      " [-3013.35050967  3622.55643139     0.        ]]\n",
      "[[    0.           -10.60388416  3013.35050967]\n",
      " [   10.60388416     0.         -3522.55643139]\n",
      " [-3013.35050967  3522.55643139     0.        ]]\n"
     ]
    }
   ],
   "source": [
    "print(p1_x)\n",
    "print(p2_x)"
   ]
  },
  {
   "cell_type": "code",
   "execution_count": 12,
   "id": "40837013",
   "metadata": {},
   "outputs": [
    {
     "data": {
      "text/plain": [
       "array([[ 0.00000000e+00, -5.30194208e+03,  4.68418310e+02,\n",
       "         0.00000000e+00],\n",
       "       [ 5.30194208e+03,  0.00000000e+00, -2.29313499e+02,\n",
       "         0.00000000e+00],\n",
       "       [-1.50667525e+06,  1.81127822e+06, -9.48586196e+04,\n",
       "         0.00000000e+00]])"
      ]
     },
     "execution_count": 12,
     "metadata": {},
     "output_type": "execute_result"
    }
   ],
   "source": [
    "p1_x@M1"
   ]
  },
  {
   "cell_type": "code",
   "execution_count": 15,
   "id": "ee35a677",
   "metadata": {},
   "outputs": [
    {
     "data": {
      "text/plain": [
       "array([[ 0.00000000e+00, -5.30194208e+03,  4.68418310e+02,\n",
       "         0.00000000e+00],\n",
       "       [ 5.30194208e+03,  0.00000000e+00, -1.29313499e+02,\n",
       "        -1.06038842e+03],\n",
       "       [-1.50667525e+06,  1.76127822e+06, -1.18858620e+05,\n",
       "         3.01335051e+05]])"
      ]
     },
     "execution_count": 15,
     "metadata": {},
     "output_type": "execute_result"
    }
   ],
   "source": [
    "p2_x@M2"
   ]
  },
  {
   "cell_type": "code",
   "execution_count": 18,
   "id": "74247f90",
   "metadata": {},
   "outputs": [],
   "source": [
    "A = np.r_[p1_x@M1, p2_x@M2]"
   ]
  },
  {
   "cell_type": "code",
   "execution_count": 19,
   "id": "a513bb60",
   "metadata": {},
   "outputs": [
    {
     "data": {
      "text/plain": [
       "(6, 4)"
      ]
     },
     "execution_count": 19,
     "metadata": {},
     "output_type": "execute_result"
    }
   ],
   "source": [
    "A.shape"
   ]
  },
  {
   "cell_type": "code",
   "execution_count": 20,
   "id": "59d46e6e",
   "metadata": {},
   "outputs": [],
   "source": [
    "U,sigma, VT = np.linalg.svd(A,full_matrices=True)"
   ]
  },
  {
   "cell_type": "code",
   "execution_count": 22,
   "id": "4e32a002",
   "metadata": {},
   "outputs": [
    {
     "data": {
      "text/plain": [
       "array([-0.04285478, -0.0875394 , -0.99084258, -0.09344148])"
      ]
     },
     "execution_count": 22,
     "metadata": {},
     "output_type": "execute_result"
    }
   ],
   "source": [
    "VT.T[:,-1]"
   ]
  },
  {
   "cell_type": "code",
   "execution_count": 23,
   "id": "972efdfd",
   "metadata": {},
   "outputs": [
    {
     "data": {
      "text/plain": [
       "-0.09344147500687267"
      ]
     },
     "execution_count": 23,
     "metadata": {},
     "output_type": "execute_result"
    }
   ],
   "source": [
    "VT.T[3,-1]"
   ]
  },
  {
   "cell_type": "code",
   "execution_count": 25,
   "id": "362a0ca4",
   "metadata": {},
   "outputs": [],
   "source": [
    "P_est = VT.T[:,-1] / VT.T[3,-1]"
   ]
  },
  {
   "cell_type": "code",
   "execution_count": 26,
   "id": "c160b976",
   "metadata": {},
   "outputs": [
    {
     "data": {
      "text/plain": [
       "array([ 0.458627  ,  0.93683662, 10.60388416,  1.        ])"
      ]
     },
     "execution_count": 26,
     "metadata": {},
     "output_type": "execute_result"
    }
   ],
   "source": [
    "P_est"
   ]
  },
  {
   "cell_type": "markdown",
   "id": "0f0aea8b",
   "metadata": {},
   "source": [
    "## Def LinearTriangulation_Single "
   ]
  },
  {
   "cell_type": "code",
   "execution_count": 31,
   "id": "4102deb9",
   "metadata": {},
   "outputs": [],
   "source": [
    "def linearTriangulation_single(p1, p2, M1, M2):\n",
    "    \"\"\" Linear Triangulation\n",
    "     Input:\n",
    "      - p1 np.ndarray(3, 1): homogeneous coordinates of points in image 1\n",
    "      - p2 np.ndarray(3, 1): homogeneous coordinates of points in image 2\n",
    "      - M1 np.ndarray(3, 4): projection matrix corresponding to first image\n",
    "      - M2 np.ndarray(3, 4): projection matrix corresponding to second image\n",
    "\n",
    "     Output:\n",
    "      - P np.ndarray(4, N): homogeneous coordinates of 3-D points\n",
    "    \"\"\"\n",
    "    \n",
    "    p1_x = cross2Matrix(p1.squeeze())\n",
    "    p2_x = cross2Matrix(p2.squeeze())\n",
    "    A = np.r_[p1_x@M1, p2_x@M2]\n",
    "    U,sigma, VT = np.linalg.svd(A,full_matrices=True)\n",
    "    P_est = VT.T[:,-1] / VT.T[3,-1]\n",
    "    return P_est\n"
   ]
  },
  {
   "cell_type": "markdown",
   "id": "8fa22fa8",
   "metadata": {},
   "source": [
    "## Test  "
   ]
  },
  {
   "cell_type": "code",
   "execution_count": 112,
   "id": "a78eff6e",
   "metadata": {},
   "outputs": [],
   "source": [
    "# Number of 3D points to test\n",
    "N = 10\n",
    "\n",
    "# Random homogeneous coordinates of 3-D points\n",
    "P = np.random.rand(4,N)\n",
    "\n",
    "# Test linear triangulation\n",
    "P[2, :] = P[2, :] * 5 + 10\n",
    "P[3, :] = 1\n",
    "\n",
    "\n",
    "M1 = np.array([ [500,   0,      320,    0],\n",
    "                [0,     500,    240,    0],\n",
    "                [0,     0,      1,      0]])\n",
    "\n",
    "M2 = np.array([ [500,   0,      320,    -100],\n",
    "                [0,     500,    240,    0],\n",
    "                [0,     0,      1,      0]])\n",
    "\n",
    "p1 = M1 @ P\n",
    "p2 = M2 @ P"
   ]
  },
  {
   "cell_type": "code",
   "execution_count": 113,
   "id": "47919f38",
   "metadata": {},
   "outputs": [
    {
     "data": {
      "text/plain": [
       "array([[ 0.55300967,  0.46850847,  0.67099192,  0.07800552,  0.32397558,\n",
       "         0.52820844,  0.80884159,  0.13667473,  0.87319548,  0.94004699],\n",
       "       [ 0.34338809,  0.91580039,  0.33199173,  0.43532305,  0.65941655,\n",
       "         0.23625551,  0.44359341,  0.86329727,  0.17809186,  0.02837914],\n",
       "       [13.19350861, 13.29977474, 10.23636643, 12.73250876, 10.67004579,\n",
       "        10.18257285, 12.23047958, 11.03640398, 14.68522163, 12.56625493],\n",
       "       [ 1.        ,  1.        ,  1.        ,  1.        ,  1.        ,\n",
       "         1.        ,  1.        ,  1.        ,  1.        ,  1.        ]])"
      ]
     },
     "execution_count": 113,
     "metadata": {},
     "output_type": "execute_result"
    }
   ],
   "source": [
    "P"
   ]
  },
  {
   "cell_type": "code",
   "execution_count": 114,
   "id": "fa1c9d71",
   "metadata": {},
   "outputs": [
    {
     "data": {
      "text/plain": [
       "array([[4498.42758695, 4490.18215215, 3611.13321761, 4113.4055619 ,\n",
       "        3576.40244578, 3522.52753181, 4318.17426363, 3599.98663674,\n",
       "        5135.86865945, 4491.22507263],\n",
       "       [3338.13610869, 3649.84613506, 2622.72380938, 3273.46362636,\n",
       "        2890.51926655, 2561.94523764, 3157.11180289, 3080.38558885,\n",
       "        3613.49912026, 3030.09075177],\n",
       "       [  13.19350861,   13.29977474,   10.23636643,   12.73250876,\n",
       "          10.67004579,   10.18257285,   12.23047958,   11.03640398,\n",
       "          14.68522163,   12.56625493]])"
      ]
     },
     "execution_count": 114,
     "metadata": {},
     "output_type": "execute_result"
    }
   ],
   "source": [
    "p1"
   ]
  },
  {
   "cell_type": "code",
   "execution_count": 115,
   "id": "62ba5df4",
   "metadata": {},
   "outputs": [
    {
     "data": {
      "text/plain": [
       "array([4498.42758695, 3338.13610869,   13.19350861])"
      ]
     },
     "execution_count": 115,
     "metadata": {},
     "output_type": "execute_result"
    }
   ],
   "source": [
    "p1[:,0]"
   ]
  },
  {
   "cell_type": "code",
   "execution_count": 116,
   "id": "b887ec69",
   "metadata": {},
   "outputs": [
    {
     "data": {
      "text/plain": [
       "10"
      ]
     },
     "execution_count": 116,
     "metadata": {},
     "output_type": "execute_result"
    }
   ],
   "source": [
    "p1.shape[1]"
   ]
  },
  {
   "cell_type": "code",
   "execution_count": 117,
   "id": "308e797b",
   "metadata": {},
   "outputs": [],
   "source": [
    "n_P = p1.shape[1]"
   ]
  },
  {
   "cell_type": "code",
   "execution_count": 118,
   "id": "44df99dd",
   "metadata": {},
   "outputs": [],
   "source": [
    "A = np.array"
   ]
  },
  {
   "cell_type": "code",
   "execution_count": 130,
   "id": "a9ef7341",
   "metadata": {},
   "outputs": [],
   "source": [
    "for i in range(n_P):\n",
    "    temp_p1_x = cross2Matrix(p1[:,i].squeeze())\n",
    "    temp_p2_x = cross2Matrix(p2[:,i].squeeze())\n",
    "    temp_A_col = np.r_[temp_p1_x@M1, temp_p2_x@M2]\n",
    "    if i == 0 :\n",
    "        A = temp_A_col\n",
    "    else :\n",
    "        A = np.r_[A, temp_A_col]"
   ]
  },
  {
   "cell_type": "code",
   "execution_count": 132,
   "id": "bf9ffea4",
   "metadata": {},
   "outputs": [
    {
     "data": {
      "text/plain": [
       "(60, 4)"
      ]
     },
     "execution_count": 132,
     "metadata": {},
     "output_type": "execute_result"
    }
   ],
   "source": [
    "A.shape"
   ]
  },
  {
   "cell_type": "code",
   "execution_count": 121,
   "id": "7252ad68",
   "metadata": {},
   "outputs": [],
   "source": [
    "U,sigma, VT = np.linalg.svd(A,full_matrices=True)"
   ]
  },
  {
   "cell_type": "code",
   "execution_count": 122,
   "id": "2e161779",
   "metadata": {},
   "outputs": [
    {
     "data": {
      "text/plain": [
       "array([-4.54609198e-02, -1.72641054e-01, -1.40728751e-01, -8.84301529e-02,\n",
       "        2.60813369e-01,  3.97433502e-01, -1.21999436e-04,  6.44508590e-02,\n",
       "       -2.64715761e-02, -6.14329716e-02,  1.44595256e-02, -1.10162582e-01,\n",
       "       -3.58934226e-02, -6.60623334e-02,  1.32055088e-02, -1.27438426e-01,\n",
       "       -6.91419986e-02, -9.45884909e-02,  6.14080929e-03,  1.94400645e-02,\n",
       "       -1.38699491e-02, -8.19595579e-02,  1.71460004e-02, -1.49857641e-01,\n",
       "       -3.78506146e-02, -9.40509113e-03,  1.17074967e-02, -1.11515286e-01,\n",
       "       -9.55468858e-02, -1.08562713e-01,  2.00325677e-03,  9.77659658e-02,\n",
       "        1.56079964e-03,  7.18962392e-02,  1.86751132e-02, -2.85809618e-01,\n",
       "        1.77790211e-02,  4.33089012e-02,  2.23050731e-02,  7.02291803e-01])"
      ]
     },
     "execution_count": 122,
     "metadata": {},
     "output_type": "execute_result"
    }
   ],
   "source": [
    "VT.T[:,-1]"
   ]
  },
  {
   "cell_type": "code",
   "execution_count": 123,
   "id": "e497433f",
   "metadata": {},
   "outputs": [],
   "source": [
    "P_unsc = VT.T[:,-1].reshape(10,4)"
   ]
  },
  {
   "cell_type": "code",
   "execution_count": 124,
   "id": "636e3659",
   "metadata": {},
   "outputs": [
    {
     "data": {
      "text/plain": [
       "array([[-4.54609198e-02, -1.72641054e-01, -1.40728751e-01,\n",
       "        -8.84301529e-02],\n",
       "       [ 2.60813369e-01,  3.97433502e-01, -1.21999436e-04,\n",
       "         6.44508590e-02],\n",
       "       [-2.64715761e-02, -6.14329716e-02,  1.44595256e-02,\n",
       "        -1.10162582e-01],\n",
       "       [-3.58934226e-02, -6.60623334e-02,  1.32055088e-02,\n",
       "        -1.27438426e-01],\n",
       "       [-6.91419986e-02, -9.45884909e-02,  6.14080929e-03,\n",
       "         1.94400645e-02],\n",
       "       [-1.38699491e-02, -8.19595579e-02,  1.71460004e-02,\n",
       "        -1.49857641e-01],\n",
       "       [-3.78506146e-02, -9.40509113e-03,  1.17074967e-02,\n",
       "        -1.11515286e-01],\n",
       "       [-9.55468858e-02, -1.08562713e-01,  2.00325677e-03,\n",
       "         9.77659658e-02],\n",
       "       [ 1.56079964e-03,  7.18962392e-02,  1.86751132e-02,\n",
       "        -2.85809618e-01],\n",
       "       [ 1.77790211e-02,  4.33089012e-02,  2.23050731e-02,\n",
       "         7.02291803e-01]])"
      ]
     },
     "execution_count": 124,
     "metadata": {},
     "output_type": "execute_result"
    }
   ],
   "source": [
    "P_unsc"
   ]
  },
  {
   "cell_type": "code",
   "execution_count": 125,
   "id": "19ddfd51",
   "metadata": {},
   "outputs": [
    {
     "data": {
      "text/plain": [
       "array([ 2.60813369e-01,  3.97433502e-01, -1.21999436e-04,  6.44508590e-02])"
      ]
     },
     "execution_count": 125,
     "metadata": {},
     "output_type": "execute_result"
    }
   ],
   "source": [
    "P_unsc[1,]"
   ]
  },
  {
   "cell_type": "code",
   "execution_count": 126,
   "id": "f1049f49",
   "metadata": {},
   "outputs": [
    {
     "data": {
      "text/plain": [
       "0.7022918031018758"
      ]
     },
     "execution_count": 126,
     "metadata": {},
     "output_type": "execute_result"
    }
   ],
   "source": [
    "P_unsc[i,3] "
   ]
  },
  {
   "cell_type": "code",
   "execution_count": 127,
   "id": "746a2bd0",
   "metadata": {},
   "outputs": [],
   "source": [
    "P_est = np.ones_like(P_unsc)\n",
    "for i in range (P_unsc.shape[0]):\n",
    "    P_est[i,] = P_unsc[i,] / P_unsc[i,3] "
   ]
  },
  {
   "cell_type": "code",
   "execution_count": 137,
   "id": "d3388867",
   "metadata": {},
   "outputs": [
    {
     "data": {
      "text/plain": [
       "(10, 4)"
      ]
     },
     "execution_count": 137,
     "metadata": {},
     "output_type": "execute_result"
    }
   ],
   "source": [
    "P_est.shape"
   ]
  },
  {
   "cell_type": "code",
   "execution_count": 142,
   "id": "5dc238b1",
   "metadata": {},
   "outputs": [
    {
     "data": {
      "text/plain": [
       "array([4490.18215215, 3649.84613506,   13.29977474])"
      ]
     },
     "execution_count": 142,
     "metadata": {},
     "output_type": "execute_result"
    }
   ],
   "source": [
    "p1[:,1]"
   ]
  },
  {
   "cell_type": "code",
   "execution_count": 145,
   "id": "7a6ebcae",
   "metadata": {},
   "outputs": [],
   "source": [
    "    p_size = p1.shape[1]\n",
    "    P_est = np.ones([p_size,4])\n",
    "    for i in range (p_size):\n",
    "        temp_p1_x = cross2Matrix(p1[:,i].squeeze())\n",
    "        temp_p2_x = cross2Matrix(p2[:,i].squeeze())\n",
    "        temp_A = np.r_[temp_p1_x@M1, temp_p2_x@M2]\n",
    "        _,_, VT = np.linalg.svd(temp_A,full_matrices=True)\n",
    "        P_est[i,]  = VT.T[:,-1] / VT.T[3,-1]   "
   ]
  },
  {
   "cell_type": "code",
   "execution_count": null,
   "id": "fce5d88d",
   "metadata": {},
   "outputs": [],
   "source": []
  },
  {
   "cell_type": "code",
   "execution_count": 136,
   "id": "6cf9921f",
   "metadata": {},
   "outputs": [
    {
     "data": {
      "text/plain": [
       "array([-3.58224982e+03, -2.68663762e+03,  5.61335650e+03,  1.00000000e+00])"
      ]
     },
     "execution_count": 136,
     "metadata": {},
     "output_type": "execute_result"
    }
   ],
   "source": [
    "temp_P_est"
   ]
  },
  {
   "cell_type": "code",
   "execution_count": 147,
   "id": "d2a4d791",
   "metadata": {},
   "outputs": [
    {
     "data": {
      "text/plain": [
       "array([[ 0.55300967,  0.46850847,  0.67099192,  0.07800552,  0.32397558,\n",
       "         0.52820844,  0.80884159,  0.13667473,  0.87319548,  0.94004699],\n",
       "       [ 0.34338809,  0.91580039,  0.33199173,  0.43532305,  0.65941655,\n",
       "         0.23625551,  0.44359341,  0.86329727,  0.17809186,  0.02837914],\n",
       "       [13.19350861, 13.29977474, 10.23636643, 12.73250876, 10.67004579,\n",
       "        10.18257285, 12.23047958, 11.03640398, 14.68522163, 12.56625493],\n",
       "       [ 1.        ,  1.        ,  1.        ,  1.        ,  1.        ,\n",
       "         1.        ,  1.        ,  1.        ,  1.        ,  1.        ]])"
      ]
     },
     "execution_count": 147,
     "metadata": {},
     "output_type": "execute_result"
    }
   ],
   "source": [
    "P_est.T"
   ]
  },
  {
   "cell_type": "code",
   "execution_count": 129,
   "id": "cc6f1ded",
   "metadata": {},
   "outputs": [
    {
     "data": {
      "text/plain": [
       "array([[ 0.55300967,  0.46850847,  0.67099192,  0.07800552,  0.32397558,\n",
       "         0.52820844,  0.80884159,  0.13667473,  0.87319548,  0.94004699],\n",
       "       [ 0.34338809,  0.91580039,  0.33199173,  0.43532305,  0.65941655,\n",
       "         0.23625551,  0.44359341,  0.86329727,  0.17809186,  0.02837914],\n",
       "       [13.19350861, 13.29977474, 10.23636643, 12.73250876, 10.67004579,\n",
       "        10.18257285, 12.23047958, 11.03640398, 14.68522163, 12.56625493],\n",
       "       [ 1.        ,  1.        ,  1.        ,  1.        ,  1.        ,\n",
       "         1.        ,  1.        ,  1.        ,  1.        ,  1.        ]])"
      ]
     },
     "execution_count": 129,
     "metadata": {},
     "output_type": "execute_result"
    }
   ],
   "source": [
    "P"
   ]
  },
  {
   "cell_type": "markdown",
   "id": "3922aed6",
   "metadata": {},
   "source": [
    "## Def LinearTriangulation"
   ]
  },
  {
   "cell_type": "code",
   "execution_count": null,
   "id": "bcf4bc8c",
   "metadata": {},
   "outputs": [],
   "source": [
    "def linearTriangulation(p1, p2, M1, M2):\n",
    "    \"\"\" Linear Triangulation\n",
    "     Input:\n",
    "      - p1 np.ndarray(3, N): homogeneous coordinates of points in image 1\n",
    "      - p2 np.ndarray(3, N): homogeneous coordinates of points in image 2\n",
    "      - M1 np.ndarray(3, 4): projection matrix corresponding to first image\n",
    "      - M2 np.ndarray(3, 4): projection matrix corresponding to second image\n",
    "\n",
    "     Output:\n",
    "      - P np.ndarray(4, N): homogeneous coordinates of 3-D points\n",
    "    \"\"\"\n",
    "    p_size = p1.shape[1]\n",
    "    P_est = np.ones([p_size,4])\n",
    "    for i in range (p_size):\n",
    "        temp_p1_x = cross2Matrix(p1[:,i].squeeze())\n",
    "        temp_p2_x = cross2Matrix(p2[:,i].squeeze())\n",
    "        temp_A = np.r_[temp_p1_x@M1, temp_p2_x@M2]\n",
    "        _,_, VT = np.linalg.svd(temp_A,full_matrices=True)\n",
    "        P_est[i,]  = VT.T[:,-1] / VT.T[3,-1]   \n",
    "\n",
    "    \n",
    "    return P_est.T\n"
   ]
  },
  {
   "cell_type": "markdown",
   "id": "79a2a213",
   "metadata": {},
   "source": [
    "##  Run_Test_LinearTriangulation"
   ]
  },
  {
   "cell_type": "code",
   "execution_count": 28,
   "id": "4ccc42b0",
   "metadata": {},
   "outputs": [
    {
     "name": "stderr",
     "output_type": "stream",
     "text": [
      "/tmp/ipykernel_8242/100176216.py:12: VisibleDeprecationWarning: Creating an ndarray from ragged nested sequences (which is a list-or-tuple of lists-or-tuples-or ndarrays with different lengths or shapes) is deprecated. If you meant to do this, you must specify 'dtype=object' when creating the ndarray.\n",
      "  M = np.array([[0,   -x[2], x[1]],\n"
     ]
    },
    {
     "ename": "UFuncTypeError",
     "evalue": "Cannot cast ufunc 'svd_n_f' input from dtype('O') to dtype('float64') with casting rule 'same_kind'",
     "output_type": "error",
     "traceback": [
      "\u001b[0;31m---------------------------------------------------------------------------\u001b[0m",
      "\u001b[0;31mUFuncTypeError\u001b[0m                            Traceback (most recent call last)",
      "Input \u001b[0;32mIn [28]\u001b[0m, in \u001b[0;36m<cell line: 23>\u001b[0;34m()\u001b[0m\n\u001b[1;32m     20\u001b[0m p1 \u001b[38;5;241m=\u001b[39m M1 \u001b[38;5;241m@\u001b[39m P\n\u001b[1;32m     21\u001b[0m p2 \u001b[38;5;241m=\u001b[39m M2 \u001b[38;5;241m@\u001b[39m P\n\u001b[0;32m---> 23\u001b[0m P_est \u001b[38;5;241m=\u001b[39m \u001b[43mlinearTriangulation\u001b[49m\u001b[43m(\u001b[49m\u001b[43mp1\u001b[49m\u001b[43m,\u001b[49m\u001b[43m \u001b[49m\u001b[43mp2\u001b[49m\u001b[43m,\u001b[49m\u001b[43m \u001b[49m\u001b[43mM1\u001b[49m\u001b[43m,\u001b[49m\u001b[43m \u001b[49m\u001b[43mM2\u001b[49m\u001b[43m)\u001b[49m\n\u001b[1;32m     25\u001b[0m \u001b[38;5;28mprint\u001b[39m(\u001b[38;5;124m'\u001b[39m\u001b[38;5;124mP_est - P\u001b[39m\u001b[38;5;124m'\u001b[39m)\n\u001b[1;32m     26\u001b[0m \u001b[38;5;28mprint\u001b[39m(P_est \u001b[38;5;241m-\u001b[39m P)\n",
      "Input \u001b[0;32mIn [27]\u001b[0m, in \u001b[0;36mlinearTriangulation\u001b[0;34m(p1, p2, M1, M2)\u001b[0m\n\u001b[1;32m     14\u001b[0m p2_x \u001b[38;5;241m=\u001b[39m cross2Matrix(p2\u001b[38;5;241m.\u001b[39msqueeze())\n\u001b[1;32m     15\u001b[0m A \u001b[38;5;241m=\u001b[39m np\u001b[38;5;241m.\u001b[39mr_[p1_x\u001b[38;5;129m@M1\u001b[39m, p2_x\u001b[38;5;129m@M2\u001b[39m]\n\u001b[0;32m---> 16\u001b[0m U,sigma, VT \u001b[38;5;241m=\u001b[39m \u001b[43mnp\u001b[49m\u001b[38;5;241;43m.\u001b[39;49m\u001b[43mlinalg\u001b[49m\u001b[38;5;241;43m.\u001b[39;49m\u001b[43msvd\u001b[49m\u001b[43m(\u001b[49m\u001b[43mA\u001b[49m\u001b[43m,\u001b[49m\u001b[43mfull_matrices\u001b[49m\u001b[38;5;241;43m=\u001b[39;49m\u001b[38;5;28;43;01mTrue\u001b[39;49;00m\u001b[43m)\u001b[49m\n\u001b[1;32m     17\u001b[0m P_est \u001b[38;5;241m=\u001b[39m VT\u001b[38;5;241m.\u001b[39mT[:,\u001b[38;5;241m-\u001b[39m\u001b[38;5;241m1\u001b[39m] \u001b[38;5;241m/\u001b[39m VT\u001b[38;5;241m.\u001b[39mT[\u001b[38;5;241m3\u001b[39m,\u001b[38;5;241m-\u001b[39m\u001b[38;5;241m1\u001b[39m]\n\u001b[1;32m     18\u001b[0m \u001b[38;5;28;01mreturn\u001b[39;00m P_est\n",
      "File \u001b[0;32m<__array_function__ internals>:5\u001b[0m, in \u001b[0;36msvd\u001b[0;34m(*args, **kwargs)\u001b[0m\n",
      "File \u001b[0;32m~/anaconda3/envs/VAMR/lib/python3.8/site-packages/numpy/linalg/linalg.py:1660\u001b[0m, in \u001b[0;36msvd\u001b[0;34m(a, full_matrices, compute_uv, hermitian)\u001b[0m\n\u001b[1;32m   1657\u001b[0m         gufunc \u001b[38;5;241m=\u001b[39m _umath_linalg\u001b[38;5;241m.\u001b[39msvd_n_s\n\u001b[1;32m   1659\u001b[0m signature \u001b[38;5;241m=\u001b[39m \u001b[38;5;124m'\u001b[39m\u001b[38;5;124mD->DdD\u001b[39m\u001b[38;5;124m'\u001b[39m \u001b[38;5;28;01mif\u001b[39;00m isComplexType(t) \u001b[38;5;28;01melse\u001b[39;00m \u001b[38;5;124m'\u001b[39m\u001b[38;5;124md->ddd\u001b[39m\u001b[38;5;124m'\u001b[39m\n\u001b[0;32m-> 1660\u001b[0m u, s, vh \u001b[38;5;241m=\u001b[39m \u001b[43mgufunc\u001b[49m\u001b[43m(\u001b[49m\u001b[43ma\u001b[49m\u001b[43m,\u001b[49m\u001b[43m \u001b[49m\u001b[43msignature\u001b[49m\u001b[38;5;241;43m=\u001b[39;49m\u001b[43msignature\u001b[49m\u001b[43m,\u001b[49m\u001b[43m \u001b[49m\u001b[43mextobj\u001b[49m\u001b[38;5;241;43m=\u001b[39;49m\u001b[43mextobj\u001b[49m\u001b[43m)\u001b[49m\n\u001b[1;32m   1661\u001b[0m u \u001b[38;5;241m=\u001b[39m u\u001b[38;5;241m.\u001b[39mastype(result_t, copy\u001b[38;5;241m=\u001b[39m\u001b[38;5;28;01mFalse\u001b[39;00m)\n\u001b[1;32m   1662\u001b[0m s \u001b[38;5;241m=\u001b[39m s\u001b[38;5;241m.\u001b[39mastype(_realType(result_t), copy\u001b[38;5;241m=\u001b[39m\u001b[38;5;28;01mFalse\u001b[39;00m)\n",
      "\u001b[0;31mUFuncTypeError\u001b[0m: Cannot cast ufunc 'svd_n_f' input from dtype('O') to dtype('float64') with casting rule 'same_kind'"
     ]
    }
   ],
   "source": [
    "# Number of 3D points to test\n",
    "N = 10\n",
    "\n",
    "# Random homogeneous coordinates of 3-D points\n",
    "P = np.random.rand(4,N)\n",
    "\n",
    "# Test linear triangulation\n",
    "P[2, :] = P[2, :] * 5 + 10\n",
    "P[3, :] = 1\n",
    "\n",
    "\n",
    "M1 = np.array([ [500,   0,      320,    0],\n",
    "                [0,     500,    240,    0],\n",
    "                [0,     0,      1,      0]])\n",
    "\n",
    "M2 = np.array([ [500,   0,      320,    -100],\n",
    "                [0,     500,    240,    0],\n",
    "                [0,     0,      1,      0]])\n",
    "\n",
    "p1 = M1 @ P\n",
    "p2 = M2 @ P\n",
    "\n",
    "P_est = linearTriangulation(p1, p2, M1, M2)\n",
    "\n",
    "print('P_est - P')\n",
    "print(P_est - P)\n",
    "print(\"Your function looks %s\" % (\"Correct\" if np.allclose(P_est, P) else \"Incorrect\"))\n"
   ]
  },
  {
   "cell_type": "code",
   "execution_count": null,
   "id": "dbbcf804",
   "metadata": {},
   "outputs": [],
   "source": []
  },
  {
   "cell_type": "code",
   "execution_count": 38,
   "id": "47c9a8d5",
   "metadata": {},
   "outputs": [
    {
     "data": {
      "text/plain": [
       "array([5087.90867506, 3461.26463335,   14.40477825])"
      ]
     },
     "execution_count": 38,
     "metadata": {},
     "output_type": "execute_result"
    }
   ],
   "source": []
  },
  {
   "cell_type": "code",
   "execution_count": null,
   "id": "de23cf21",
   "metadata": {},
   "outputs": [],
   "source": []
  }
 ],
 "metadata": {
  "kernelspec": {
   "display_name": "Python [conda env:VAMR]",
   "language": "python",
   "name": "conda-env-VAMR-py"
  },
  "language_info": {
   "codemirror_mode": {
    "name": "ipython",
    "version": 3
   },
   "file_extension": ".py",
   "mimetype": "text/x-python",
   "name": "python",
   "nbconvert_exporter": "python",
   "pygments_lexer": "ipython3",
   "version": "3.8.13"
  }
 },
 "nbformat": 4,
 "nbformat_minor": 5
}
