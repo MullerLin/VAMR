{
 "cells": [
  {
   "cell_type": "code",
   "execution_count": 1,
   "id": "4cb79225",
   "metadata": {},
   "outputs": [],
   "source": [
    "import numpy as np"
   ]
  },
  {
   "cell_type": "code",
   "execution_count": 2,
   "id": "ffe5cbb3",
   "metadata": {},
   "outputs": [],
   "source": [
    "def distPoint2EpipolarLine(F, p1, p2):\n",
    "    \"\"\" Compute the point-to-epipolar-line distance\n",
    "\n",
    "       Input:\n",
    "       - F np.ndarray(3,3): Fundamental matrix\n",
    "       - p1 np.ndarray(3,N): homogeneous coords of the observed points in image 1\n",
    "       - p2 np.ndarray(3,N): homogeneous coords of the observed points in image 2\n",
    "\n",
    "       Output:\n",
    "       - cost: sum of squared distance from points to epipolar lines\n",
    "               normalized by the number of point coordinates\n",
    "    \"\"\"\n",
    "\n",
    "    N = p1.shape[1]\n",
    "\n",
    "    homog_points = np.c_[p1, p2]\n",
    "    epi_lines = np.c_[F.T @ p2, F @ p1]\n",
    "\n",
    "    denom = epi_lines[0,:]**2 + epi_lines[1,:]**2\n",
    "    cost = np.sqrt( np.sum( np.sum( epi_lines * homog_points, axis = 0)**2 / denom) / N)\n",
    "\n",
    "    return cost"
   ]
  },
  {
   "cell_type": "markdown",
   "id": "28266a04",
   "metadata": {},
   "source": [
    "## data input and initialize"
   ]
  },
  {
   "cell_type": "code",
   "execution_count": 4,
   "id": "c31b5d1e",
   "metadata": {},
   "outputs": [],
   "source": [
    "import os\n",
    "dirname = os.path.dirname('/home/mullin/WorkSpace/CourseProject/3 VAMR/Exercise 6/python/code/')"
   ]
  },
  {
   "cell_type": "code",
   "execution_count": 5,
   "id": "603bd2e6",
   "metadata": {},
   "outputs": [],
   "source": [
    "# Number of 3D points to test\n",
    "N = 40\n",
    "\n",
    "# Random homogeneous coordinates of 3-D points\n",
    "X = np.loadtxt(dirname+\"/matlab_X.csv\", delimiter = \",\")"
   ]
  },
  {
   "cell_type": "code",
   "execution_count": 6,
   "id": "47c0818d",
   "metadata": {},
   "outputs": [],
   "source": [
    "# Simulated scene with error-free correspondances\n",
    "X[2, :] = X[2, :] * 5 + 10\n",
    "X[3, :] = 1"
   ]
  },
  {
   "cell_type": "code",
   "execution_count": 7,
   "id": "b30aa414",
   "metadata": {},
   "outputs": [],
   "source": [
    "# points without noise\n",
    "P1 = np.array([ [500,   0,      320,    0],\n",
    "                [0,     500,    240,    0],\n",
    "                [0,     0,      1,      0]])\n",
    "\n",
    "P2 = np.array([ [500,   0,      320,    -100],\n",
    "                [0,     500,    240,    0],\n",
    "                [0,     0,      1,      0]])\n",
    "\n",
    "# Image (i.e. projected points)\n",
    "x1 = P1 @ X\n",
    "x2 = P2 @ X"
   ]
  },
  {
   "cell_type": "code",
   "execution_count": 8,
   "id": "42b7b09d",
   "metadata": {},
   "outputs": [],
   "source": [
    "# points with noise\n",
    "sigma = 1e-1\n",
    "#  noisy_x1 = x1 + sigma * np.random.randn(*x1.shape)\n",
    "#  noisy_x2 = x2 + sigma * np.random.randn(*x2.shape)\n",
    "\n",
    "# If you want to get the same results as matlab users, uncomment those two lines\n",
    "noisy_x1 = np.loadtxt(dirname + \"/matlab_noisy_x1.csv\", delimiter = \",\")\n",
    "noisy_x2 = np.loadtxt(dirname + \"/matlab_noisy_x2.csv\", delimiter = \",\")"
   ]
  },
  {
   "cell_type": "markdown",
   "id": "b61ebd4b",
   "metadata": {},
   "source": [
    "## Test"
   ]
  },
  {
   "cell_type": "code",
   "execution_count": 9,
   "id": "b8820b59",
   "metadata": {},
   "outputs": [],
   "source": [
    "p1 = x1\n",
    "p2 = x2"
   ]
  },
  {
   "cell_type": "code",
   "execution_count": 10,
   "id": "937beee2",
   "metadata": {},
   "outputs": [],
   "source": [
    "num_P = p1.shape[1]"
   ]
  },
  {
   "cell_type": "code",
   "execution_count": 11,
   "id": "4cf3d245",
   "metadata": {},
   "outputs": [
    {
     "data": {
      "text/plain": [
       "(3, 40)"
      ]
     },
     "execution_count": 11,
     "metadata": {},
     "output_type": "execute_result"
    }
   ],
   "source": [
    "x1.shape"
   ]
  },
  {
   "cell_type": "code",
   "execution_count": null,
   "id": "17ae5018",
   "metadata": {},
   "outputs": [],
   "source": []
  },
  {
   "cell_type": "code",
   "execution_count": 15,
   "id": "2b5bab2a",
   "metadata": {},
   "outputs": [
    {
     "data": {
      "text/plain": [
       "array([3080.31674875, 2379.4294425 ,    9.77570825])"
      ]
     },
     "execution_count": 15,
     "metadata": {},
     "output_type": "execute_result"
    }
   ],
   "source": []
  },
  {
   "cell_type": "code",
   "execution_count": null,
   "id": "71e6e548",
   "metadata": {},
   "outputs": [],
   "source": []
  },
  {
   "cell_type": "code",
   "execution_count": 39,
   "id": "3542871b",
   "metadata": {},
   "outputs": [],
   "source": [
    "pts = x1"
   ]
  },
  {
   "cell_type": "code",
   "execution_count": 40,
   "id": "4139eb9b",
   "metadata": {},
   "outputs": [],
   "source": [
    "pts_E = pts/pts[2,:]"
   ]
  },
  {
   "cell_type": "code",
   "execution_count": 41,
   "id": "a0aa70c0",
   "metadata": {},
   "outputs": [],
   "source": [
    "miu = np.mean(pts_E[:2,:], axis = 1)"
   ]
  },
  {
   "cell_type": "code",
   "execution_count": 42,
   "id": "cd62a417",
   "metadata": {},
   "outputs": [
    {
     "data": {
      "text/plain": [
       "array([305.39739015, 226.92227626])"
      ]
     },
     "execution_count": 42,
     "metadata": {},
     "output_type": "execute_result"
    }
   ],
   "source": [
    "miu"
   ]
  },
  {
   "cell_type": "code",
   "execution_count": 51,
   "id": "1cb95600",
   "metadata": {},
   "outputs": [],
   "source": [
    "pts_dis = pts_E[:2,:].T - miu"
   ]
  },
  {
   "cell_type": "code",
   "execution_count": 54,
   "id": "f8f5910c",
   "metadata": {},
   "outputs": [],
   "source": [
    "A = 3*np.eye(3)"
   ]
  },
  {
   "cell_type": "code",
   "execution_count": 60,
   "id": "ff7f11ab",
   "metadata": {},
   "outputs": [],
   "source": [
    "A[1,0] = 6"
   ]
  },
  {
   "cell_type": "code",
   "execution_count": 63,
   "id": "399be969",
   "metadata": {},
   "outputs": [
    {
     "data": {
      "text/plain": [
       "array([[ 9.,  0.],\n",
       "       [36., 36.],\n",
       "       [ 0.,  0.]])"
      ]
     },
     "execution_count": 63,
     "metadata": {},
     "output_type": "execute_result"
    }
   ],
   "source": [
    "A[:,:2]**2"
   ]
  },
  {
   "cell_type": "code",
   "execution_count": 66,
   "id": "4a2f6521",
   "metadata": {},
   "outputs": [
    {
     "data": {
      "text/plain": [
       "128.64400592486217"
      ]
     },
     "execution_count": 66,
     "metadata": {},
     "output_type": "execute_result"
    }
   ],
   "source": [
    "sigma = np.sqrt(np.mean(np.sum(pts_dis**2, axis = 1)))"
   ]
  },
  {
   "cell_type": "code",
   "execution_count": 74,
   "id": "496b90ce",
   "metadata": {},
   "outputs": [],
   "source": [
    "s = np.sqrt(2) / sigma"
   ]
  },
  {
   "cell_type": "code",
   "execution_count": 76,
   "id": "21fd62f2",
   "metadata": {},
   "outputs": [],
   "source": [
    "    T = np.array([\n",
    "        [s, 0, -s * miu[0]],\n",
    "        [0, s, -s * miu[1]],\n",
    "        [0, 0, 1]])"
   ]
  },
  {
   "cell_type": "code",
   "execution_count": 78,
   "id": "351e418d",
   "metadata": {},
   "outputs": [],
   "source": [
    "pts_tilde = T @ pts_E"
   ]
  },
  {
   "cell_type": "markdown",
   "id": "0b31468c",
   "metadata": {},
   "source": [
    "## Function"
   ]
  },
  {
   "cell_type": "code",
   "execution_count": null,
   "id": "9d3477f4",
   "metadata": {},
   "outputs": [],
   "source": [
    "import numpy as np\n",
    "\n",
    "def normalise2DPts(pts):\n",
    "    \"\"\"  normalises 2D homogeneous points\n",
    "\n",
    "     Function translates and normalises a set of 2D homogeneous points\n",
    "     so that their centroid is at the origin and their mean distance from\n",
    "     the origin is sqrt(2).\n",
    "\n",
    "     Usage:   [pts_tilde, T] = normalise2dpts(pts)\n",
    "\n",
    "     Argument:\n",
    "       pts -  3xN array of 2D homogeneous coordinates\n",
    "\n",
    "     Returns:\n",
    "       pts_tilde -  3xN array of transformed 2D homogeneous coordinates.\n",
    "       T         -  The 3x3 transformation matrix, pts_tilde = T*pts\n",
    "    \"\"\"\n",
    "    \n",
    "    pts_E = pts/pts[2:,]\n",
    "    miu = np.mean(pts_E[:2,:], axis = 1)\n",
    "    \n",
    "    pts_D = pts_E.T - miu\n",
    "    sigma = np.sqrt(np.mean(np.sum(pts_dis**2, axis = 1)))\n",
    "    \n",
    "    pass\n"
   ]
  },
  {
   "cell_type": "code",
   "execution_count": null,
   "id": "3353f637",
   "metadata": {},
   "outputs": [],
   "source": [
    "import numpy as np\n",
    "\n",
    "from fundamental_eight_point import fundamentalEightPoint\n",
    "from normalise_2D_pts import normalise2DPts\n",
    "\n",
    "def fundamentalEightPointNormalized(p1, p2):\n",
    "    \"\"\" Normalized Version of the 8 Point algorith\n",
    "     Input: point correspondences\n",
    "      - p1 np.ndarray(3,N): homogeneous coordinates of 2-D points in image 1\n",
    "      - p2 np.ndarray(3,N): homogeneous coordinates of 2-D points in image 2\n",
    "\n",
    "     Output:\n",
    "      - F np.ndarray(3,3) : fundamental matrix\n",
    "    \"\"\"\n",
    "\n",
    "    pass\n"
   ]
  },
  {
   "cell_type": "code",
   "execution_count": null,
   "id": "de09200b",
   "metadata": {},
   "outputs": [],
   "source": []
  },
  {
   "cell_type": "markdown",
   "id": "f506bcff",
   "metadata": {},
   "source": [
    "## Test code"
   ]
  },
  {
   "cell_type": "code",
   "execution_count": null,
   "id": "63f2e552",
   "metadata": {},
   "outputs": [],
   "source": [
    "# Test with noise\n",
    "#  F  = fundamentalEightPoint(noisy_x1, noisy_x2) # This gives bad results!\n",
    "F  = fundamentalEightPointNormalized(noisy_x1, noisy_x2) # This gives good results!\n",
    "\n",
    "cost_algebraic = np.linalg.norm( np.sum(noisy_x2 * (F @ noisy_x1), axis=0) ) / np.sqrt(N)\n",
    "cost_dist_epi_line = distPoint2EpipolarLine(F, noisy_x1, noisy_x2)\n",
    "\n",
    "print(\"\")\n",
    "print('Noisy correspondences with normalized 8 Point Algorithm')\n",
    "print('Algebraic error: %f' % cost_algebraic)\n",
    "print('Geometric error: %f px' % cost_dist_epi_line)"
   ]
  },
  {
   "cell_type": "code",
   "execution_count": null,
   "id": "b2f3893d",
   "metadata": {},
   "outputs": [],
   "source": []
  }
 ],
 "metadata": {
  "kernelspec": {
   "display_name": "Python [conda env:VAMR]",
   "language": "python",
   "name": "conda-env-VAMR-py"
  },
  "language_info": {
   "codemirror_mode": {
    "name": "ipython",
    "version": 3
   },
   "file_extension": ".py",
   "mimetype": "text/x-python",
   "name": "python",
   "nbconvert_exporter": "python",
   "pygments_lexer": "ipython3",
   "version": "3.8.13"
  }
 },
 "nbformat": 4,
 "nbformat_minor": 5
}
