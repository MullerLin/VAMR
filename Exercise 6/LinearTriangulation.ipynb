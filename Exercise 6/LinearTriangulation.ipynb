{
 "cells": [
  {
   "cell_type": "markdown",
   "id": "671d14c7",
   "metadata": {},
   "source": [
    "## 导入与函数"
   ]
  },
  {
   "cell_type": "code",
   "execution_count": 1,
   "id": "4b070102",
   "metadata": {},
   "outputs": [],
   "source": [
    "import numpy as np"
   ]
  },
  {
   "cell_type": "code",
   "execution_count": 2,
   "id": "da98a21f",
   "metadata": {},
   "outputs": [],
   "source": [
    "def cross2Matrix(x):\n",
    "    \"\"\" Antisymmetric matrix corresponding to a 3-vector\n",
    "     Computes the antisymmetric matrix M corresponding to a 3-vector x such\n",
    "     that M*y = cross(x,y) for all 3-vectors y.\n",
    "\n",
    "     Input: \n",
    "       - x np.ndarray(3,1) : vector\n",
    "\n",
    "     Output: \n",
    "       - M np.ndarray(3,3) : antisymmetric matrix\n",
    "    \"\"\"\n",
    "    M = np.array([[0,   -x[2], x[1]], \n",
    "                  [x[2],  0,  -x[0]],\n",
    "                  [-x[1], x[0],  0]])\n",
    "    return M"
   ]
  },
  {
   "cell_type": "markdown",
   "id": "ebff88ad",
   "metadata": {},
   "source": [
    "## Test for single point"
   ]
  },
  {
   "cell_type": "code",
   "execution_count": 3,
   "id": "264581c0",
   "metadata": {},
   "outputs": [],
   "source": [
    "P = np.random.rand(4,1)\n",
    "\n",
    "# Test linear triangulation\n",
    "P[2, :] = P[2, :] * 5 + 10\n",
    "P[3, :] = 1\n",
    "\n",
    "\n",
    "M1 = np.array([ [500,   0,      320,    0],\n",
    "                [0,     500,    240,    0],\n",
    "                [0,     0,      1,      0]])\n",
    "\n",
    "M2 = np.array([ [500,   0,      320,    -100],\n",
    "                [0,     500,    240,    0],\n",
    "                [0,     0,      1,      0]])\n",
    "\n",
    "p1 = M1 @ P\n",
    "p2 = M2 @ P"
   ]
  },
  {
   "cell_type": "code",
   "execution_count": 4,
   "id": "8711c5e7",
   "metadata": {},
   "outputs": [
    {
     "name": "stdout",
     "output_type": "stream",
     "text": [
      "[[ 0.11399017]\n",
      " [ 0.2511884 ]\n",
      " [14.07252407]\n",
      " [ 1.        ]]\n",
      "[[4560.20278931]\n",
      " [3502.99997934]\n",
      " [  14.07252407]]\n",
      "[[4460.20278931]\n",
      " [3502.99997934]\n",
      " [  14.07252407]]\n"
     ]
    }
   ],
   "source": [
    "print(P)\n",
    "print(p1)\n",
    "print(p2)"
   ]
  },
  {
   "cell_type": "code",
   "execution_count": 5,
   "id": "8a0ef58a",
   "metadata": {},
   "outputs": [
    {
     "data": {
      "text/plain": [
       "array([4560.20278931, 3502.99997934,   14.07252407])"
      ]
     },
     "execution_count": 5,
     "metadata": {},
     "output_type": "execute_result"
    }
   ],
   "source": [
    "p1.squeeze()"
   ]
  },
  {
   "cell_type": "code",
   "execution_count": 6,
   "id": "098ca14a",
   "metadata": {},
   "outputs": [],
   "source": [
    "p1_x = cross2Matrix(p1.squeeze())\n",
    "p2_x = cross2Matrix(p2.squeeze())"
   ]
  },
  {
   "cell_type": "code",
   "execution_count": 7,
   "id": "9a14f1a7",
   "metadata": {},
   "outputs": [
    {
     "name": "stdout",
     "output_type": "stream",
     "text": [
      "[[    0.           -14.07252407  3502.99997934]\n",
      " [   14.07252407     0.         -4560.20278931]\n",
      " [-3502.99997934  4560.20278931     0.        ]]\n",
      "[[    0.           -14.07252407  3502.99997934]\n",
      " [   14.07252407     0.         -4460.20278931]\n",
      " [-3502.99997934  4460.20278931     0.        ]]\n"
     ]
    }
   ],
   "source": [
    "print(p1_x)\n",
    "print(p2_x)"
   ]
  },
  {
   "cell_type": "code",
   "execution_count": 12,
   "id": "ba55f892",
   "metadata": {},
   "outputs": [
    {
     "data": {
      "text/plain": [
       "array([[ 0.00000000e+00, -5.30194208e+03,  4.68418310e+02,\n",
       "         0.00000000e+00],\n",
       "       [ 5.30194208e+03,  0.00000000e+00, -2.29313499e+02,\n",
       "         0.00000000e+00],\n",
       "       [-1.50667525e+06,  1.81127822e+06, -9.48586196e+04,\n",
       "         0.00000000e+00]])"
      ]
     },
     "execution_count": 12,
     "metadata": {},
     "output_type": "execute_result"
    }
   ],
   "source": [
    "p1_x@M1"
   ]
  },
  {
   "cell_type": "code",
   "execution_count": 15,
   "id": "d60f55b6",
   "metadata": {},
   "outputs": [
    {
     "data": {
      "text/plain": [
       "array([[ 0.00000000e+00, -5.30194208e+03,  4.68418310e+02,\n",
       "         0.00000000e+00],\n",
       "       [ 5.30194208e+03,  0.00000000e+00, -1.29313499e+02,\n",
       "        -1.06038842e+03],\n",
       "       [-1.50667525e+06,  1.76127822e+06, -1.18858620e+05,\n",
       "         3.01335051e+05]])"
      ]
     },
     "execution_count": 15,
     "metadata": {},
     "output_type": "execute_result"
    }
   ],
   "source": [
    "p2_x@M2"
   ]
  },
  {
   "cell_type": "code",
   "execution_count": 18,
   "id": "6ee2c6da",
   "metadata": {},
   "outputs": [],
   "source": [
    "A = np.r_[p1_x@M1, p2_x@M2]"
   ]
  },
  {
   "cell_type": "code",
   "execution_count": 19,
   "id": "168be1cc",
   "metadata": {},
   "outputs": [
    {
     "data": {
      "text/plain": [
       "(6, 4)"
      ]
     },
     "execution_count": 19,
     "metadata": {},
     "output_type": "execute_result"
    }
   ],
   "source": [
    "A.shape"
   ]
  },
  {
   "cell_type": "code",
   "execution_count": 20,
   "id": "bb6ecc66",
   "metadata": {},
   "outputs": [],
   "source": [
    "U,sigma, VT = np.linalg.svd(A,full_matrices=True)"
   ]
  },
  {
   "cell_type": "code",
   "execution_count": 22,
   "id": "84249ace",
   "metadata": {},
   "outputs": [
    {
     "data": {
      "text/plain": [
       "array([-0.04285478, -0.0875394 , -0.99084258, -0.09344148])"
      ]
     },
     "execution_count": 22,
     "metadata": {},
     "output_type": "execute_result"
    }
   ],
   "source": [
    "VT.T[:,-1]"
   ]
  },
  {
   "cell_type": "code",
   "execution_count": 23,
   "id": "94d2afe2",
   "metadata": {},
   "outputs": [
    {
     "data": {
      "text/plain": [
       "-0.09344147500687267"
      ]
     },
     "execution_count": 23,
     "metadata": {},
     "output_type": "execute_result"
    }
   ],
   "source": [
    "VT.T[3,-1]"
   ]
  },
  {
   "cell_type": "code",
   "execution_count": 25,
   "id": "23be16d8",
   "metadata": {},
   "outputs": [],
   "source": [
    "P_est = VT.T[:,-1] / VT.T[3,-1]"
   ]
  },
  {
   "cell_type": "code",
   "execution_count": 26,
   "id": "2d6355e0",
   "metadata": {},
   "outputs": [
    {
     "data": {
      "text/plain": [
       "array([ 0.458627  ,  0.93683662, 10.60388416,  1.        ])"
      ]
     },
     "execution_count": 26,
     "metadata": {},
     "output_type": "execute_result"
    }
   ],
   "source": [
    "P_est"
   ]
  },
  {
   "cell_type": "markdown",
   "id": "ad747336",
   "metadata": {},
   "source": [
    "## Def LinearTriangulation_Single "
   ]
  },
  {
   "cell_type": "code",
   "execution_count": 31,
   "id": "04f41fa4",
   "metadata": {},
   "outputs": [],
   "source": [
    "def linearTriangulation_single(p1, p2, M1, M2):\n",
    "    \"\"\" Linear Triangulation\n",
    "     Input:\n",
    "      - p1 np.ndarray(3, 1): homogeneous coordinates of points in image 1\n",
    "      - p2 np.ndarray(3, 1): homogeneous coordinates of points in image 2\n",
    "      - M1 np.ndarray(3, 4): projection matrix corresponding to first image\n",
    "      - M2 np.ndarray(3, 4): projection matrix corresponding to second image\n",
    "\n",
    "     Output:\n",
    "      - P np.ndarray(4, N): homogeneous coordinates of 3-D points\n",
    "    \"\"\"\n",
    "    \n",
    "    p1_x = cross2Matrix(p1.squeeze())\n",
    "    p2_x = cross2Matrix(p2.squeeze())\n",
    "    A = np.r_[p1_x@M1, p2_x@M2]\n",
    "    U,sigma, VT = np.linalg.svd(A,full_matrices=True)\n",
    "    P_est = VT.T[:,-1] / VT.T[3,-1]\n",
    "    return P_est\n"
   ]
  },
  {
   "cell_type": "markdown",
   "id": "0fd36b23",
   "metadata": {},
   "source": [
    "## Test  "
   ]
  },
  {
   "cell_type": "code",
   "execution_count": 112,
   "id": "9ad999a1",
   "metadata": {},
   "outputs": [],
   "source": [
    "# Number of 3D points to test\n",
    "N = 10\n",
    "\n",
    "# Random homogeneous coordinates of 3-D points\n",
    "P = np.random.rand(4,N)\n",
    "\n",
    "# Test linear triangulation\n",
    "P[2, :] = P[2, :] * 5 + 10\n",
    "P[3, :] = 1\n",
    "\n",
    "\n",
    "M1 = np.array([ [500,   0,      320,    0],\n",
    "                [0,     500,    240,    0],\n",
    "                [0,     0,      1,      0]])\n",
    "\n",
    "M2 = np.array([ [500,   0,      320,    -100],\n",
    "                [0,     500,    240,    0],\n",
    "                [0,     0,      1,      0]])\n",
    "\n",
    "p1 = M1 @ P\n",
    "p2 = M2 @ P"
   ]
  },
  {
   "cell_type": "code",
   "execution_count": 113,
   "id": "c4092690",
   "metadata": {},
   "outputs": [
    {
     "data": {
      "text/plain": [
       "array([[ 0.55300967,  0.46850847,  0.67099192,  0.07800552,  0.32397558,\n",
       "         0.52820844,  0.80884159,  0.13667473,  0.87319548,  0.94004699],\n",
       "       [ 0.34338809,  0.91580039,  0.33199173,  0.43532305,  0.65941655,\n",
       "         0.23625551,  0.44359341,  0.86329727,  0.17809186,  0.02837914],\n",
       "       [13.19350861, 13.29977474, 10.23636643, 12.73250876, 10.67004579,\n",
       "        10.18257285, 12.23047958, 11.03640398, 14.68522163, 12.56625493],\n",
       "       [ 1.        ,  1.        ,  1.        ,  1.        ,  1.        ,\n",
       "         1.        ,  1.        ,  1.        ,  1.        ,  1.        ]])"
      ]
     },
     "execution_count": 113,
     "metadata": {},
     "output_type": "execute_result"
    }
   ],
   "source": [
    "P"
   ]
  },
  {
   "cell_type": "code",
   "execution_count": 114,
   "id": "42c6debd",
   "metadata": {},
   "outputs": [
    {
     "data": {
      "text/plain": [
       "array([[4498.42758695, 4490.18215215, 3611.13321761, 4113.4055619 ,\n",
       "        3576.40244578, 3522.52753181, 4318.17426363, 3599.98663674,\n",
       "        5135.86865945, 4491.22507263],\n",
       "       [3338.13610869, 3649.84613506, 2622.72380938, 3273.46362636,\n",
       "        2890.51926655, 2561.94523764, 3157.11180289, 3080.38558885,\n",
       "        3613.49912026, 3030.09075177],\n",
       "       [  13.19350861,   13.29977474,   10.23636643,   12.73250876,\n",
       "          10.67004579,   10.18257285,   12.23047958,   11.03640398,\n",
       "          14.68522163,   12.56625493]])"
      ]
     },
     "execution_count": 114,
     "metadata": {},
     "output_type": "execute_result"
    }
   ],
   "source": [
    "p1"
   ]
  },
  {
   "cell_type": "code",
   "execution_count": 115,
   "id": "2b9280f3",
   "metadata": {},
   "outputs": [
    {
     "data": {
      "text/plain": [
       "array([4498.42758695, 3338.13610869,   13.19350861])"
      ]
     },
     "execution_count": 115,
     "metadata": {},
     "output_type": "execute_result"
    }
   ],
   "source": [
    "p1[:,0]"
   ]
  },
  {
   "cell_type": "code",
   "execution_count": 116,
   "id": "7fa4adbf",
   "metadata": {},
   "outputs": [
    {
     "data": {
      "text/plain": [
       "10"
      ]
     },
     "execution_count": 116,
     "metadata": {},
     "output_type": "execute_result"
    }
   ],
   "source": [
    "p1.shape[1]"
   ]
  },
  {
   "cell_type": "code",
   "execution_count": 117,
   "id": "40d4c995",
   "metadata": {},
   "outputs": [],
   "source": [
    "n_P = p1.shape[1]"
   ]
  },
  {
   "cell_type": "code",
   "execution_count": 118,
   "id": "3e56ab7b",
   "metadata": {},
   "outputs": [],
   "source": [
    "A = np.array"
   ]
  },
  {
   "cell_type": "code",
   "execution_count": 130,
   "id": "5f558e59",
   "metadata": {},
   "outputs": [],
   "source": [
    "for i in range(n_P):\n",
    "    temp_p1_x = cross2Matrix(p1[:,i].squeeze())\n",
    "    temp_p2_x = cross2Matrix(p2[:,i].squeeze())\n",
    "    temp_A_col = np.r_[temp_p1_x@M1, temp_p2_x@M2]\n",
    "    if i == 0 :\n",
    "        A = temp_A_col\n",
    "    else :\n",
    "        A = np.r_[A, temp_A_col]"
   ]
  },
  {
   "cell_type": "code",
   "execution_count": 132,
   "id": "256afb00",
   "metadata": {},
   "outputs": [
    {
     "data": {
      "text/plain": [
       "(60, 4)"
      ]
     },
     "execution_count": 132,
     "metadata": {},
     "output_type": "execute_result"
    }
   ],
   "source": [
    "A.shape"
   ]
  },
  {
   "cell_type": "code",
   "execution_count": 121,
   "id": "daac2845",
   "metadata": {},
   "outputs": [],
   "source": [
    "U,sigma, VT = np.linalg.svd(A,full_matrices=True)"
   ]
  },
  {
   "cell_type": "code",
   "execution_count": 122,
   "id": "0e0bfa40",
   "metadata": {},
   "outputs": [
    {
     "data": {
      "text/plain": [
       "array([-4.54609198e-02, -1.72641054e-01, -1.40728751e-01, -8.84301529e-02,\n",
       "        2.60813369e-01,  3.97433502e-01, -1.21999436e-04,  6.44508590e-02,\n",
       "       -2.64715761e-02, -6.14329716e-02,  1.44595256e-02, -1.10162582e-01,\n",
       "       -3.58934226e-02, -6.60623334e-02,  1.32055088e-02, -1.27438426e-01,\n",
       "       -6.91419986e-02, -9.45884909e-02,  6.14080929e-03,  1.94400645e-02,\n",
       "       -1.38699491e-02, -8.19595579e-02,  1.71460004e-02, -1.49857641e-01,\n",
       "       -3.78506146e-02, -9.40509113e-03,  1.17074967e-02, -1.11515286e-01,\n",
       "       -9.55468858e-02, -1.08562713e-01,  2.00325677e-03,  9.77659658e-02,\n",
       "        1.56079964e-03,  7.18962392e-02,  1.86751132e-02, -2.85809618e-01,\n",
       "        1.77790211e-02,  4.33089012e-02,  2.23050731e-02,  7.02291803e-01])"
      ]
     },
     "execution_count": 122,
     "metadata": {},
     "output_type": "execute_result"
    }
   ],
   "source": [
    "VT.T[:,-1]"
   ]
  },
  {
   "cell_type": "code",
   "execution_count": 123,
   "id": "8299d8ad",
   "metadata": {},
   "outputs": [],
   "source": [
    "P_unsc = VT.T[:,-1].reshape(10,4)"
   ]
  },
  {
   "cell_type": "code",
   "execution_count": 124,
   "id": "aae52a4f",
   "metadata": {},
   "outputs": [
    {
     "data": {
      "text/plain": [
       "array([[-4.54609198e-02, -1.72641054e-01, -1.40728751e-01,\n",
       "        -8.84301529e-02],\n",
       "       [ 2.60813369e-01,  3.97433502e-01, -1.21999436e-04,\n",
       "         6.44508590e-02],\n",
       "       [-2.64715761e-02, -6.14329716e-02,  1.44595256e-02,\n",
       "        -1.10162582e-01],\n",
       "       [-3.58934226e-02, -6.60623334e-02,  1.32055088e-02,\n",
       "        -1.27438426e-01],\n",
       "       [-6.91419986e-02, -9.45884909e-02,  6.14080929e-03,\n",
       "         1.94400645e-02],\n",
       "       [-1.38699491e-02, -8.19595579e-02,  1.71460004e-02,\n",
       "        -1.49857641e-01],\n",
       "       [-3.78506146e-02, -9.40509113e-03,  1.17074967e-02,\n",
       "        -1.11515286e-01],\n",
       "       [-9.55468858e-02, -1.08562713e-01,  2.00325677e-03,\n",
       "         9.77659658e-02],\n",
       "       [ 1.56079964e-03,  7.18962392e-02,  1.86751132e-02,\n",
       "        -2.85809618e-01],\n",
       "       [ 1.77790211e-02,  4.33089012e-02,  2.23050731e-02,\n",
       "         7.02291803e-01]])"
      ]
     },
     "execution_count": 124,
     "metadata": {},
     "output_type": "execute_result"
    }
   ],
   "source": [
    "P_unsc"
   ]
  },
  {
   "cell_type": "code",
   "execution_count": 125,
   "id": "feeed093",
   "metadata": {},
   "outputs": [
    {
     "data": {
      "text/plain": [
       "array([ 2.60813369e-01,  3.97433502e-01, -1.21999436e-04,  6.44508590e-02])"
      ]
     },
     "execution_count": 125,
     "metadata": {},
     "output_type": "execute_result"
    }
   ],
   "source": [
    "P_unsc[1,]"
   ]
  },
  {
   "cell_type": "code",
   "execution_count": 126,
   "id": "b510c7ed",
   "metadata": {},
   "outputs": [
    {
     "data": {
      "text/plain": [
       "0.7022918031018758"
      ]
     },
     "execution_count": 126,
     "metadata": {},
     "output_type": "execute_result"
    }
   ],
   "source": [
    "P_unsc[i,3] "
   ]
  },
  {
   "cell_type": "code",
   "execution_count": 127,
   "id": "acdf77cb",
   "metadata": {},
   "outputs": [],
   "source": [
    "P_est = np.ones_like(P_unsc)\n",
    "for i in range (P_unsc.shape[0]):\n",
    "    P_est[i,] = P_unsc[i,] / P_unsc[i,3] "
   ]
  },
  {
   "cell_type": "code",
   "execution_count": 137,
   "id": "1c4a3ad7",
   "metadata": {},
   "outputs": [
    {
     "data": {
      "text/plain": [
       "(10, 4)"
      ]
     },
     "execution_count": 137,
     "metadata": {},
     "output_type": "execute_result"
    }
   ],
   "source": [
    "P_est.shape"
   ]
  },
  {
   "cell_type": "code",
   "execution_count": 142,
   "id": "5ecaf958",
   "metadata": {},
   "outputs": [
    {
     "data": {
      "text/plain": [
       "array([4490.18215215, 3649.84613506,   13.29977474])"
      ]
     },
     "execution_count": 142,
     "metadata": {},
     "output_type": "execute_result"
    }
   ],
   "source": [
    "p1[:,1]"
   ]
  },
  {
   "cell_type": "code",
   "execution_count": 145,
   "id": "cf04bd8d",
   "metadata": {},
   "outputs": [],
   "source": [
    "    p_size = p1.shape[1]\n",
    "    P_est = np.ones([p_size,4])\n",
    "    for i in range (p_size):\n",
    "        temp_p1_x = cross2Matrix(p1[:,i].squeeze())\n",
    "        temp_p2_x = cross2Matrix(p2[:,i].squeeze())\n",
    "        temp_A = np.r_[temp_p1_x@M1, temp_p2_x@M2]\n",
    "        _,_, VT = np.linalg.svd(temp_A,full_matrices=True)\n",
    "        P_est[i,]  = VT.T[:,-1] / VT.T[3,-1]   "
   ]
  },
  {
   "cell_type": "code",
   "execution_count": null,
   "id": "30cd0377",
   "metadata": {},
   "outputs": [],
   "source": []
  },
  {
   "cell_type": "code",
   "execution_count": 136,
   "id": "0e14a54e",
   "metadata": {},
   "outputs": [
    {
     "data": {
      "text/plain": [
       "array([-3.58224982e+03, -2.68663762e+03,  5.61335650e+03,  1.00000000e+00])"
      ]
     },
     "execution_count": 136,
     "metadata": {},
     "output_type": "execute_result"
    }
   ],
   "source": [
    "temp_P_est"
   ]
  },
  {
   "cell_type": "code",
   "execution_count": 147,
   "id": "6cc4d472",
   "metadata": {},
   "outputs": [
    {
     "data": {
      "text/plain": [
       "array([[ 0.55300967,  0.46850847,  0.67099192,  0.07800552,  0.32397558,\n",
       "         0.52820844,  0.80884159,  0.13667473,  0.87319548,  0.94004699],\n",
       "       [ 0.34338809,  0.91580039,  0.33199173,  0.43532305,  0.65941655,\n",
       "         0.23625551,  0.44359341,  0.86329727,  0.17809186,  0.02837914],\n",
       "       [13.19350861, 13.29977474, 10.23636643, 12.73250876, 10.67004579,\n",
       "        10.18257285, 12.23047958, 11.03640398, 14.68522163, 12.56625493],\n",
       "       [ 1.        ,  1.        ,  1.        ,  1.        ,  1.        ,\n",
       "         1.        ,  1.        ,  1.        ,  1.        ,  1.        ]])"
      ]
     },
     "execution_count": 147,
     "metadata": {},
     "output_type": "execute_result"
    }
   ],
   "source": [
    "P_est.T"
   ]
  },
  {
   "cell_type": "code",
   "execution_count": 129,
   "id": "c1ea6bed",
   "metadata": {},
   "outputs": [
    {
     "data": {
      "text/plain": [
       "array([[ 0.55300967,  0.46850847,  0.67099192,  0.07800552,  0.32397558,\n",
       "         0.52820844,  0.80884159,  0.13667473,  0.87319548,  0.94004699],\n",
       "       [ 0.34338809,  0.91580039,  0.33199173,  0.43532305,  0.65941655,\n",
       "         0.23625551,  0.44359341,  0.86329727,  0.17809186,  0.02837914],\n",
       "       [13.19350861, 13.29977474, 10.23636643, 12.73250876, 10.67004579,\n",
       "        10.18257285, 12.23047958, 11.03640398, 14.68522163, 12.56625493],\n",
       "       [ 1.        ,  1.        ,  1.        ,  1.        ,  1.        ,\n",
       "         1.        ,  1.        ,  1.        ,  1.        ,  1.        ]])"
      ]
     },
     "execution_count": 129,
     "metadata": {},
     "output_type": "execute_result"
    }
   ],
   "source": [
    "P"
   ]
  },
  {
   "cell_type": "markdown",
   "id": "5c090330",
   "metadata": {},
   "source": [
    "## Def LinearTriangulation"
   ]
  },
  {
   "cell_type": "code",
   "execution_count": 8,
   "id": "3bbe5356",
   "metadata": {},
   "outputs": [],
   "source": [
    "def linearTriangulation(p1, p2, M1, M2):\n",
    "    \"\"\" Linear Triangulation\n",
    "     Input:\n",
    "      - p1 np.ndarray(3, N): homogeneous coordinates of points in image 1\n",
    "      - p2 np.ndarray(3, N): homogeneous coordinates of points in image 2\n",
    "      - M1 np.ndarray(3, 4): projection matrix corresponding to first image\n",
    "      - M2 np.ndarray(3, 4): projection matrix corresponding to second image\n",
    "\n",
    "     Output:\n",
    "      - P np.ndarray(4, N): homogeneous coordinates of 3-D points\n",
    "    \"\"\"\n",
    "    p_size = p1.shape[1]\n",
    "    P_est = np.ones([p_size,4])\n",
    "    for i in range (p_size):\n",
    "        temp_p1_x = cross2Matrix(p1[:,i].squeeze())\n",
    "        temp_p2_x = cross2Matrix(p2[:,i].squeeze())\n",
    "        temp_A = np.r_[temp_p1_x@M1, temp_p2_x@M2]\n",
    "        _,_, VT = np.linalg.svd(temp_A,full_matrices=True)\n",
    "        P_est[i,]  = VT.T[:,-1] / VT.T[3,-1]   \n",
    "\n",
    "    \n",
    "    return P_est.T\n"
   ]
  },
  {
   "cell_type": "markdown",
   "id": "7cdadcca",
   "metadata": {},
   "source": [
    "##  Run_Test_LinearTriangulation"
   ]
  },
  {
   "cell_type": "code",
   "execution_count": 9,
   "id": "09353196",
   "metadata": {},
   "outputs": [
    {
     "name": "stdout",
     "output_type": "stream",
     "text": [
      "P_est - P\n",
      "[[-3.33066907e-15  1.05471187e-15  2.77555756e-15 -3.83026943e-14\n",
      "  -2.32036612e-14 -1.99285033e-14 -4.60742555e-15 -3.28626015e-14\n",
      "  -2.55351296e-15 -1.99840144e-15]\n",
      " [-6.66133815e-16 -6.66133815e-16  2.16493490e-15 -2.89768209e-14\n",
      "  -1.62508895e-14 -1.65978342e-14 -3.71924713e-15 -2.23154828e-14\n",
      "  -1.66533454e-15 -1.27675648e-15]\n",
      " [-7.10542736e-15 -2.30926389e-14 -7.10542736e-15  1.42108547e-14\n",
      "   1.77635684e-14  1.95399252e-14  1.77635684e-14  5.50670620e-14\n",
      "   0.00000000e+00  8.88178420e-15]\n",
      " [ 0.00000000e+00  0.00000000e+00  0.00000000e+00  0.00000000e+00\n",
      "   0.00000000e+00  0.00000000e+00  0.00000000e+00  0.00000000e+00\n",
      "   0.00000000e+00  0.00000000e+00]]\n",
      "Your function looks Correct\n"
     ]
    }
   ],
   "source": [
    "# Number of 3D points to test\n",
    "N = 10\n",
    "\n",
    "# Random homogeneous coordinates of 3-D points\n",
    "P = np.random.rand(4,N)\n",
    "\n",
    "# Test linear triangulation\n",
    "P[2, :] = P[2, :] * 5 + 10\n",
    "P[3, :] = 1\n",
    "\n",
    "\n",
    "M1 = np.array([ [500,   0,      320,    0],\n",
    "                [0,     500,    240,    0],\n",
    "                [0,     0,      1,      0]])\n",
    "\n",
    "M2 = np.array([ [500,   0,      320,    -100],\n",
    "                [0,     500,    240,    0],\n",
    "                [0,     0,      1,      0]])\n",
    "\n",
    "p1 = M1 @ P\n",
    "p2 = M2 @ P\n",
    "\n",
    "P_est = linearTriangulation(p1, p2, M1, M2)\n",
    "\n",
    "print('P_est - P')\n",
    "print(P_est - P)\n",
    "print(\"Your function looks %s\" % (\"Correct\" if np.allclose(P_est, P) else \"Incorrect\"))\n"
   ]
  },
  {
   "cell_type": "code",
   "execution_count": null,
   "id": "db45f0f8",
   "metadata": {},
   "outputs": [],
   "source": []
  },
  {
   "cell_type": "code",
   "execution_count": null,
   "id": "32bf6ada",
   "metadata": {},
   "outputs": [],
   "source": []
  },
  {
   "cell_type": "code",
   "execution_count": null,
   "id": "b656c857",
   "metadata": {},
   "outputs": [],
   "source": []
  }
 ],
 "metadata": {
  "kernelspec": {
   "display_name": "Python [conda env:VAMR]",
   "language": "python",
   "name": "conda-env-VAMR-py"
  },
  "language_info": {
   "codemirror_mode": {
    "name": "ipython",
    "version": 3
   },
   "file_extension": ".py",
   "mimetype": "text/x-python",
   "name": "python",
   "nbconvert_exporter": "python",
   "pygments_lexer": "ipython3",
   "version": "3.8.13"
  }
 },
 "nbformat": 4,
 "nbformat_minor": 5
}
