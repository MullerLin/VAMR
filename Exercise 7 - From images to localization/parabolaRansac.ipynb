{
 "cells": [
  {
   "cell_type": "code",
   "execution_count": 1,
   "id": "c244c752",
   "metadata": {},
   "outputs": [],
   "source": [
    "import cv2\n",
    "import numpy as np\n",
    "import matplotlib.pyplot as plt\n",
    "from matplotlib.lines import Line2D"
   ]
  },
  {
   "cell_type": "markdown",
   "id": "d61bbbce",
   "metadata": {},
   "source": [
    "## DATA "
   ]
  },
  {
   "cell_type": "code",
   "execution_count": 3,
   "id": "b0e8bf13",
   "metadata": {},
   "outputs": [],
   "source": [
    "# Create data for parts 1 and 2\n",
    "num_inliers = 20\n",
    "num_outliers = 10\n",
    "noise_ratio = 0.1\n",
    "poly = np.random.uniform(size=[3, 1])  # random second-order polynomial\n",
    "extremum = -poly[1]/(2*poly[0])\n",
    "xstart = extremum - 0.5\n",
    "lowest = np.polyval(poly, extremum)\n",
    "highest = np.polyval(poly, xstart)\n",
    "xspan = 1\n",
    "yspan = highest - lowest\n",
    "max_noise = noise_ratio * yspan\n",
    "x = np.random.uniform(size=[1, num_inliers]) + xstart\n",
    "y = np.polyval(poly, x)\n",
    "y = y + (np.random.uniform(size=y.shape) - 0.5) * 2 * max_noise\n",
    "data = np.concatenate([np.concatenate([x, np.random.uniform(size=[1, num_outliers]) + xstart], axis=1),\n",
    "                       np.concatenate([y, np.random.uniform(size=[1, num_outliers]) * yspan + lowest], axis=1)], axis=0)\n"
   ]
  },
  {
   "cell_type": "markdown",
   "id": "c0785cc6",
   "metadata": {},
   "source": [
    "## Test "
   ]
  },
  {
   "cell_type": "code",
   "execution_count": 4,
   "id": "2e8b93d3",
   "metadata": {},
   "outputs": [
    {
     "data": {
      "text/plain": [
       "array([[-2.07193124, -1.76128707, -1.83388825, -2.14951985, -1.37585074,\n",
       "        -1.89441948, -2.08113942, -2.20614064, -1.55476885, -2.25940114,\n",
       "        -2.28874346, -2.10296313, -2.16360444, -2.00413525, -1.41500451,\n",
       "        -2.25832442, -1.67068032, -1.43542713, -1.38804362, -1.47716011,\n",
       "        -1.67531432, -2.15653067, -2.14877685, -2.20467612, -1.72918703,\n",
       "        -1.99838589, -2.19379577, -1.6661647 , -2.3286488 , -2.18133784],\n",
       "       [ 0.0734929 ,  0.06427948,  0.06304356,  0.07472007,  0.0908886 ,\n",
       "         0.06617433,  0.07525332,  0.08041555,  0.07793616,  0.08479783,\n",
       "         0.09176866,  0.07299105,  0.07640322,  0.06586498,  0.08813207,\n",
       "         0.08629945,  0.06870369,  0.08430908,  0.089543  ,  0.07894451,\n",
       "         0.08472746,  0.09369629,  0.0714465 ,  0.07318128,  0.074111  ,\n",
       "         0.07908002,  0.0796842 ,  0.0948442 ,  0.08625727,  0.08366252]])"
      ]
     },
     "execution_count": 4,
     "metadata": {},
     "output_type": "execute_result"
    }
   ],
   "source": [
    "data"
   ]
  },
  {
   "cell_type": "code",
   "execution_count": 5,
   "id": "e85c2067",
   "metadata": {},
   "outputs": [
    {
     "data": {
      "text/plain": [
       "(2, 30)"
      ]
     },
     "execution_count": 5,
     "metadata": {},
     "output_type": "execute_result"
    }
   ],
   "source": [
    "data.shape"
   ]
  },
  {
   "cell_type": "code",
   "execution_count": 7,
   "id": "3e9013c8",
   "metadata": {},
   "outputs": [],
   "source": [
    "indices = np.random.permutation(data.shape[1])[:3]"
   ]
  },
  {
   "cell_type": "code",
   "execution_count": 10,
   "id": "6d40b9b6",
   "metadata": {},
   "outputs": [
    {
     "data": {
      "text/plain": [
       "array([ 2, 25, 11])"
      ]
     },
     "execution_count": 10,
     "metadata": {},
     "output_type": "execute_result"
    }
   ],
   "source": [
    "indices"
   ]
  },
  {
   "cell_type": "code",
   "execution_count": 8,
   "id": "d85e0260",
   "metadata": {},
   "outputs": [],
   "source": [
    "samples = data[:, indices]"
   ]
  },
  {
   "cell_type": "code",
   "execution_count": 11,
   "id": "a7bba669",
   "metadata": {},
   "outputs": [
    {
     "data": {
      "text/plain": [
       "array([[-1.83388825, -1.99838589, -2.10296313],\n",
       "       [ 0.06304356,  0.07908002,  0.07299105]])"
      ]
     },
     "execution_count": 11,
     "metadata": {},
     "output_type": "execute_result"
    }
   ],
   "source": [
    "samples"
   ]
  },
  {
   "cell_type": "code",
   "execution_count": 9,
   "id": "f4fe0e0d",
   "metadata": {},
   "outputs": [],
   "source": [
    "guess = np.polyfit(samples[0, :], samples[1,:], 2)"
   ]
  },
  {
   "cell_type": "code",
   "execution_count": 12,
   "id": "b268f99f",
   "metadata": {},
   "outputs": [
    {
     "data": {
      "text/plain": [
       "array([-0.57869392, -2.31520121, -2.23654451])"
      ]
     },
     "execution_count": 12,
     "metadata": {},
     "output_type": "execute_result"
    }
   ],
   "source": [
    "guess"
   ]
  },
  {
   "cell_type": "markdown",
   "id": "822b0619",
   "metadata": {},
   "source": [
    "## Def parabolaRansac "
   ]
  },
  {
   "cell_type": "code",
   "execution_count": null,
   "id": "be7ece6d",
   "metadata": {},
   "outputs": [],
   "source": [
    "import numpy as np\n",
    "\n",
    "def parabolaRansac(data, max_noise):\n",
    "    \"\"\"\n",
    "    best_guess_history is 3xnum_iterations with the polynome coefficients  \n",
    "    from polyfit of the BEST GUESS SO FAR at each iteration columnwise and max_num_inliers_history is\n",
    "    1xnum_iterations, with the inlier count of the BEST GUESS SO FAR at each iteration.\n",
    "    \"\"\"\n",
    "\n"
   ]
  },
  {
   "cell_type": "markdown",
   "id": "94d78f23",
   "metadata": {},
   "source": [
    "## Code "
   ]
  },
  {
   "cell_type": "code",
   "execution_count": null,
   "id": "1deb7c83",
   "metadata": {},
   "outputs": [],
   "source": [
    "\n",
    "# Part 1 - RANSAC with parabola model\n",
    "best_guess_history, max_num_inliers_history = parabolaRansac(data, max_noise)\n"
   ]
  },
  {
   "cell_type": "code",
   "execution_count": null,
   "id": "dfb6223c",
   "metadata": {},
   "outputs": [],
   "source": []
  },
  {
   "cell_type": "code",
   "execution_count": null,
   "id": "9113e87f",
   "metadata": {},
   "outputs": [],
   "source": [
    "# Compare with full data fit.\n",
    "full_fit = np.polyfit(data[0, :], data[1, :], 2)\n",
    "\n",
    "plt.clf()\n",
    "plt.close()\n",
    "fig, axs = plt.subplots(1, 2)\n",
    "\n",
    "x = np.arange(xstart, xstart+1, 0.01)\n",
    "for i in range(best_guess_history.shape[1]):\n",
    "    guess_plot = axs[0].plot(x, np.polyval(best_guess_history[:, i], x), c='b', linewidth=1)\n",
    "\n",
    "axs[0].plot(x, np.polyval(poly, x), 'g', linewidth=2, label='ground truth')\n",
    "axs[0].plot(x, np.polyval(best_guess_history[:, -1], x), 'r', linewidth=2, label='RANSAC result')\n",
    "axs[0].plot(x, np.polyval(full_fit, x), 'r--', linewidth=2, label='full data fit')\n",
    "axs[0].set_title('RANSAC VS full fit')\n",
    "\n",
    "\n",
    "line = Line2D([0], [0], color='b', linewidth=1, linestyle='-', label='RANSAC guesses')\n",
    "handles, labels = axs[0].get_legend_handles_labels()\n",
    "handles.append(line)\n",
    "axs[0].legend(handles=handles, shadow=True, fancybox=True)\n",
    "\n",
    "axs[1].plot(max_num_inliers_history)\n",
    "axs[1].set_title('Max num inliers over iterations')\n",
    "plt.show()\n",
    "\n",
    "print('RMS of full fit =')\n",
    "x = np.arange(0, 1, 0.01) + xstart\n",
    "print(np.sqrt(np.mean(np.square(np.polyval(poly, x) - np.polyval(full_fit, x)))))\n",
    "print('RMS of RANSAC =')\n",
    "x = np.arange(0, 1, 0.01) + xstart\n",
    "print(np.sqrt(np.mean(np.square(np.polyval(poly, x) - np.polyval(best_guess_history[:, -1], x)))))\n"
   ]
  },
  {
   "cell_type": "markdown",
   "id": "07fac2b1",
   "metadata": {},
   "source": [
    "## Solution "
   ]
  },
  {
   "cell_type": "code",
   "execution_count": 6,
   "id": "c49d2a27",
   "metadata": {},
   "outputs": [],
   "source": [
    "import numpy as np\n",
    "\n",
    "def parabolaRansac(data, max_noise):\n",
    "    \"\"\"\n",
    "    best_guess_history is 3xnum_iterations with the polynome coefficients  \n",
    "    from polyfit of the BEST GUESS SO FAR at each iteration columnwise and max_num_inliers_history is\n",
    "    1xnum_iterations, with the inlier count of the BEST GUESS SO FAR at each iteration.\n",
    "    \"\"\"\n",
    "    num_iterations = 100\n",
    "\n",
    "    best_guess_history = np.zeros([3, num_iterations])\n",
    "    max_num_inliers_history = np.zeros([num_iterations])\n",
    "\n",
    "    best_guess = np.zeros([3, 1])\n",
    "    max_num_inliers = 0\n",
    "    rerun_on_inliers = True\n",
    "\n",
    "    for i in range(num_iterations):\n",
    "        # Model based on 3 samples:\n",
    "        indices = np.random.permutation(data.shape[1])[:3]\n",
    "        samples = data[:, indices]\n",
    "        guess = np.polyfit(samples[0, :], samples[1,:], 2)\n",
    "\n",
    "        # Evaluate amount of inliers\n",
    "        errors = np.abs(np.polyval(guess, data[0, :]) - data[1,:])\n",
    "        inliers = errors <= max_noise + 1e-5\n",
    "        num_inliers = (inliers).sum()\n",
    "        # Determine if the current guess is the best so far.\n",
    "        if num_inliers > max_num_inliers:\n",
    "            if rerun_on_inliers:\n",
    "                guess = np.polyfit(data[0, inliers], data[1, inliers], 2)\n",
    "            best_guess = guess\n",
    "            max_num_inliers = num_inliers\n",
    "\n",
    "        best_guess_history[:, i] = best_guess\n",
    "        max_num_inliers_history[i] = max_num_inliers\n",
    "\n",
    "    return best_guess_history, max_num_inliers_history"
   ]
  },
  {
   "cell_type": "code",
   "execution_count": null,
   "id": "e67affa3",
   "metadata": {},
   "outputs": [],
   "source": []
  }
 ],
 "metadata": {
  "kernelspec": {
   "display_name": "Python [conda env:VAMR]",
   "language": "python",
   "name": "conda-env-VAMR-py"
  },
  "language_info": {
   "codemirror_mode": {
    "name": "ipython",
    "version": 3
   },
   "file_extension": ".py",
   "mimetype": "text/x-python",
   "name": "python",
   "nbconvert_exporter": "python",
   "pygments_lexer": "ipython3",
   "version": "3.8.13"
  }
 },
 "nbformat": 4,
 "nbformat_minor": 5
}
