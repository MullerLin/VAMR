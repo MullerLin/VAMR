{
 "cells": [
  {
   "cell_type": "code",
   "execution_count": 1,
   "id": "76aa1443",
   "metadata": {},
   "outputs": [],
   "source": [
    "import cv2\n",
    "import matplotlib.pyplot as plt\n",
    "import numpy as np\n",
    "import time\n",
    "from scipy.spatial.transform import Rotation\n"
   ]
  },
  {
   "cell_type": "markdown",
   "id": "734a44fd",
   "metadata": {},
   "source": [
    "### 读入图像中检测的点坐标"
   ]
  },
  {
   "cell_type": "code",
   "execution_count": 2,
   "id": "2b166924",
   "metadata": {},
   "outputs": [],
   "source": [
    "all_pts_2d = np.loadtxt(\"/home/mullin/WorkSpace/CourseProject/3 VAMR/Exercise 2 - PnP/data/detected_corners.txt\")"
   ]
  },
  {
   "cell_type": "code",
   "execution_count": 5,
   "id": "bffbba94",
   "metadata": {},
   "outputs": [
    {
     "name": "stdout",
     "output_type": "stream",
     "text": [
      "210\n",
      "24\n"
     ]
    }
   ],
   "source": [
    "row, column = all_pts_2d.shape\n",
    "print(row)\n",
    "print(column)"
   ]
  },
  {
   "cell_type": "code",
   "execution_count": 6,
   "id": "8e3c5474",
   "metadata": {},
   "outputs": [
    {
     "data": {
      "text/plain": [
       "array([[186.5, 187.5, 264.5, ..., 280.5, 496.5, 300.5],\n",
       "       [186.5, 186.5, 264.5, ..., 279.5, 496.5, 300.5],\n",
       "       [187.5, 186.5, 265.5, ..., 279.5, 496.5, 300.5],\n",
       "       ...,\n",
       "       [220.5, 216.5, 293.5, ..., 306.5, 547.5, 319.5],\n",
       "       [214.5, 226.5, 289.5, ..., 313.5, 542.5, 327.5],\n",
       "       [208.5, 236.5, 283.5, ..., 322.5, 537.5, 336.5]])"
      ]
     },
     "execution_count": 6,
     "metadata": {},
     "output_type": "execute_result"
    }
   ],
   "source": [
    "all_pts_2d"
   ]
  },
  {
   "cell_type": "markdown",
   "id": "7adef085",
   "metadata": {},
   "source": [
    "### 对图像点坐标进行reshape，获取一组图像的中检测到的点"
   ]
  },
  {
   "cell_type": "code",
   "execution_count": 10,
   "id": "dc6bbac0",
   "metadata": {},
   "outputs": [],
   "source": [
    "image_idx = 1\n",
    "pts_2d = np.reshape(\n",
    "    np.loadtxt(\"/home/mullin/WorkSpace/CourseProject/3 VAMR/Exercise 2 - PnP/data/detected_corners.txt\")[image_idx-1,:],\n",
    "    (-1, 2) )"
   ]
  },
  {
   "cell_type": "code",
   "execution_count": 11,
   "id": "86d6ced0",
   "metadata": {},
   "outputs": [
    {
     "data": {
      "text/plain": [
       "(12, 2)"
      ]
     },
     "execution_count": 11,
     "metadata": {},
     "output_type": "execute_result"
    }
   ],
   "source": [
    "pts_2d.shape"
   ]
  },
  {
   "cell_type": "code",
   "execution_count": 12,
   "id": "be811003",
   "metadata": {},
   "outputs": [
    {
     "data": {
      "text/plain": [
       "array([[186.5, 187.5],\n",
       "       [264.5, 166.5],\n",
       "       [218.5, 304.5],\n",
       "       [285.5, 270.5],\n",
       "       [292.5, 369.5],\n",
       "       [356.5, 322.5],\n",
       "       [406.5, 418.5],\n",
       "       [461.5, 353.5],\n",
       "       [388.5, 204.5],\n",
       "       [495.5, 211.5],\n",
       "       [396.5, 280.5],\n",
       "       [496.5, 300.5]])"
      ]
     },
     "execution_count": 12,
     "metadata": {},
     "output_type": "execute_result"
    }
   ],
   "source": [
    "pts_2d"
   ]
  },
  {
   "cell_type": "code",
   "execution_count": 7,
   "id": "1e46062d",
   "metadata": {},
   "outputs": [],
   "source": [
    "p1 = all_pts_2d[1,:]"
   ]
  },
  {
   "cell_type": "code",
   "execution_count": null,
   "id": "f3e1ae06",
   "metadata": {},
   "outputs": [],
   "source": []
  },
  {
   "cell_type": "code",
   "execution_count": 13,
   "id": "e93c1eb6",
   "metadata": {},
   "outputs": [],
   "source": [
    "pts_2d = np.reshape(all_pts_2d[0,:],(-1,2))"
   ]
  },
  {
   "cell_type": "code",
   "execution_count": 15,
   "id": "fe6c73ff",
   "metadata": {},
   "outputs": [
    {
     "data": {
      "text/plain": [
       "array([[186.5, 187.5],\n",
       "       [264.5, 166.5],\n",
       "       [218.5, 304.5],\n",
       "       [285.5, 270.5],\n",
       "       [292.5, 369.5],\n",
       "       [356.5, 322.5],\n",
       "       [406.5, 418.5],\n",
       "       [461.5, 353.5],\n",
       "       [388.5, 204.5],\n",
       "       [495.5, 211.5],\n",
       "       [396.5, 280.5],\n",
       "       [496.5, 300.5]])"
      ]
     },
     "execution_count": 15,
     "metadata": {},
     "output_type": "execute_result"
    }
   ],
   "source": [
    "pts_2d"
   ]
  },
  {
   "cell_type": "code",
   "execution_count": null,
   "id": "5b138ae8",
   "metadata": {},
   "outputs": [],
   "source": []
  },
  {
   "cell_type": "code",
   "execution_count": 17,
   "id": "f5d1d58f",
   "metadata": {},
   "outputs": [],
   "source": [
    "# 内参矩阵\n",
    "K = np.loadtxt(\"/home/mullin/WorkSpace/CourseProject/3 VAMR/Exercise 2 - PnP/data/K.txt\")"
   ]
  },
  {
   "cell_type": "code",
   "execution_count": 18,
   "id": "9e700db6",
   "metadata": {},
   "outputs": [
    {
     "data": {
      "text/plain": [
       "array([[420.506712,   0.      , 355.208298],\n",
       "       [  0.      , 420.61094 , 250.336787],\n",
       "       [  0.      ,   0.      ,   1.      ]])"
      ]
     },
     "execution_count": 18,
     "metadata": {},
     "output_type": "execute_result"
    }
   ],
   "source": [
    "K"
   ]
  },
  {
   "cell_type": "code",
   "execution_count": 19,
   "id": "a29bf20e",
   "metadata": {},
   "outputs": [],
   "source": [
    "# 点的世界坐标系\n",
    "p_W_corners = 0.01 * np.loadtxt(\"/home/mullin/WorkSpace/CourseProject/3 VAMR/Exercise 2 - PnP/data/p_W_corners.txt\", delimiter = \",\")"
   ]
  },
  {
   "cell_type": "code",
   "execution_count": 20,
   "id": "d14c8d99",
   "metadata": {},
   "outputs": [
    {
     "data": {
      "text/plain": [
       "array([[ 0.    ,  0.08  ,  0.    ],\n",
       "       [ 0.104 ,  0.08  ,  0.    ],\n",
       "       [ 0.    ,  0.215 ,  0.    ],\n",
       "       [ 0.104 ,  0.215 ,  0.    ],\n",
       "       [ 0.    ,  0.266 , -0.1095],\n",
       "       [ 0.104 ,  0.266 , -0.1095],\n",
       "       [ 0.    ,  0.266 , -0.2445],\n",
       "       [ 0.104 ,  0.266 , -0.2445],\n",
       "       [ 0.194 ,  0.146 , -0.1095],\n",
       "       [ 0.194 ,  0.146 , -0.2445],\n",
       "       [ 0.194 ,  0.25  , -0.1095],\n",
       "       [ 0.194 ,  0.25  , -0.2445]])"
      ]
     },
     "execution_count": 20,
     "metadata": {},
     "output_type": "execute_result"
    }
   ],
   "source": [
    "p_W_corners"
   ]
  },
  {
   "cell_type": "code",
   "execution_count": 60,
   "id": "6d607c5f",
   "metadata": {},
   "outputs": [],
   "source": [
    "# 世界坐标与图像坐标下的点\n",
    "p = pts_2d\n",
    "P = p_W_corners"
   ]
  },
  {
   "cell_type": "markdown",
   "id": "bc783012",
   "metadata": {},
   "source": [
    "### 计算在相机坐标系下的坐标"
   ]
  },
  {
   "cell_type": "code",
   "execution_count": 64,
   "id": "2bfec57f",
   "metadata": {},
   "outputs": [],
   "source": [
    "p_norm = (np.linalg.inv(K) @ np.c_[p, np.ones((p.shape[0], 1))].T).T"
   ]
  },
  {
   "cell_type": "code",
   "execution_count": 23,
   "id": "88ce200b",
   "metadata": {},
   "outputs": [
    {
     "data": {
      "text/plain": [
       "array([[-0.40120239, -0.14939409,  1.        ],\n",
       "       [-0.21571189, -0.19932146,  1.        ],\n",
       "       [-0.32510372,  0.12877272,  1.        ],\n",
       "       [-0.16577214,  0.04793792,  1.        ],\n",
       "       [-0.14912556,  0.28330983,  1.        ],\n",
       "       [ 0.00307177,  0.17156761,  1.        ],\n",
       "       [ 0.12197594,  0.39980704,  1.        ],\n",
       "       [ 0.25277052,  0.24526992,  1.        ],\n",
       "       [ 0.07917044, -0.10897669,  1.        ],\n",
       "       [ 0.33362536, -0.09233423,  1.        ],\n",
       "       [ 0.09819511,  0.07171286,  1.        ],\n",
       "       [ 0.33600344,  0.11926274,  1.        ]])"
      ]
     },
     "execution_count": 23,
     "metadata": {},
     "output_type": "execute_result"
    }
   ],
   "source": [
    "p_norm"
   ]
  },
  {
   "cell_type": "code",
   "execution_count": 49,
   "id": "83ceb82c",
   "metadata": {},
   "outputs": [
    {
     "data": {
      "text/plain": [
       "array([[186.5, 264.5, 218.5, 285.5, 292.5, 356.5, 406.5, 461.5, 388.5,\n",
       "        495.5, 396.5, 496.5],\n",
       "       [187.5, 166.5, 304.5, 270.5, 369.5, 322.5, 418.5, 353.5, 204.5,\n",
       "        211.5, 280.5, 300.5],\n",
       "       [  1. ,   1. ,   1. ,   1. ,   1. ,   1. ,   1. ,   1. ,   1. ,\n",
       "          1. ,   1. ,   1. ]])"
      ]
     },
     "execution_count": 49,
     "metadata": {},
     "output_type": "execute_result"
    }
   ],
   "source": [
    "np.c_[p, np.ones((p.shape[0], 1))].T"
   ]
  },
  {
   "cell_type": "code",
   "execution_count": 52,
   "id": "cd04a9c5",
   "metadata": {},
   "outputs": [],
   "source": [
    "pts_2d_aug = np.c_[p, np.ones((p.shape[0], 1))]"
   ]
  },
  {
   "cell_type": "code",
   "execution_count": 53,
   "id": "e716f65d",
   "metadata": {},
   "outputs": [
    {
     "data": {
      "text/plain": [
       "array([[186.5, 187.5,   1. ],\n",
       "       [264.5, 166.5,   1. ],\n",
       "       [218.5, 304.5,   1. ],\n",
       "       [285.5, 270.5,   1. ],\n",
       "       [292.5, 369.5,   1. ],\n",
       "       [356.5, 322.5,   1. ],\n",
       "       [406.5, 418.5,   1. ],\n",
       "       [461.5, 353.5,   1. ],\n",
       "       [388.5, 204.5,   1. ],\n",
       "       [495.5, 211.5,   1. ],\n",
       "       [396.5, 280.5,   1. ],\n",
       "       [496.5, 300.5,   1. ]])"
      ]
     },
     "execution_count": 53,
     "metadata": {},
     "output_type": "execute_result"
    }
   ],
   "source": [
    "pts_2d_aug"
   ]
  },
  {
   "cell_type": "code",
   "execution_count": 72,
   "id": "c687a784",
   "metadata": {},
   "outputs": [],
   "source": [
    "p_cam = (np.mat(K).I * pts_2d_aug.T).T [:,0:2]"
   ]
  },
  {
   "cell_type": "code",
   "execution_count": 73,
   "id": "ef2d7e35",
   "metadata": {},
   "outputs": [
    {
     "data": {
      "text/plain": [
       "matrix([[-0.40120239, -0.14939409],\n",
       "        [-0.21571189, -0.19932146],\n",
       "        [-0.32510372,  0.12877272],\n",
       "        [-0.16577214,  0.04793792],\n",
       "        [-0.14912556,  0.28330983],\n",
       "        [ 0.00307177,  0.17156761],\n",
       "        [ 0.12197594,  0.39980704],\n",
       "        [ 0.25277052,  0.24526992],\n",
       "        [ 0.07917044, -0.10897669],\n",
       "        [ 0.33362536, -0.09233423],\n",
       "        [ 0.09819511,  0.07171286],\n",
       "        [ 0.33600344,  0.11926274]])"
      ]
     },
     "execution_count": 73,
     "metadata": {},
     "output_type": "execute_result"
    }
   ],
   "source": [
    "p_cam"
   ]
  },
  {
   "cell_type": "code",
   "execution_count": 78,
   "id": "746f210e",
   "metadata": {},
   "outputs": [
    {
     "data": {
      "text/plain": [
       "-0.40120239031999094"
      ]
     },
     "execution_count": 78,
     "metadata": {},
     "output_type": "execute_result"
    }
   ],
   "source": [
    "p_cam [0,0]"
   ]
  },
  {
   "cell_type": "code",
   "execution_count": null,
   "id": "19b28ec3",
   "metadata": {},
   "outputs": [],
   "source": []
  },
  {
   "cell_type": "markdown",
   "id": "e761cc1c",
   "metadata": {},
   "source": [
    "### 获取Q矩阵"
   ]
  },
  {
   "cell_type": "code",
   "execution_count": 75,
   "id": "7088336a",
   "metadata": {},
   "outputs": [],
   "source": [
    "p_W_mat = np.mat(p_W_corners)\n",
    "p_W_mat_h = np.hstack((p_W_mat,np.mat(np.ones((12,1)))))"
   ]
  },
  {
   "cell_type": "code",
   "execution_count": 76,
   "id": "002adee7",
   "metadata": {},
   "outputs": [
    {
     "data": {
      "text/plain": [
       "matrix([[ 0.    ,  0.08  ,  0.    ,  1.    ],\n",
       "        [ 0.104 ,  0.08  ,  0.    ,  1.    ],\n",
       "        [ 0.    ,  0.215 ,  0.    ,  1.    ],\n",
       "        [ 0.104 ,  0.215 ,  0.    ,  1.    ],\n",
       "        [ 0.    ,  0.266 , -0.1095,  1.    ],\n",
       "        [ 0.104 ,  0.266 , -0.1095,  1.    ],\n",
       "        [ 0.    ,  0.266 , -0.2445,  1.    ],\n",
       "        [ 0.104 ,  0.266 , -0.2445,  1.    ],\n",
       "        [ 0.194 ,  0.146 , -0.1095,  1.    ],\n",
       "        [ 0.194 ,  0.146 , -0.2445,  1.    ],\n",
       "        [ 0.194 ,  0.25  , -0.1095,  1.    ],\n",
       "        [ 0.194 ,  0.25  , -0.2445,  1.    ]])"
      ]
     },
     "execution_count": 76,
     "metadata": {},
     "output_type": "execute_result"
    }
   ],
   "source": [
    "p_W_mat_h"
   ]
  },
  {
   "cell_type": "code",
   "execution_count": 79,
   "id": "0a8fadec",
   "metadata": {},
   "outputs": [],
   "source": [
    "num_corners = p.shape[0]"
   ]
  },
  {
   "cell_type": "code",
   "execution_count": 80,
   "id": "f3fafa67",
   "metadata": {},
   "outputs": [
    {
     "data": {
      "text/plain": [
       "12"
      ]
     },
     "execution_count": 80,
     "metadata": {},
     "output_type": "execute_result"
    }
   ],
   "source": [
    "num_corners"
   ]
  },
  {
   "cell_type": "code",
   "execution_count": 81,
   "id": "28f278dd",
   "metadata": {},
   "outputs": [
    {
     "data": {
      "text/plain": [
       "24"
      ]
     },
     "execution_count": 81,
     "metadata": {},
     "output_type": "execute_result"
    }
   ],
   "source": [
    "column"
   ]
  },
  {
   "cell_type": "code",
   "execution_count": 77,
   "id": "9c382794",
   "metadata": {},
   "outputs": [],
   "source": [
    "Q = np.mat(np.zeros((num_corners*2,12)))"
   ]
  },
  {
   "cell_type": "code",
   "execution_count": 83,
   "id": "ea897b2e",
   "metadata": {},
   "outputs": [],
   "source": [
    "Q = np.mat(np.zeros((num_corners*2,12)))\n",
    "for i in range (num_corners):\n",
    "    Q[2*i, 0:4] = p_W_mat_h[i]\n",
    "    Q[2*i, 8:12] = p_W_mat_h[i] * (-1) * p_cam[i,0]\n",
    "    Q[2*i+1, 4:8] = p_W_mat_h[i]\n",
    "    Q[2*i+1, 8:12] = p_W_mat_h[i] * (-1) * p_cam[i,1]"
   ]
  },
  {
   "cell_type": "code",
   "execution_count": 87,
   "id": "8553a846",
   "metadata": {},
   "outputs": [
    {
     "data": {
      "text/plain": [
       "matrix([[0.        , 0.08      , 0.        , 1.        , 0.        ,\n",
       "         0.        , 0.        , 0.        , 0.        , 0.03209619,\n",
       "         0.        , 0.40120239]])"
      ]
     },
     "execution_count": 87,
     "metadata": {},
     "output_type": "execute_result"
    }
   ],
   "source": [
    "Q[0,:]"
   ]
  },
  {
   "cell_type": "code",
   "execution_count": null,
   "id": "38343680",
   "metadata": {},
   "outputs": [],
   "source": []
  },
  {
   "cell_type": "code",
   "execution_count": 85,
   "id": "0514d1ab",
   "metadata": {},
   "outputs": [],
   "source": [
    "    Q_ = np.zeros((2*num_corners, 12))\n",
    "    for i in range(num_corners):\n",
    "        u = p_norm[i, 0]\n",
    "        v = p_norm[i, 1]\n",
    "\n",
    "        Q_[2*i, 0:3] = P[i,:]\n",
    "        Q_[2*i, 3] = 1\n",
    "        Q_[2*i, 8:11] = -u * P[i,:]\n",
    "        Q_[2*i, 11] = -u\n",
    "        \n",
    "        Q_[2*i+1, 4:7] = P[i,:]\n",
    "        Q_[2*i+1, 7] = 1\n",
    "        Q_[2*i+1, 8:11] = -v * P[i,:]\n",
    "        Q_[2*i+1, 11] = -v"
   ]
  },
  {
   "cell_type": "code",
   "execution_count": 88,
   "id": "83c1308a",
   "metadata": {},
   "outputs": [
    {
     "data": {
      "text/plain": [
       "array([0.        , 0.08      , 0.        , 1.        , 0.        ,\n",
       "       0.        , 0.        , 0.        , 0.        , 0.03209619,\n",
       "       0.        , 0.40120239])"
      ]
     },
     "execution_count": 88,
     "metadata": {},
     "output_type": "execute_result"
    }
   ],
   "source": [
    "Q_[0,:]"
   ]
  },
  {
   "cell_type": "code",
   "execution_count": null,
   "id": "e7a287ab",
   "metadata": {},
   "outputs": [],
   "source": []
  },
  {
   "cell_type": "code",
   "execution_count": null,
   "id": "07089210",
   "metadata": {},
   "outputs": [],
   "source": []
  },
  {
   "cell_type": "markdown",
   "id": "116b0044",
   "metadata": {},
   "source": [
    "### SVD"
   ]
  },
  {
   "cell_type": "code",
   "execution_count": 132,
   "id": "721f8d8f",
   "metadata": {},
   "outputs": [],
   "source": [
    "U,sigma, VT = np.linalg.svd(Q,full_matrices=True)"
   ]
  },
  {
   "cell_type": "code",
   "execution_count": 133,
   "id": "75026d9b",
   "metadata": {},
   "outputs": [
    {
     "data": {
      "text/plain": [
       "matrix([[ 1.22043317e-02,  2.32921933e-02, -1.51884999e-02,\n",
       "          1.10814842e-01,  9.54536943e-02,  1.97370856e-01,\n",
       "         -1.15682008e-01,  9.57663812e-01, -4.26150745e-03,\n",
       "         -2.83140007e-02,  2.05493970e-02, -8.35872029e-02],\n",
       "        [ 9.63009996e-02,  1.97190986e-01, -1.15361032e-01,\n",
       "          9.61592675e-01, -1.11730362e-02, -2.29282394e-02,\n",
       "          1.34123508e-02, -1.11641480e-01, -1.22378377e-02,\n",
       "         -3.70251255e-03,  1.91988476e-02,  6.84630543e-03],\n",
       "        [-1.29601367e-01, -6.03102259e-02,  2.27919388e-01,\n",
       "          6.02570523e-02,  6.55953355e-02, -9.04714385e-02,\n",
       "          7.70667577e-02,  1.09334628e-01,  7.05667483e-02,\n",
       "          1.72028808e-01, -1.16653777e-01,  9.19470036e-01],\n",
       "        [ 1.17319426e-01,  1.03178884e-01, -2.77777264e-01,\n",
       "         -6.53674243e-02, -3.33794326e-01, -2.93706868e-01,\n",
       "          8.10967723e-01,  1.91575612e-01, -1.00579593e-02,\n",
       "          1.01203136e-02, -4.31900527e-02, -5.99646731e-03],\n",
       "        [-4.42204880e-02, -3.19141183e-01,  5.58697428e-01,\n",
       "          1.35187787e-01, -6.52852280e-01,  3.27742295e-01,\n",
       "          1.03883210e-01,  5.26280170e-04,  4.59147548e-02,\n",
       "         -8.64937023e-02,  6.98838000e-02, -8.29380422e-02],\n",
       "        [ 7.83054991e-01, -5.14395192e-01,  1.47012616e-01,\n",
       "          4.37891831e-02,  2.54652617e-01, -1.58604004e-01,\n",
       "          4.91518608e-02,  1.31351816e-02, -7.77972921e-02,\n",
       "          5.90287252e-03, -2.77669596e-03,  2.38108845e-03],\n",
       "        [-1.49688196e-01, -4.01196137e-01, -3.72026798e-01,\n",
       "          4.53731149e-02, -3.79078999e-01, -5.01174205e-01,\n",
       "         -3.92430272e-01,  9.27687553e-02, -1.49379823e-03,\n",
       "         -1.53419734e-01,  2.89327946e-01,  1.06948155e-01],\n",
       "        [-4.06846106e-01, -5.92583999e-01, -2.96074874e-01,\n",
       "          1.23000104e-01,  3.29675112e-01,  3.62408612e-01,\n",
       "          3.29276634e-01, -7.15474662e-02, -1.37759596e-01,\n",
       "         -5.38463502e-02,  7.08441510e-02, -8.20003481e-03],\n",
       "        [ 5.11780293e-02,  2.29599424e-01,  1.48131637e-01,\n",
       "         -5.85495618e-02,  6.87317668e-02,  4.46860914e-02,\n",
       "          8.98748743e-02, -1.15783377e-02, -5.98078217e-01,\n",
       "         -1.27222166e-01,  7.14155834e-01,  1.43037892e-01],\n",
       "        [ 6.76579240e-02, -4.87387617e-02, -2.06506709e-01,\n",
       "         -1.83187600e-02, -2.71921547e-01,  1.43338639e-01,\n",
       "         -1.68219497e-01, -1.93455664e-03, -6.31387050e-01,\n",
       "          5.59406231e-01, -3.40059614e-01,  7.21287159e-03],\n",
       "        [ 1.73800452e-01,  8.62914365e-02, -2.08724701e-01,\n",
       "         -5.96566077e-02, -1.26244646e-01,  2.40270148e-01,\n",
       "         -7.98882699e-02, -4.13883535e-02, -2.45821376e-01,\n",
       "         -7.53410349e-01, -3.83690197e-01,  2.41218208e-01],\n",
       "        [-3.45763716e-01, -7.20053047e-02,  4.35177995e-01,\n",
       "          1.02236354e-01,  1.92324308e-01, -5.20299770e-01,\n",
       "          6.66346338e-02,  7.75386242e-02, -3.88375353e-01,\n",
       "         -1.96944824e-01, -3.42399429e-01, -2.24538590e-01]])"
      ]
     },
     "execution_count": 133,
     "metadata": {},
     "output_type": "execute_result"
    }
   ],
   "source": [
    "VT"
   ]
  },
  {
   "cell_type": "code",
   "execution_count": 136,
   "id": "7bcfaae0",
   "metadata": {},
   "outputs": [],
   "source": [
    "M = VT.T[:,-1].reshape(3,4)\n",
    "if (np.linalg.det(M[:, :3]) < 0):\n",
    "    M *= -1"
   ]
  },
  {
   "cell_type": "code",
   "execution_count": 137,
   "id": "d5e55f71",
   "metadata": {},
   "outputs": [
    {
     "data": {
      "text/plain": [
       "matrix([[ 0.34576372,  0.0720053 , -0.435178  , -0.10223635],\n",
       "        [-0.19232431,  0.52029977, -0.06663463, -0.07753862],\n",
       "        [ 0.38837535,  0.19694482,  0.34239943,  0.22453859]])"
      ]
     },
     "execution_count": 137,
     "metadata": {},
     "output_type": "execute_result"
    }
   ],
   "source": [
    "M"
   ]
  },
  {
   "cell_type": "code",
   "execution_count": 138,
   "id": "70eaa488",
   "metadata": {},
   "outputs": [],
   "source": [
    "R = M[0:3,0:3]"
   ]
  },
  {
   "cell_type": "code",
   "execution_count": 139,
   "id": "23aeee81",
   "metadata": {},
   "outputs": [
    {
     "data": {
      "text/plain": [
       "matrix([[ 0.34576372,  0.0720053 , -0.435178  ],\n",
       "        [-0.19232431,  0.52029977, -0.06663463],\n",
       "        [ 0.38837535,  0.19694482,  0.34239943]])"
      ]
     },
     "execution_count": 139,
     "metadata": {},
     "output_type": "execute_result"
    }
   ],
   "source": [
    "R"
   ]
  },
  {
   "cell_type": "code",
   "execution_count": 140,
   "id": "7276e72b",
   "metadata": {},
   "outputs": [],
   "source": [
    "U_R, Sigma_R, VT_R = np.linalg.svd(R)"
   ]
  },
  {
   "cell_type": "code",
   "execution_count": 141,
   "id": "59f2629b",
   "metadata": {},
   "outputs": [],
   "source": [
    "R_ = U_R*VT_R"
   ]
  },
  {
   "cell_type": "code",
   "execution_count": 142,
   "id": "804abffa",
   "metadata": {},
   "outputs": [
    {
     "data": {
      "text/plain": [
       "matrix([[ 0.61751389,  0.12882547, -0.77593852],\n",
       "        [-0.34983735,  0.92853417, -0.12425027],\n",
       "        [ 0.70447883,  0.34817854,  0.61845071]])"
      ]
     },
     "execution_count": 142,
     "metadata": {},
     "output_type": "execute_result"
    }
   ],
   "source": [
    "R_"
   ]
  },
  {
   "cell_type": "code",
   "execution_count": 146,
   "id": "f0b20cc2",
   "metadata": {},
   "outputs": [],
   "source": [
    "alpha = np.linalg.norm(R_) / np.linalg.norm(R)"
   ]
  },
  {
   "cell_type": "code",
   "execution_count": 147,
   "id": "d63e6684",
   "metadata": {},
   "outputs": [
    {
     "data": {
      "text/plain": [
       "1.7930498521818585"
      ]
     },
     "execution_count": 147,
     "metadata": {},
     "output_type": "execute_result"
    }
   ],
   "source": [
    "alpha"
   ]
  },
  {
   "cell_type": "code",
   "execution_count": 158,
   "id": "d5610277",
   "metadata": {},
   "outputs": [],
   "source": [
    "M_ = np.c_[R_, alpha * M[:,3]];"
   ]
  },
  {
   "cell_type": "code",
   "execution_count": 159,
   "id": "c175c390",
   "metadata": {},
   "outputs": [
    {
     "data": {
      "text/plain": [
       "matrix([[ 0.61751389,  0.12882547, -0.77593852, -0.18331488],\n",
       "        [-0.34983735,  0.92853417, -0.12425027, -0.13903062],\n",
       "        [ 0.70447883,  0.34817854,  0.61845071,  0.40260889]])"
      ]
     },
     "execution_count": 159,
     "metadata": {},
     "output_type": "execute_result"
    }
   ],
   "source": [
    "M_"
   ]
  },
  {
   "cell_type": "markdown",
   "id": "ad908bc9",
   "metadata": {},
   "source": [
    "### answer"
   ]
  },
  {
   "cell_type": "code",
   "execution_count": 150,
   "id": "1b346666",
   "metadata": {},
   "outputs": [],
   "source": [
    "    u, s, v = np.linalg.svd(Q, full_matrices=True)\n",
    "    M_tilde = np.reshape(v.T[:,-1], (3,4));\n",
    "    \n",
    "    # Extract [R | t] with the correct scale\n",
    "    if (np.linalg.det(M_tilde[:, :3]) < 0):\n",
    "        M_tilde *= -1\n"
   ]
  },
  {
   "cell_type": "code",
   "execution_count": 151,
   "id": "d59e0a9a",
   "metadata": {},
   "outputs": [
    {
     "data": {
      "text/plain": [
       "matrix([[ 0.34576372,  0.0720053 , -0.435178  , -0.10223635],\n",
       "        [-0.19232431,  0.52029977, -0.06663463, -0.07753862],\n",
       "        [ 0.38837535,  0.19694482,  0.34239943,  0.22453859]])"
      ]
     },
     "execution_count": 151,
     "metadata": {},
     "output_type": "execute_result"
    }
   ],
   "source": [
    "M_tilde"
   ]
  },
  {
   "cell_type": "code",
   "execution_count": 152,
   "id": "01ae2052",
   "metadata": {},
   "outputs": [],
   "source": [
    "    R = M_tilde[:, :3]"
   ]
  },
  {
   "cell_type": "code",
   "execution_count": 153,
   "id": "fd27d0a9",
   "metadata": {},
   "outputs": [
    {
     "data": {
      "text/plain": [
       "matrix([[ 0.34576372,  0.0720053 , -0.435178  ],\n",
       "        [-0.19232431,  0.52029977, -0.06663463],\n",
       "        [ 0.38837535,  0.19694482,  0.34239943]])"
      ]
     },
     "execution_count": 153,
     "metadata": {},
     "output_type": "execute_result"
    }
   ],
   "source": [
    "R"
   ]
  },
  {
   "cell_type": "code",
   "execution_count": 154,
   "id": "ad7a7fe7",
   "metadata": {},
   "outputs": [],
   "source": [
    "    # Find the closest orthogonal matrix to R\n",
    "    # https://en.wikipedia.org/wiki/Orthogonal_Procrustes_problem\n",
    "    u, s, v = np.linalg.svd(R);\n",
    "    R_tilde = u @ v;\n",
    "\n",
    "    # Normalization scheme using the Frobenius norm:\n",
    "    # recover the unknown scale using the fact that R_tilde is a true rotation matrix\n",
    "    alpha = np.linalg.norm(R_tilde, 'fro')/np.linalg.norm(R, 'fro');\n",
    "\n",
    "    # Build M_tilde with the corrected rotation and scale\n",
    "    M_tilde = np.c_[R_tilde, alpha * M_tilde[:,3]];"
   ]
  },
  {
   "cell_type": "code",
   "execution_count": 155,
   "id": "86867b5b",
   "metadata": {},
   "outputs": [
    {
     "data": {
      "text/plain": [
       "matrix([[ 0.61751389,  0.12882547, -0.77593852],\n",
       "        [-0.34983735,  0.92853417, -0.12425027],\n",
       "        [ 0.70447883,  0.34817854,  0.61845071]])"
      ]
     },
     "execution_count": 155,
     "metadata": {},
     "output_type": "execute_result"
    }
   ],
   "source": [
    "R_tilde"
   ]
  },
  {
   "cell_type": "code",
   "execution_count": 156,
   "id": "43f677aa",
   "metadata": {},
   "outputs": [
    {
     "data": {
      "text/plain": [
       "1.7930498521818585"
      ]
     },
     "execution_count": 156,
     "metadata": {},
     "output_type": "execute_result"
    }
   ],
   "source": [
    "alpha"
   ]
  },
  {
   "cell_type": "code",
   "execution_count": 157,
   "id": "54f436f4",
   "metadata": {},
   "outputs": [
    {
     "data": {
      "text/plain": [
       "matrix([[ 0.61751389,  0.12882547, -0.77593852, -0.18331488],\n",
       "        [-0.34983735,  0.92853417, -0.12425027, -0.13903062],\n",
       "        [ 0.70447883,  0.34817854,  0.61845071,  0.40260889]])"
      ]
     },
     "execution_count": 157,
     "metadata": {},
     "output_type": "execute_result"
    }
   ],
   "source": [
    "M_tilde"
   ]
  },
  {
   "cell_type": "code",
   "execution_count": null,
   "id": "fedaa22c",
   "metadata": {},
   "outputs": [],
   "source": []
  },
  {
   "cell_type": "code",
   "execution_count": null,
   "id": "ae786dea",
   "metadata": {},
   "outputs": [],
   "source": []
  },
  {
   "cell_type": "markdown",
   "id": "50ebb61f",
   "metadata": {},
   "source": [
    "### Function"
   ]
  },
  {
   "cell_type": "code",
   "execution_count": 166,
   "id": "fb0fdbe7",
   "metadata": {},
   "outputs": [],
   "source": [
    "def estimatePoseDLT(p, P, K):\n",
    "    \n",
    "    num_corners = p.shape[0]\n",
    "    \n",
    "    pts_2d_aug = np.c_[p, np.ones((p.shape[0], 1))]\n",
    "    p_cam = (np.mat(K).I * pts_2d_aug.T).T [:,0:2]\n",
    "    p_W_mat_h = np.hstack((P,np.mat(np.ones((num_corners,1)))))\n",
    "    \n",
    "\n",
    "    Q = np.mat(np.zeros((num_corners*2,12)))\n",
    "    for i in range (num_corners):\n",
    "        Q[2*i, 0:4] = p_W_mat_h[i]\n",
    "        Q[2*i, 8:12] = p_W_mat_h[i] * (-1) * p_cam[i,0]\n",
    "        Q[2*i+1, 4:8] = p_W_mat_h[i]\n",
    "        Q[2*i+1, 8:12] = p_W_mat_h[i] * (-1) * p_cam[i,1]\n",
    "        \n",
    "    U,sigma, VT = np.linalg.svd(Q,full_matrices=True)\n",
    "    M = VT.T[:,-1].reshape(3,4)\n",
    "    if (np.linalg.det(M[:, :3]) < 0):\n",
    "        M *= -1    \n",
    "    R = M[0:3,0:3]\n",
    "    U_R, Sigma_R, VT_R = np.linalg.svd(R)\n",
    "    R_ = U_R*VT_R\n",
    "    alpha = np.linalg.norm(R_) / np.linalg.norm(R)\n",
    "    M_ = np.c_[R_, alpha * M[:,3]]\n",
    "    \n",
    "    return M_"
   ]
  },
  {
   "cell_type": "code",
   "execution_count": 167,
   "id": "c28881ee",
   "metadata": {},
   "outputs": [],
   "source": [
    "M = estimatePoseDLT(p, P, K)"
   ]
  },
  {
   "cell_type": "code",
   "execution_count": 168,
   "id": "bb977a52",
   "metadata": {},
   "outputs": [
    {
     "data": {
      "text/plain": [
       "<function print>"
      ]
     },
     "execution_count": 168,
     "metadata": {},
     "output_type": "execute_result"
    }
   ],
   "source": [
    "print"
   ]
  },
  {
   "cell_type": "code",
   "execution_count": 169,
   "id": "fcee5d72",
   "metadata": {},
   "outputs": [
    {
     "data": {
      "text/plain": [
       "matrix([[ 0.61751389,  0.12882547, -0.77593852, -0.18331488],\n",
       "        [-0.34983735,  0.92853417, -0.12425027, -0.13903062],\n",
       "        [ 0.70447883,  0.34817854,  0.61845071,  0.40260889]])"
      ]
     },
     "execution_count": 169,
     "metadata": {},
     "output_type": "execute_result"
    }
   ],
   "source": [
    "M"
   ]
  },
  {
   "cell_type": "code",
   "execution_count": null,
   "id": "df42efa4",
   "metadata": {},
   "outputs": [],
   "source": []
  }
 ],
 "metadata": {
  "kernelspec": {
   "display_name": "Python [conda env:VAMR]",
   "language": "python",
   "name": "conda-env-VAMR-py"
  },
  "language_info": {
   "codemirror_mode": {
    "name": "ipython",
    "version": 3
   },
   "file_extension": ".py",
   "mimetype": "text/x-python",
   "name": "python",
   "nbconvert_exporter": "python",
   "pygments_lexer": "ipython3",
   "version": "3.8.13"
  }
 },
 "nbformat": 4,
 "nbformat_minor": 5
}
