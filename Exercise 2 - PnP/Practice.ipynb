{
 "cells": [
  {
   "cell_type": "code",
   "execution_count": 1,
   "id": "41e33ead",
   "metadata": {},
   "outputs": [],
   "source": [
    "import cv2\n",
    "import matplotlib.pyplot as plt\n",
    "import numpy as np\n",
    "import time\n",
    "from scipy.spatial.transform import Rotation\n",
    "\n",
    "# from estimate_pose_dlt import estimatePoseDLT\n",
    "# from reproject_points import reprojectPoints\n",
    "# from draw_camera import drawCamera"
   ]
  },
  {
   "cell_type": "code",
   "execution_count": 2,
   "id": "1f70f15f",
   "metadata": {},
   "outputs": [],
   "source": [
    "all_pts_2d = np.loadtxt(\"/home/mullin/WorkSpace/CourseProject/3 VAMR/Exercise 2 - PnP/data/detected_corners.txt\")"
   ]
  },
  {
   "cell_type": "code",
   "execution_count": 3,
   "id": "27f8bb4e",
   "metadata": {},
   "outputs": [],
   "source": [
    "row, column = all_pts_2d.shape"
   ]
  },
  {
   "cell_type": "code",
   "execution_count": 4,
   "id": "4fe39171",
   "metadata": {},
   "outputs": [
    {
     "data": {
      "text/plain": [
       "array([[186.5, 187.5, 264.5, ..., 280.5, 496.5, 300.5],\n",
       "       [186.5, 186.5, 264.5, ..., 279.5, 496.5, 300.5],\n",
       "       [187.5, 186.5, 265.5, ..., 279.5, 496.5, 300.5],\n",
       "       ...,\n",
       "       [220.5, 216.5, 293.5, ..., 306.5, 547.5, 319.5],\n",
       "       [214.5, 226.5, 289.5, ..., 313.5, 542.5, 327.5],\n",
       "       [208.5, 236.5, 283.5, ..., 322.5, 537.5, 336.5]])"
      ]
     },
     "execution_count": 4,
     "metadata": {},
     "output_type": "execute_result"
    }
   ],
   "source": [
    "all_pts_2d"
   ]
  },
  {
   "cell_type": "code",
   "execution_count": 5,
   "id": "c895c368",
   "metadata": {},
   "outputs": [],
   "source": [
    "p_1 = all_pts_2d[1,:]"
   ]
  },
  {
   "cell_type": "code",
   "execution_count": 6,
   "id": "19f7dff6",
   "metadata": {},
   "outputs": [
    {
     "data": {
      "text/plain": [
       "array([186.5, 186.5, 264.5, 166.5, 217.5, 303.5, 285.5, 269.5, 291.5,\n",
       "       369.5, 355.5, 322.5, 405.5, 418.5, 462.5, 352.5, 388.5, 204.5,\n",
       "       495.5, 211.5, 396.5, 279.5, 496.5, 300.5])"
      ]
     },
     "execution_count": 6,
     "metadata": {},
     "output_type": "execute_result"
    }
   ],
   "source": [
    "p_1"
   ]
  },
  {
   "cell_type": "code",
   "execution_count": 7,
   "id": "17816147",
   "metadata": {},
   "outputs": [
    {
     "data": {
      "text/plain": [
       "186.5"
      ]
     },
     "execution_count": 7,
     "metadata": {},
     "output_type": "execute_result"
    }
   ],
   "source": [
    "p_1[1]"
   ]
  },
  {
   "cell_type": "code",
   "execution_count": null,
   "id": "1fff7bed",
   "metadata": {},
   "outputs": [],
   "source": []
  },
  {
   "cell_type": "code",
   "execution_count": 8,
   "id": "8b8976eb",
   "metadata": {},
   "outputs": [],
   "source": [
    "pixel = np.ones((3, int(column/2)))"
   ]
  },
  {
   "cell_type": "code",
   "execution_count": 9,
   "id": "cb5fd6dd",
   "metadata": {},
   "outputs": [],
   "source": [
    "pixel_mat = np.mat(pixel)"
   ]
  },
  {
   "cell_type": "code",
   "execution_count": 10,
   "id": "5b1987b8",
   "metadata": {},
   "outputs": [
    {
     "data": {
      "text/plain": [
       "array([[1., 1., 1., 1., 1., 1., 1., 1., 1., 1., 1., 1.],\n",
       "       [1., 1., 1., 1., 1., 1., 1., 1., 1., 1., 1., 1.],\n",
       "       [1., 1., 1., 1., 1., 1., 1., 1., 1., 1., 1., 1.]])"
      ]
     },
     "execution_count": 10,
     "metadata": {},
     "output_type": "execute_result"
    }
   ],
   "source": [
    "pixel"
   ]
  },
  {
   "cell_type": "code",
   "execution_count": 11,
   "id": "df659b21",
   "metadata": {},
   "outputs": [
    {
     "data": {
      "text/plain": [
       "1.0"
      ]
     },
     "execution_count": 11,
     "metadata": {},
     "output_type": "execute_result"
    }
   ],
   "source": [
    "pixel[0][0]"
   ]
  },
  {
   "cell_type": "code",
   "execution_count": 12,
   "id": "f2b759c8",
   "metadata": {},
   "outputs": [
    {
     "data": {
      "text/plain": [
       "matrix([[1., 1., 1., 1., 1., 1., 1., 1., 1., 1., 1., 1.],\n",
       "        [1., 1., 1., 1., 1., 1., 1., 1., 1., 1., 1., 1.],\n",
       "        [1., 1., 1., 1., 1., 1., 1., 1., 1., 1., 1., 1.]])"
      ]
     },
     "execution_count": 12,
     "metadata": {},
     "output_type": "execute_result"
    }
   ],
   "source": [
    "pixel_mat"
   ]
  },
  {
   "cell_type": "code",
   "execution_count": 13,
   "id": "2d31f9d6",
   "metadata": {},
   "outputs": [
    {
     "data": {
      "text/plain": [
       "1.0"
      ]
     },
     "execution_count": 13,
     "metadata": {},
     "output_type": "execute_result"
    }
   ],
   "source": [
    "pixel_mat[1,1]"
   ]
  },
  {
   "cell_type": "code",
   "execution_count": 14,
   "id": "3cd6f25c",
   "metadata": {},
   "outputs": [],
   "source": [
    "for i in range(int(column/2)):\n",
    "    pixel[0][i] = p_1[2*i]\n",
    "    pixel[1][i] = p_1[2*i+1]\n",
    "    pixel[2][i] = 1"
   ]
  },
  {
   "cell_type": "code",
   "execution_count": 15,
   "id": "d84d07b9",
   "metadata": {},
   "outputs": [
    {
     "data": {
      "text/plain": [
       "array([[186.5, 264.5, 217.5, 285.5, 291.5, 355.5, 405.5, 462.5, 388.5,\n",
       "        495.5, 396.5, 496.5],\n",
       "       [186.5, 166.5, 303.5, 269.5, 369.5, 322.5, 418.5, 352.5, 204.5,\n",
       "        211.5, 279.5, 300.5],\n",
       "       [  1. ,   1. ,   1. ,   1. ,   1. ,   1. ,   1. ,   1. ,   1. ,\n",
       "          1. ,   1. ,   1. ]])"
      ]
     },
     "execution_count": 15,
     "metadata": {},
     "output_type": "execute_result"
    }
   ],
   "source": [
    "pixel"
   ]
  },
  {
   "cell_type": "code",
   "execution_count": 16,
   "id": "f3aaa5f6",
   "metadata": {},
   "outputs": [],
   "source": [
    "for i in range(int(column/2)):\n",
    "    pixel_mat[0,i] = p_1[2*i]\n",
    "    pixel_mat[1,i] = p_1[2*i+1]\n",
    "    pixel_mat[2,i] = 1"
   ]
  },
  {
   "cell_type": "code",
   "execution_count": null,
   "id": "06ca1e8f",
   "metadata": {},
   "outputs": [],
   "source": [
    "pixel_mat"
   ]
  },
  {
   "cell_type": "code",
   "execution_count": null,
   "id": "541b5575",
   "metadata": {
    "scrolled": true
   },
   "outputs": [],
   "source": [
    "np.mat(pixel)"
   ]
  },
  {
   "cell_type": "code",
   "execution_count": null,
   "id": "54ab7827",
   "metadata": {},
   "outputs": [],
   "source": [
    "pixel_mat == np.mat(pixel)"
   ]
  },
  {
   "cell_type": "code",
   "execution_count": 20,
   "id": "60ba91c3",
   "metadata": {},
   "outputs": [],
   "source": [
    "K = np.loadtxt(\"/home/mullin/WorkSpace/CourseProject/3 VAMR/Exercise 2 - PnP//data/K.txt\")"
   ]
  },
  {
   "cell_type": "code",
   "execution_count": 21,
   "id": "cde4cd74",
   "metadata": {},
   "outputs": [
    {
     "data": {
      "text/plain": [
       "array([[420.506712,   0.      , 355.208298],\n",
       "       [  0.      , 420.61094 , 250.336787],\n",
       "       [  0.      ,   0.      ,   1.      ]])"
      ]
     },
     "execution_count": 21,
     "metadata": {},
     "output_type": "execute_result"
    }
   ],
   "source": [
    "K"
   ]
  },
  {
   "cell_type": "code",
   "execution_count": 22,
   "id": "797fbb9e",
   "metadata": {},
   "outputs": [],
   "source": [
    "K = np.mat(K)"
   ]
  },
  {
   "cell_type": "code",
   "execution_count": 23,
   "id": "2ec6253c",
   "metadata": {},
   "outputs": [],
   "source": [
    "k_inv = K.I"
   ]
  },
  {
   "cell_type": "code",
   "execution_count": 24,
   "id": "47da3a6a",
   "metadata": {},
   "outputs": [
    {
     "data": {
      "text/plain": [
       "matrix([[ 0.00237808,  0.        , -0.84471493],\n",
       "        [ 0.        ,  0.00237749, -0.59517422],\n",
       "        [ 0.        ,  0.        ,  1.        ]])"
      ]
     },
     "execution_count": 24,
     "metadata": {},
     "output_type": "execute_result"
    }
   ],
   "source": [
    "k_inv"
   ]
  },
  {
   "cell_type": "code",
   "execution_count": 25,
   "id": "cfc2baff",
   "metadata": {},
   "outputs": [
    {
     "data": {
      "text/plain": [
       "matrix([[186.5, 264.5, 217.5, 285.5, 291.5, 355.5, 405.5, 462.5, 388.5,\n",
       "         495.5, 396.5, 496.5]])"
      ]
     },
     "execution_count": 25,
     "metadata": {},
     "output_type": "execute_result"
    }
   ],
   "source": [
    "pixel_mat[0,:]"
   ]
  },
  {
   "cell_type": "code",
   "execution_count": 26,
   "id": "90eb56d1",
   "metadata": {},
   "outputs": [
    {
     "data": {
      "text/plain": [
       "matrix([[186.5],\n",
       "        [186.5],\n",
       "        [  1. ]])"
      ]
     },
     "execution_count": 26,
     "metadata": {},
     "output_type": "execute_result"
    }
   ],
   "source": [
    "pixel_mat[:,0]"
   ]
  },
  {
   "cell_type": "code",
   "execution_count": 33,
   "id": "35118731",
   "metadata": {},
   "outputs": [
    {
     "data": {
      "text/plain": [
       "matrix([[-0.40120239],\n",
       "        [-0.15177158],\n",
       "        [ 1.        ]])"
      ]
     },
     "execution_count": 33,
     "metadata": {},
     "output_type": "execute_result"
    }
   ],
   "source": [
    "k_inv*pixel_mat[:,0]"
   ]
  },
  {
   "cell_type": "code",
   "execution_count": 28,
   "id": "62e5450f",
   "metadata": {},
   "outputs": [
    {
     "data": {
      "text/plain": [
       "matrix([[-0.6069066 ],\n",
       "        [-0.35742481],\n",
       "        [ 1.        ]])"
      ]
     },
     "execution_count": 28,
     "metadata": {},
     "output_type": "execute_result"
    }
   ],
   "source": [
    "k_inv*np.mat([100,100,1]).T"
   ]
  },
  {
   "cell_type": "code",
   "execution_count": 29,
   "id": "fb6f0079",
   "metadata": {},
   "outputs": [],
   "source": [
    "p_c = np.mat(np.zeros((3,int(column/2))))"
   ]
  },
  {
   "cell_type": "code",
   "execution_count": 31,
   "id": "ea25297e",
   "metadata": {},
   "outputs": [],
   "source": [
    "for i in range (int(column/2)):\n",
    "    p_c[:,i]=k_inv*pixel_mat[:,i]"
   ]
  },
  {
   "cell_type": "code",
   "execution_count": 32,
   "id": "ddd426e4",
   "metadata": {},
   "outputs": [
    {
     "data": {
      "text/plain": [
       "matrix([[-4.01202390e-01, -2.15711891e-01, -3.27481807e-01,\n",
       "         -1.65772141e-01, -1.51503641e-01,  6.93691662e-04,\n",
       "          1.19597858e-01,  2.55148607e-01,  7.91704414e-02,\n",
       "          3.33625357e-01,  9.81951080e-02,  3.36003441e-01],\n",
       "        [-1.51771580e-01, -1.99321461e-01,  1.26395222e-01,\n",
       "          4.55604246e-02,  2.83309828e-01,  1.71567608e-01,\n",
       "          3.99807035e-01,  2.42892429e-01, -1.08976688e-01,\n",
       "         -9.23342293e-02,  6.93353649e-02,  1.19262740e-01],\n",
       "        [ 1.00000000e+00,  1.00000000e+00,  1.00000000e+00,\n",
       "          1.00000000e+00,  1.00000000e+00,  1.00000000e+00,\n",
       "          1.00000000e+00,  1.00000000e+00,  1.00000000e+00,\n",
       "          1.00000000e+00,  1.00000000e+00,  1.00000000e+00]])"
      ]
     },
     "execution_count": 32,
     "metadata": {},
     "output_type": "execute_result"
    }
   ],
   "source": [
    "p_c"
   ]
  },
  {
   "cell_type": "code",
   "execution_count": 41,
   "id": "713ac714",
   "metadata": {},
   "outputs": [],
   "source": [
    "p_c_d = p_c[0:2,:]"
   ]
  },
  {
   "cell_type": "code",
   "execution_count": 42,
   "id": "bf10abe1",
   "metadata": {},
   "outputs": [
    {
     "data": {
      "text/plain": [
       "matrix([[-0.40120239, -0.21571189, -0.32748181, -0.16577214, -0.15150364,\n",
       "          0.00069369,  0.11959786,  0.25514861,  0.07917044,  0.33362536,\n",
       "          0.09819511,  0.33600344],\n",
       "        [-0.15177158, -0.19932146,  0.12639522,  0.04556042,  0.28330983,\n",
       "          0.17156761,  0.39980704,  0.24289243, -0.10897669, -0.09233423,\n",
       "          0.06933536,  0.11926274]])"
      ]
     },
     "execution_count": 42,
     "metadata": {},
     "output_type": "execute_result"
    }
   ],
   "source": [
    "p_c_d"
   ]
  },
  {
   "cell_type": "code",
   "execution_count": 122,
   "id": "3211cec2",
   "metadata": {},
   "outputs": [
    {
     "data": {
      "text/plain": [
       "matrix([[-0.40120239],\n",
       "        [-0.15177158]])"
      ]
     },
     "execution_count": 122,
     "metadata": {},
     "output_type": "execute_result"
    }
   ],
   "source": [
    "p_c_d[:,0]"
   ]
  },
  {
   "cell_type": "code",
   "execution_count": 43,
   "id": "287fa4e6",
   "metadata": {},
   "outputs": [],
   "source": [
    "p_W_corners = np.loadtxt(\"/home/mullin/WorkSpace/CourseProject/3 VAMR/Exercise 2 - PnP//data/p_W_corners.txt\", delimiter = \",\")"
   ]
  },
  {
   "cell_type": "code",
   "execution_count": 44,
   "id": "b10cc8e8",
   "metadata": {},
   "outputs": [
    {
     "data": {
      "text/plain": [
       "array([[  0.  ,   8.  ,   0.  ],\n",
       "       [ 10.4 ,   8.  ,   0.  ],\n",
       "       [  0.  ,  21.5 ,   0.  ],\n",
       "       [ 10.4 ,  21.5 ,   0.  ],\n",
       "       [  0.  ,  26.6 , -10.95],\n",
       "       [ 10.4 ,  26.6 , -10.95],\n",
       "       [  0.  ,  26.6 , -24.45],\n",
       "       [ 10.4 ,  26.6 , -24.45],\n",
       "       [ 19.4 ,  14.6 , -10.95],\n",
       "       [ 19.4 ,  14.6 , -24.45],\n",
       "       [ 19.4 ,  25.  , -10.95],\n",
       "       [ 19.4 ,  25.  , -24.45]])"
      ]
     },
     "execution_count": 44,
     "metadata": {},
     "output_type": "execute_result"
    }
   ],
   "source": [
    "p_W_corners"
   ]
  },
  {
   "cell_type": "code",
   "execution_count": 46,
   "id": "78a398c6",
   "metadata": {},
   "outputs": [],
   "source": [
    "p_W_mat = np.mat(p_W_corners)"
   ]
  },
  {
   "cell_type": "code",
   "execution_count": 58,
   "id": "53d2edba",
   "metadata": {},
   "outputs": [],
   "source": [
    "p_W_mat_h = np.hstack((p_W_mat,np.mat(np.ones((12,1)))))"
   ]
  },
  {
   "cell_type": "code",
   "execution_count": 59,
   "id": "aa6017ee",
   "metadata": {},
   "outputs": [
    {
     "data": {
      "text/plain": [
       "matrix([[  0.  ,   8.  ,   0.  ,   1.  ],\n",
       "        [ 10.4 ,   8.  ,   0.  ,   1.  ],\n",
       "        [  0.  ,  21.5 ,   0.  ,   1.  ],\n",
       "        [ 10.4 ,  21.5 ,   0.  ,   1.  ],\n",
       "        [  0.  ,  26.6 , -10.95,   1.  ],\n",
       "        [ 10.4 ,  26.6 , -10.95,   1.  ],\n",
       "        [  0.  ,  26.6 , -24.45,   1.  ],\n",
       "        [ 10.4 ,  26.6 , -24.45,   1.  ],\n",
       "        [ 19.4 ,  14.6 , -10.95,   1.  ],\n",
       "        [ 19.4 ,  14.6 , -24.45,   1.  ],\n",
       "        [ 19.4 ,  25.  , -10.95,   1.  ],\n",
       "        [ 19.4 ,  25.  , -24.45,   1.  ]])"
      ]
     },
     "execution_count": 59,
     "metadata": {},
     "output_type": "execute_result"
    }
   ],
   "source": [
    "p_W_mat_h"
   ]
  },
  {
   "cell_type": "code",
   "execution_count": 73,
   "id": "41dc729b",
   "metadata": {},
   "outputs": [
    {
     "data": {
      "text/plain": [
       "matrix([[ 0. ,  8. ,  0. ,  1. ],\n",
       "        [10.4,  8. ,  0. ,  1. ]])"
      ]
     },
     "execution_count": 73,
     "metadata": {},
     "output_type": "execute_result"
    }
   ],
   "source": [
    "p_W_mat_h[0:2,:]"
   ]
  },
  {
   "cell_type": "code",
   "execution_count": 140,
   "id": "e95a4b6d",
   "metadata": {},
   "outputs": [],
   "source": [
    "Q = np.mat(np.zeros((column,12)))"
   ]
  },
  {
   "cell_type": "code",
   "execution_count": null,
   "id": "c357f752",
   "metadata": {},
   "outputs": [],
   "source": []
  },
  {
   "cell_type": "code",
   "execution_count": 118,
   "id": "df392d14",
   "metadata": {},
   "outputs": [
    {
     "data": {
      "text/plain": [
       "matrix([[0., 0., 0., 0., 0., 0., 0., 0., 0., 0., 0., 0.]])"
      ]
     },
     "execution_count": 118,
     "metadata": {},
     "output_type": "execute_result"
    }
   ],
   "source": [
    "Q[1,:]"
   ]
  },
  {
   "cell_type": "code",
   "execution_count": 150,
   "id": "1d3b0b78",
   "metadata": {},
   "outputs": [
    {
     "data": {
      "text/plain": [
       "matrix([[-10.4,  -8. ,  -0. ,  -1. ]])"
      ]
     },
     "execution_count": 150,
     "metadata": {},
     "output_type": "execute_result"
    }
   ],
   "source": [
    "-p_W_mat_h[1]"
   ]
  },
  {
   "cell_type": "code",
   "execution_count": 148,
   "id": "2d1637d6",
   "metadata": {},
   "outputs": [
    {
     "data": {
      "text/plain": [
       "-0.21571189094360999"
      ]
     },
     "execution_count": 148,
     "metadata": {},
     "output_type": "execute_result"
    }
   ],
   "source": [
    "p_c_d[0,1]"
   ]
  },
  {
   "cell_type": "code",
   "execution_count": 153,
   "id": "f162fc52",
   "metadata": {},
   "outputs": [
    {
     "data": {
      "text/plain": [
       "matrix([[2.07294319, 1.59457169, 0.        , 0.19932146]])"
      ]
     },
     "execution_count": 153,
     "metadata": {},
     "output_type": "execute_result"
    }
   ],
   "source": [
    "-p_W_mat_h[1]*p_c_d[1,1]"
   ]
  },
  {
   "cell_type": "code",
   "execution_count": 154,
   "id": "62c733cd",
   "metadata": {},
   "outputs": [],
   "source": [
    "for i in range (int(column/2)):\n",
    "    Q[2*i, 0:4] = p_W_mat_h[i]\n",
    "    Q[2*i, 8:12] = p_W_mat_h[i] * (-1) * p_c_d[0,i]\n",
    "    Q[2*i+1, 4:8] = p_W_mat_h[i]\n",
    "    Q[2*i+1, 8:12] = p_W_mat_h[i] * (-1) * p_c_d[1,i]"
   ]
  },
  {
   "cell_type": "code",
   "execution_count": 155,
   "id": "5584e6d4",
   "metadata": {},
   "outputs": [
    {
     "name": "stdout",
     "output_type": "stream",
     "text": [
      "[[ 0.00000000e+00  8.00000000e+00  0.00000000e+00  1.00000000e+00\n",
      "   0.00000000e+00  0.00000000e+00  0.00000000e+00  0.00000000e+00\n",
      "   0.00000000e+00  3.20961912e+00  0.00000000e+00  4.01202390e-01]\n",
      " [ 0.00000000e+00  0.00000000e+00  0.00000000e+00  0.00000000e+00\n",
      "   0.00000000e+00  8.00000000e+00  0.00000000e+00  1.00000000e+00\n",
      "   0.00000000e+00  1.21417264e+00  0.00000000e+00  1.51771580e-01]\n",
      " [ 1.04000000e+01  8.00000000e+00  0.00000000e+00  1.00000000e+00\n",
      "   0.00000000e+00  0.00000000e+00  0.00000000e+00  0.00000000e+00\n",
      "   2.24340367e+00  1.72569513e+00  0.00000000e+00  2.15711891e-01]\n",
      " [ 0.00000000e+00  0.00000000e+00  0.00000000e+00  0.00000000e+00\n",
      "   1.04000000e+01  8.00000000e+00  0.00000000e+00  1.00000000e+00\n",
      "   2.07294319e+00  1.59457169e+00  0.00000000e+00  1.99321461e-01]\n",
      " [ 0.00000000e+00  2.15000000e+01  0.00000000e+00  1.00000000e+00\n",
      "   0.00000000e+00  0.00000000e+00  0.00000000e+00  0.00000000e+00\n",
      "   0.00000000e+00  7.04085886e+00  0.00000000e+00  3.27481807e-01]\n",
      " [ 0.00000000e+00  0.00000000e+00  0.00000000e+00  0.00000000e+00\n",
      "   0.00000000e+00  2.15000000e+01  0.00000000e+00  1.00000000e+00\n",
      "   0.00000000e+00 -2.71749727e+00  0.00000000e+00 -1.26395222e-01]\n",
      " [ 1.04000000e+01  2.15000000e+01  0.00000000e+00  1.00000000e+00\n",
      "   0.00000000e+00  0.00000000e+00  0.00000000e+00  0.00000000e+00\n",
      "   1.72403027e+00  3.56410103e+00  0.00000000e+00  1.65772141e-01]\n",
      " [ 0.00000000e+00  0.00000000e+00  0.00000000e+00  0.00000000e+00\n",
      "   1.04000000e+01  2.15000000e+01  0.00000000e+00  1.00000000e+00\n",
      "  -4.73828415e-01 -9.79549128e-01  0.00000000e+00 -4.55604246e-02]\n",
      " [ 0.00000000e+00  2.66000000e+01 -1.09500000e+01  1.00000000e+00\n",
      "   0.00000000e+00  0.00000000e+00  0.00000000e+00  0.00000000e+00\n",
      "   0.00000000e+00  4.02999685e+00 -1.65896487e+00  1.51503641e-01]\n",
      " [ 0.00000000e+00  0.00000000e+00  0.00000000e+00  0.00000000e+00\n",
      "   0.00000000e+00  2.66000000e+01 -1.09500000e+01  1.00000000e+00\n",
      "   0.00000000e+00 -7.53604142e+00  3.10224261e+00 -2.83309828e-01]\n",
      " [ 1.04000000e+01  2.66000000e+01 -1.09500000e+01  1.00000000e+00\n",
      "   0.00000000e+00  0.00000000e+00  0.00000000e+00  0.00000000e+00\n",
      "  -7.21439329e-03 -1.84521982e-02  7.59592370e-03 -6.93691662e-04]\n",
      " [ 0.00000000e+00  0.00000000e+00  0.00000000e+00  0.00000000e+00\n",
      "   1.04000000e+01  2.66000000e+01 -1.09500000e+01  1.00000000e+00\n",
      "  -1.78430313e+00 -4.56369838e+00  1.87866531e+00 -1.71567608e-01]\n",
      " [ 0.00000000e+00  2.66000000e+01 -2.44500000e+01  1.00000000e+00\n",
      "   0.00000000e+00  0.00000000e+00  0.00000000e+00  0.00000000e+00\n",
      "   0.00000000e+00 -3.18130302e+00  2.92416763e+00 -1.19597858e-01]\n",
      " [ 0.00000000e+00  0.00000000e+00  0.00000000e+00  0.00000000e+00\n",
      "   0.00000000e+00  2.66000000e+01 -2.44500000e+01  1.00000000e+00\n",
      "   0.00000000e+00 -1.06348671e+01  9.77528202e+00 -3.99807035e-01]\n",
      " [ 1.04000000e+01  2.66000000e+01 -2.44500000e+01  1.00000000e+00\n",
      "   0.00000000e+00  0.00000000e+00  0.00000000e+00  0.00000000e+00\n",
      "  -2.65354552e+00 -6.78695296e+00  6.23838345e+00 -2.55148607e-01]\n",
      " [ 0.00000000e+00  0.00000000e+00  0.00000000e+00  0.00000000e+00\n",
      "   1.04000000e+01  2.66000000e+01 -2.44500000e+01  1.00000000e+00\n",
      "  -2.52608126e+00 -6.46093862e+00  5.93871990e+00 -2.42892429e-01]\n",
      " [ 1.94000000e+01  1.46000000e+01 -1.09500000e+01  1.00000000e+00\n",
      "   0.00000000e+00  0.00000000e+00  0.00000000e+00  0.00000000e+00\n",
      "  -1.53590656e+00 -1.15588844e+00  8.66916333e-01 -7.91704414e-02]\n",
      " [ 0.00000000e+00  0.00000000e+00  0.00000000e+00  0.00000000e+00\n",
      "   1.94000000e+01  1.46000000e+01 -1.09500000e+01  1.00000000e+00\n",
      "   2.11414774e+00  1.59105964e+00 -1.19329473e+00  1.08976688e-01]\n",
      " [ 1.94000000e+01  1.46000000e+01 -2.44500000e+01  1.00000000e+00\n",
      "   0.00000000e+00  0.00000000e+00  0.00000000e+00  0.00000000e+00\n",
      "  -6.47233193e+00 -4.87093022e+00  8.15713998e+00 -3.33625357e-01]\n",
      " [ 0.00000000e+00  0.00000000e+00  0.00000000e+00  0.00000000e+00\n",
      "   1.94000000e+01  1.46000000e+01 -2.44500000e+01  1.00000000e+00\n",
      "   1.79128405e+00  1.34807975e+00 -2.25757191e+00  9.23342293e-02]\n",
      " [ 1.94000000e+01  2.50000000e+01 -1.09500000e+01  1.00000000e+00\n",
      "   0.00000000e+00  0.00000000e+00  0.00000000e+00  0.00000000e+00\n",
      "  -1.90498510e+00 -2.45487770e+00  1.07523643e+00 -9.81951080e-02]\n",
      " [ 0.00000000e+00  0.00000000e+00  0.00000000e+00  0.00000000e+00\n",
      "   1.94000000e+01  2.50000000e+01 -1.09500000e+01  1.00000000e+00\n",
      "  -1.34510608e+00 -1.73338412e+00  7.59222246e-01 -6.93353649e-02]\n",
      " [ 1.94000000e+01  2.50000000e+01 -2.44500000e+01  1.00000000e+00\n",
      "   0.00000000e+00  0.00000000e+00  0.00000000e+00  0.00000000e+00\n",
      "  -6.51846675e+00 -8.40008601e+00  8.21528412e+00 -3.36003441e-01]\n",
      " [ 0.00000000e+00  0.00000000e+00  0.00000000e+00  0.00000000e+00\n",
      "   1.94000000e+01  2.50000000e+01 -2.44500000e+01  1.00000000e+00\n",
      "  -2.31369715e+00 -2.98156849e+00  2.91597398e+00 -1.19262740e-01]]\n"
     ]
    }
   ],
   "source": [
    "print((Q))"
   ]
  },
  {
   "cell_type": "code",
   "execution_count": null,
   "id": "c509c520",
   "metadata": {},
   "outputs": [],
   "source": []
  }
 ],
 "metadata": {
  "kernelspec": {
   "display_name": "Python [conda env:VAMR]",
   "language": "python",
   "name": "conda-env-VAMR-py"
  },
  "language_info": {
   "codemirror_mode": {
    "name": "ipython",
    "version": 3
   },
   "file_extension": ".py",
   "mimetype": "text/x-python",
   "name": "python",
   "nbconvert_exporter": "python",
   "pygments_lexer": "ipython3",
   "version": "3.8.13"
  }
 },
 "nbformat": 4,
 "nbformat_minor": 5
}
