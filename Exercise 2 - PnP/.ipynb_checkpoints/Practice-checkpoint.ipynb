{
 "cells": [
  {
   "cell_type": "code",
   "execution_count": 1,
   "id": "41e33ead",
   "metadata": {},
   "outputs": [],
   "source": [
    "import cv2\n",
    "import matplotlib.pyplot as plt\n",
    "import numpy as np\n",
    "import time\n",
    "from scipy.spatial.transform import Rotation\n",
    "\n",
    "# from estimate_pose_dlt import estimatePoseDLT\n",
    "# from reproject_points import reprojectPoints\n",
    "# from draw_camera import drawCamera"
   ]
  },
  {
   "cell_type": "code",
   "execution_count": 2,
   "id": "1f70f15f",
   "metadata": {},
   "outputs": [],
   "source": [
    "all_pts_2d = np.loadtxt(\"/home/mullin/WorkSpace/CourseProject/3 VAMR/Exercise 2 - PnP/data/detected_corners.txt\")"
   ]
  },
  {
   "cell_type": "code",
   "execution_count": 3,
   "id": "231b0a44",
   "metadata": {},
   "outputs": [],
   "source": [
    "row, column = all_pts_2d.shape"
   ]
  },
  {
   "cell_type": "code",
   "execution_count": 4,
   "id": "46306e20",
   "metadata": {},
   "outputs": [
    {
     "data": {
      "text/plain": [
       "array([[186.5, 187.5, 264.5, ..., 280.5, 496.5, 300.5],\n",
       "       [186.5, 186.5, 264.5, ..., 279.5, 496.5, 300.5],\n",
       "       [187.5, 186.5, 265.5, ..., 279.5, 496.5, 300.5],\n",
       "       ...,\n",
       "       [220.5, 216.5, 293.5, ..., 306.5, 547.5, 319.5],\n",
       "       [214.5, 226.5, 289.5, ..., 313.5, 542.5, 327.5],\n",
       "       [208.5, 236.5, 283.5, ..., 322.5, 537.5, 336.5]])"
      ]
     },
     "execution_count": 4,
     "metadata": {},
     "output_type": "execute_result"
    }
   ],
   "source": [
    "all_pts_2d"
   ]
  },
  {
   "cell_type": "code",
   "execution_count": 5,
   "id": "c895c368",
   "metadata": {},
   "outputs": [],
   "source": [
    "p_1 = all_pts_2d[1,:]"
   ]
  },
  {
   "cell_type": "code",
   "execution_count": 6,
   "id": "19f7dff6",
   "metadata": {},
   "outputs": [
    {
     "data": {
      "text/plain": [
       "array([186.5, 186.5, 264.5, 166.5, 217.5, 303.5, 285.5, 269.5, 291.5,\n",
       "       369.5, 355.5, 322.5, 405.5, 418.5, 462.5, 352.5, 388.5, 204.5,\n",
       "       495.5, 211.5, 396.5, 279.5, 496.5, 300.5])"
      ]
     },
     "execution_count": 6,
     "metadata": {},
     "output_type": "execute_result"
    }
   ],
   "source": [
    "p_1"
   ]
  },
  {
   "cell_type": "code",
   "execution_count": 7,
   "id": "f2730c9a",
   "metadata": {},
   "outputs": [
    {
     "data": {
      "text/plain": [
       "186.5"
      ]
     },
     "execution_count": 7,
     "metadata": {},
     "output_type": "execute_result"
    }
   ],
   "source": [
    "p_1[1]"
   ]
  },
  {
   "cell_type": "code",
   "execution_count": null,
   "id": "13395b46",
   "metadata": {},
   "outputs": [],
   "source": []
  },
  {
   "cell_type": "code",
   "execution_count": 8,
   "id": "1fca71f3",
   "metadata": {},
   "outputs": [],
   "source": [
    "pixel = np.ones((3, int(column/2)))"
   ]
  },
  {
   "cell_type": "code",
   "execution_count": 9,
   "id": "6e28b059",
   "metadata": {},
   "outputs": [],
   "source": [
    "pixel_mat = np.mat(pixel)"
   ]
  },
  {
   "cell_type": "code",
   "execution_count": 10,
   "id": "39ae0eda",
   "metadata": {},
   "outputs": [
    {
     "data": {
      "text/plain": [
       "array([[1., 1., 1., 1., 1., 1., 1., 1., 1., 1., 1., 1.],\n",
       "       [1., 1., 1., 1., 1., 1., 1., 1., 1., 1., 1., 1.],\n",
       "       [1., 1., 1., 1., 1., 1., 1., 1., 1., 1., 1., 1.]])"
      ]
     },
     "execution_count": 10,
     "metadata": {},
     "output_type": "execute_result"
    }
   ],
   "source": [
    "pixel"
   ]
  },
  {
   "cell_type": "code",
   "execution_count": 11,
   "id": "bd27691b",
   "metadata": {},
   "outputs": [
    {
     "data": {
      "text/plain": [
       "1.0"
      ]
     },
     "execution_count": 11,
     "metadata": {},
     "output_type": "execute_result"
    }
   ],
   "source": [
    "pixel[0][0]"
   ]
  },
  {
   "cell_type": "code",
   "execution_count": 12,
   "id": "89d4fdde",
   "metadata": {},
   "outputs": [
    {
     "data": {
      "text/plain": [
       "matrix([[1., 1., 1., 1., 1., 1., 1., 1., 1., 1., 1., 1.],\n",
       "        [1., 1., 1., 1., 1., 1., 1., 1., 1., 1., 1., 1.],\n",
       "        [1., 1., 1., 1., 1., 1., 1., 1., 1., 1., 1., 1.]])"
      ]
     },
     "execution_count": 12,
     "metadata": {},
     "output_type": "execute_result"
    }
   ],
   "source": [
    "pixel_mat"
   ]
  },
  {
   "cell_type": "code",
   "execution_count": 13,
   "id": "42a322e9",
   "metadata": {},
   "outputs": [
    {
     "data": {
      "text/plain": [
       "1.0"
      ]
     },
     "execution_count": 13,
     "metadata": {},
     "output_type": "execute_result"
    }
   ],
   "source": [
    "pixel_mat[1,1]"
   ]
  },
  {
   "cell_type": "code",
   "execution_count": 14,
   "id": "2dd167cc",
   "metadata": {},
   "outputs": [],
   "source": [
    "for i in range(int(column/2)):\n",
    "    pixel[0][i] = p_1[2*i]\n",
    "    pixel[1][i] = p_1[2*i+1]\n",
    "    pixel[2][i] = 1"
   ]
  },
  {
   "cell_type": "code",
   "execution_count": 15,
   "id": "6b85aff3",
   "metadata": {},
   "outputs": [
    {
     "data": {
      "text/plain": [
       "array([[186.5, 264.5, 217.5, 285.5, 291.5, 355.5, 405.5, 462.5, 388.5,\n",
       "        495.5, 396.5, 496.5],\n",
       "       [186.5, 166.5, 303.5, 269.5, 369.5, 322.5, 418.5, 352.5, 204.5,\n",
       "        211.5, 279.5, 300.5],\n",
       "       [  1. ,   1. ,   1. ,   1. ,   1. ,   1. ,   1. ,   1. ,   1. ,\n",
       "          1. ,   1. ,   1. ]])"
      ]
     },
     "execution_count": 15,
     "metadata": {},
     "output_type": "execute_result"
    }
   ],
   "source": [
    "pixel"
   ]
  },
  {
   "cell_type": "code",
   "execution_count": 16,
   "id": "602bcefc",
   "metadata": {},
   "outputs": [],
   "source": [
    "for i in range(int(column/2)):\n",
    "    pixel_mat[0,i] = p_1[2*i]\n",
    "    pixel_mat[1,i] = p_1[2*i+1]\n",
    "    pixel_mat[2,i] = 1"
   ]
  },
  {
   "cell_type": "code",
   "execution_count": null,
   "id": "07c2080f",
   "metadata": {},
   "outputs": [],
   "source": [
    "pixel_mat"
   ]
  },
  {
   "cell_type": "code",
   "execution_count": null,
   "id": "9a916021",
   "metadata": {
    "scrolled": true
   },
   "outputs": [],
   "source": [
    "np.mat(pixel)"
   ]
  },
  {
   "cell_type": "code",
   "execution_count": null,
   "id": "bedb9522",
   "metadata": {},
   "outputs": [],
   "source": [
    "pixel_mat == np.mat(pixel)"
   ]
  },
  {
   "cell_type": "code",
   "execution_count": 20,
   "id": "9d236f27",
   "metadata": {},
   "outputs": [],
   "source": [
    "K = np.loadtxt(\"/home/mullin/WorkSpace/CourseProject/3 VAMR/Exercise 2 - PnP//data/K.txt\")"
   ]
  },
  {
   "cell_type": "code",
   "execution_count": 21,
   "id": "bebe72a1",
   "metadata": {},
   "outputs": [
    {
     "data": {
      "text/plain": [
       "array([[420.506712,   0.      , 355.208298],\n",
       "       [  0.      , 420.61094 , 250.336787],\n",
       "       [  0.      ,   0.      ,   1.      ]])"
      ]
     },
     "execution_count": 21,
     "metadata": {},
     "output_type": "execute_result"
    }
   ],
   "source": [
    "K"
   ]
  },
  {
   "cell_type": "code",
   "execution_count": 22,
   "id": "ce84e5ac",
   "metadata": {},
   "outputs": [],
   "source": [
    "K = np.mat(K)"
   ]
  },
  {
   "cell_type": "code",
   "execution_count": 23,
   "id": "a1c0b66d",
   "metadata": {},
   "outputs": [],
   "source": [
    "k_inv = K.I"
   ]
  },
  {
   "cell_type": "code",
   "execution_count": 24,
   "id": "2e669ca1",
   "metadata": {},
   "outputs": [
    {
     "data": {
      "text/plain": [
       "matrix([[ 0.00237808,  0.        , -0.84471493],\n",
       "        [ 0.        ,  0.00237749, -0.59517422],\n",
       "        [ 0.        ,  0.        ,  1.        ]])"
      ]
     },
     "execution_count": 24,
     "metadata": {},
     "output_type": "execute_result"
    }
   ],
   "source": [
    "k_inv"
   ]
  },
  {
   "cell_type": "code",
   "execution_count": 25,
   "id": "538a433a",
   "metadata": {},
   "outputs": [
    {
     "data": {
      "text/plain": [
       "matrix([[186.5, 264.5, 217.5, 285.5, 291.5, 355.5, 405.5, 462.5, 388.5,\n",
       "         495.5, 396.5, 496.5]])"
      ]
     },
     "execution_count": 25,
     "metadata": {},
     "output_type": "execute_result"
    }
   ],
   "source": [
    "pixel_mat[0,:]"
   ]
  },
  {
   "cell_type": "code",
   "execution_count": 26,
   "id": "b53f1b5b",
   "metadata": {},
   "outputs": [
    {
     "data": {
      "text/plain": [
       "matrix([[186.5],\n",
       "        [186.5],\n",
       "        [  1. ]])"
      ]
     },
     "execution_count": 26,
     "metadata": {},
     "output_type": "execute_result"
    }
   ],
   "source": [
    "pixel_mat[:,0]"
   ]
  },
  {
   "cell_type": "code",
   "execution_count": 33,
   "id": "4e582d0a",
   "metadata": {},
   "outputs": [
    {
     "data": {
      "text/plain": [
       "matrix([[-0.40120239],\n",
       "        [-0.15177158],\n",
       "        [ 1.        ]])"
      ]
     },
     "execution_count": 33,
     "metadata": {},
     "output_type": "execute_result"
    }
   ],
   "source": [
    "k_inv*pixel_mat[:,0]"
   ]
  },
  {
   "cell_type": "code",
   "execution_count": 28,
   "id": "13bd4b6c",
   "metadata": {},
   "outputs": [
    {
     "data": {
      "text/plain": [
       "matrix([[-0.6069066 ],\n",
       "        [-0.35742481],\n",
       "        [ 1.        ]])"
      ]
     },
     "execution_count": 28,
     "metadata": {},
     "output_type": "execute_result"
    }
   ],
   "source": [
    "k_inv*np.mat([100,100,1]).T"
   ]
  },
  {
   "cell_type": "code",
   "execution_count": 29,
   "id": "5d8b0d11",
   "metadata": {},
   "outputs": [],
   "source": [
    "p_c = np.mat(np.zeros((3,int(column/2))))"
   ]
  },
  {
   "cell_type": "code",
   "execution_count": 31,
   "id": "04373622",
   "metadata": {},
   "outputs": [],
   "source": [
    "for i in range (int(column/2)):\n",
    "    p_c[:,i]=k_inv*pixel_mat[:,i]"
   ]
  },
  {
   "cell_type": "code",
   "execution_count": 32,
   "id": "291d5e19",
   "metadata": {},
   "outputs": [
    {
     "data": {
      "text/plain": [
       "matrix([[-4.01202390e-01, -2.15711891e-01, -3.27481807e-01,\n",
       "         -1.65772141e-01, -1.51503641e-01,  6.93691662e-04,\n",
       "          1.19597858e-01,  2.55148607e-01,  7.91704414e-02,\n",
       "          3.33625357e-01,  9.81951080e-02,  3.36003441e-01],\n",
       "        [-1.51771580e-01, -1.99321461e-01,  1.26395222e-01,\n",
       "          4.55604246e-02,  2.83309828e-01,  1.71567608e-01,\n",
       "          3.99807035e-01,  2.42892429e-01, -1.08976688e-01,\n",
       "         -9.23342293e-02,  6.93353649e-02,  1.19262740e-01],\n",
       "        [ 1.00000000e+00,  1.00000000e+00,  1.00000000e+00,\n",
       "          1.00000000e+00,  1.00000000e+00,  1.00000000e+00,\n",
       "          1.00000000e+00,  1.00000000e+00,  1.00000000e+00,\n",
       "          1.00000000e+00,  1.00000000e+00,  1.00000000e+00]])"
      ]
     },
     "execution_count": 32,
     "metadata": {},
     "output_type": "execute_result"
    }
   ],
   "source": [
    "p_c"
   ]
  },
  {
   "cell_type": "code",
   "execution_count": 41,
   "id": "7896282c",
   "metadata": {},
   "outputs": [],
   "source": [
    "p_c_d = p_c[0:2,:]"
   ]
  },
  {
   "cell_type": "code",
   "execution_count": 42,
   "id": "436ea2dd",
   "metadata": {},
   "outputs": [
    {
     "data": {
      "text/plain": [
       "matrix([[-0.40120239, -0.21571189, -0.32748181, -0.16577214, -0.15150364,\n",
       "          0.00069369,  0.11959786,  0.25514861,  0.07917044,  0.33362536,\n",
       "          0.09819511,  0.33600344],\n",
       "        [-0.15177158, -0.19932146,  0.12639522,  0.04556042,  0.28330983,\n",
       "          0.17156761,  0.39980704,  0.24289243, -0.10897669, -0.09233423,\n",
       "          0.06933536,  0.11926274]])"
      ]
     },
     "execution_count": 42,
     "metadata": {},
     "output_type": "execute_result"
    }
   ],
   "source": [
    "p_c_d"
   ]
  },
  {
   "cell_type": "code",
   "execution_count": 43,
   "id": "f458d1dc",
   "metadata": {},
   "outputs": [],
   "source": [
    "p_W_corners = np.loadtxt(\"/home/mullin/WorkSpace/CourseProject/3 VAMR/Exercise 2 - PnP//data/p_W_corners.txt\", delimiter = \",\")"
   ]
  },
  {
   "cell_type": "code",
   "execution_count": 44,
   "id": "66dfd69b",
   "metadata": {},
   "outputs": [
    {
     "data": {
      "text/plain": [
       "array([[  0.  ,   8.  ,   0.  ],\n",
       "       [ 10.4 ,   8.  ,   0.  ],\n",
       "       [  0.  ,  21.5 ,   0.  ],\n",
       "       [ 10.4 ,  21.5 ,   0.  ],\n",
       "       [  0.  ,  26.6 , -10.95],\n",
       "       [ 10.4 ,  26.6 , -10.95],\n",
       "       [  0.  ,  26.6 , -24.45],\n",
       "       [ 10.4 ,  26.6 , -24.45],\n",
       "       [ 19.4 ,  14.6 , -10.95],\n",
       "       [ 19.4 ,  14.6 , -24.45],\n",
       "       [ 19.4 ,  25.  , -10.95],\n",
       "       [ 19.4 ,  25.  , -24.45]])"
      ]
     },
     "execution_count": 44,
     "metadata": {},
     "output_type": "execute_result"
    }
   ],
   "source": [
    "p_W_corners"
   ]
  },
  {
   "cell_type": "code",
   "execution_count": 46,
   "id": "d09aab6d",
   "metadata": {},
   "outputs": [],
   "source": [
    "p_W_mat = np.mat(p_W_corners)"
   ]
  },
  {
   "cell_type": "code",
   "execution_count": null,
   "id": "1792def3",
   "metadata": {},
   "outputs": [],
   "source": []
  }
 ],
 "metadata": {
  "kernelspec": {
   "display_name": "Python [conda env:VAMR]",
   "language": "python",
   "name": "conda-env-VAMR-py"
  },
  "language_info": {
   "codemirror_mode": {
    "name": "ipython",
    "version": 3
   },
   "file_extension": ".py",
   "mimetype": "text/x-python",
   "name": "python",
   "nbconvert_exporter": "python",
   "pygments_lexer": "ipython3",
   "version": "3.8.13"
  }
 },
 "nbformat": 4,
 "nbformat_minor": 5
}
