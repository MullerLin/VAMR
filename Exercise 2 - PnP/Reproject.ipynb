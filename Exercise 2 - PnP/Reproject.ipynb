{
 "cells": [
  {
   "cell_type": "code",
   "execution_count": 41,
   "id": "e985da8b",
   "metadata": {},
   "outputs": [],
   "source": [
    "import cv2\n",
    "import matplotlib.pyplot as plt\n",
    "import numpy as np\n",
    "import time\n",
    "from scipy.spatial.transform import Rotation\n"
   ]
  },
  {
   "cell_type": "code",
   "execution_count": 42,
   "id": "c8c710dd",
   "metadata": {},
   "outputs": [],
   "source": [
    "all_pts_2d = np.loadtxt(\"/home/mullin/WorkSpace/CourseProject/3 VAMR/Exercise 2 - PnP/data/detected_corners.txt\")"
   ]
  },
  {
   "cell_type": "code",
   "execution_count": 43,
   "id": "6e663479",
   "metadata": {},
   "outputs": [],
   "source": [
    "image_idx = 1\n",
    "pts_2d = np.reshape(\n",
    "    np.loadtxt(\"/home/mullin/WorkSpace/CourseProject/3 VAMR/Exercise 2 - PnP/data/detected_corners.txt\")[image_idx-1,:],\n",
    "    (-1, 2) )"
   ]
  },
  {
   "cell_type": "code",
   "execution_count": 44,
   "id": "4dc5badb",
   "metadata": {},
   "outputs": [],
   "source": [
    "# 内参矩阵\n",
    "K = np.loadtxt(\"/home/mullin/WorkSpace/CourseProject/3 VAMR/Exercise 2 - PnP/data/K.txt\")"
   ]
  },
  {
   "cell_type": "code",
   "execution_count": 45,
   "id": "84ed3011",
   "metadata": {},
   "outputs": [],
   "source": [
    "# 点的世界坐标系\n",
    "p_W_corners = 0.01 * np.loadtxt(\"/home/mullin/WorkSpace/CourseProject/3 VAMR/Exercise 2 - PnP/data/p_W_corners.txt\", delimiter = \",\")"
   ]
  },
  {
   "cell_type": "code",
   "execution_count": 46,
   "id": "f678ec18",
   "metadata": {},
   "outputs": [],
   "source": [
    "# 世界坐标与图像坐标下的点\n",
    "p = pts_2d\n",
    "P = p_W_corners"
   ]
  },
  {
   "cell_type": "markdown",
   "id": "2a100122",
   "metadata": {},
   "source": [
    "## 位姿估计函数"
   ]
  },
  {
   "cell_type": "code",
   "execution_count": 8,
   "id": "e8e05ba7",
   "metadata": {},
   "outputs": [],
   "source": [
    "def estimatePoseDLT(p, P, K):\n",
    "    \n",
    "    num_corners = p.shape[0]\n",
    "    \n",
    "    pts_2d_aug = np.c_[p, np.ones((p.shape[0], 1))]\n",
    "    p_cam = (np.mat(K).I * pts_2d_aug.T).T [:,0:2]\n",
    "    p_W_mat_h = np.hstack((P,np.mat(np.ones((num_corners,1)))))\n",
    "    \n",
    "\n",
    "    Q = np.mat(np.zeros((num_corners*2,12)))\n",
    "    for i in range (num_corners):\n",
    "        Q[2*i, 0:4] = p_W_mat_h[i]\n",
    "        Q[2*i, 8:12] = p_W_mat_h[i] * (-1) * p_cam[i,0]\n",
    "        Q[2*i+1, 4:8] = p_W_mat_h[i]\n",
    "        Q[2*i+1, 8:12] = p_W_mat_h[i] * (-1) * p_cam[i,1]\n",
    "        \n",
    "    U,sigma, VT = np.linalg.svd(Q,full_matrices=True)\n",
    "    M = VT.T[:,-1].reshape(3,4)\n",
    "    if (np.linalg.det(M[:, :3]) < 0):\n",
    "        M *= -1    \n",
    "    R = M[0:3,0:3]\n",
    "    U_R, Sigma_R, VT_R = np.linalg.svd(R)\n",
    "    R_ = U_R*VT_R\n",
    "    alpha = np.linalg.norm(R_) / np.linalg.norm(R)\n",
    "    M_ = np.c_[R_, alpha * M[:,3]]\n",
    "    \n",
    "    return M_"
   ]
  },
  {
   "cell_type": "code",
   "execution_count": 47,
   "id": "79636baf",
   "metadata": {},
   "outputs": [],
   "source": [
    "M = estimatePoseDLT(p, P, K)"
   ]
  },
  {
   "cell_type": "markdown",
   "id": "93baa6b6",
   "metadata": {},
   "source": [
    "## Test on Reproject"
   ]
  },
  {
   "cell_type": "code",
   "execution_count": 48,
   "id": "ca5fb8a0",
   "metadata": {},
   "outputs": [
    {
     "data": {
      "text/plain": [
       "array([[186.5, 187.5],\n",
       "       [264.5, 166.5],\n",
       "       [218.5, 304.5],\n",
       "       [285.5, 270.5],\n",
       "       [292.5, 369.5],\n",
       "       [356.5, 322.5],\n",
       "       [406.5, 418.5],\n",
       "       [461.5, 353.5],\n",
       "       [388.5, 204.5],\n",
       "       [495.5, 211.5],\n",
       "       [396.5, 280.5],\n",
       "       [496.5, 300.5]])"
      ]
     },
     "execution_count": 48,
     "metadata": {},
     "output_type": "execute_result"
    }
   ],
   "source": [
    "p"
   ]
  },
  {
   "cell_type": "code",
   "execution_count": 49,
   "id": "e06b7df0",
   "metadata": {},
   "outputs": [
    {
     "data": {
      "text/plain": [
       "array([[ 0.    ,  0.08  ,  0.    ],\n",
       "       [ 0.104 ,  0.08  ,  0.    ],\n",
       "       [ 0.    ,  0.215 ,  0.    ],\n",
       "       [ 0.104 ,  0.215 ,  0.    ],\n",
       "       [ 0.    ,  0.266 , -0.1095],\n",
       "       [ 0.104 ,  0.266 , -0.1095],\n",
       "       [ 0.    ,  0.266 , -0.2445],\n",
       "       [ 0.104 ,  0.266 , -0.2445],\n",
       "       [ 0.194 ,  0.146 , -0.1095],\n",
       "       [ 0.194 ,  0.146 , -0.2445],\n",
       "       [ 0.194 ,  0.25  , -0.1095],\n",
       "       [ 0.194 ,  0.25  , -0.2445]])"
      ]
     },
     "execution_count": 49,
     "metadata": {},
     "output_type": "execute_result"
    }
   ],
   "source": [
    "P"
   ]
  },
  {
   "cell_type": "code",
   "execution_count": 50,
   "id": "729bd43b",
   "metadata": {},
   "outputs": [],
   "source": [
    "num_corners = p.shape[0]\n",
    "p_W_mat_h = np.hstack((P,np.mat(np.ones((num_corners,1)))))"
   ]
  },
  {
   "cell_type": "code",
   "execution_count": 51,
   "id": "0e1233ed",
   "metadata": {},
   "outputs": [
    {
     "data": {
      "text/plain": [
       "matrix([[ 0.    ,  0.08  ,  0.    ,  1.    ],\n",
       "        [ 0.104 ,  0.08  ,  0.    ,  1.    ],\n",
       "        [ 0.    ,  0.215 ,  0.    ,  1.    ],\n",
       "        [ 0.104 ,  0.215 ,  0.    ,  1.    ],\n",
       "        [ 0.    ,  0.266 , -0.1095,  1.    ],\n",
       "        [ 0.104 ,  0.266 , -0.1095,  1.    ],\n",
       "        [ 0.    ,  0.266 , -0.2445,  1.    ],\n",
       "        [ 0.104 ,  0.266 , -0.2445,  1.    ],\n",
       "        [ 0.194 ,  0.146 , -0.1095,  1.    ],\n",
       "        [ 0.194 ,  0.146 , -0.2445,  1.    ],\n",
       "        [ 0.194 ,  0.25  , -0.1095,  1.    ],\n",
       "        [ 0.194 ,  0.25  , -0.2445,  1.    ]])"
      ]
     },
     "execution_count": 51,
     "metadata": {},
     "output_type": "execute_result"
    }
   ],
   "source": [
    "p_W_mat_h"
   ]
  },
  {
   "cell_type": "code",
   "execution_count": 52,
   "id": "1431df9b",
   "metadata": {},
   "outputs": [],
   "source": [
    "pts_2d_ = (K * M * p_W_mat_h.T).T"
   ]
  },
  {
   "cell_type": "code",
   "execution_count": 53,
   "id": "be805fc7",
   "metadata": {},
   "outputs": [
    {
     "data": {
      "text/plain": [
       "matrix([[ 80.15271064,  80.52709773,   0.43046317],\n",
       "        [133.18287885,  83.56509917,   0.50372897],\n",
       "        [104.16217464, 145.01842383,   0.47746727],\n",
       "        [157.19234285, 148.05642527,   0.55073307],\n",
       "        [124.90605085, 158.15150018,   0.42750402],\n",
       "        [177.93621906, 161.18950161,   0.50076982],\n",
       "        [139.29820268, 144.30590817,   0.34401318],\n",
       "        [192.32837089, 147.34390961,   0.41727898],\n",
       "        [202.48596501, 106.49291812,   0.52239149],\n",
       "        [216.87811683,  92.64732612,   0.43890065],\n",
       "        [220.98214468, 156.17512489,   0.55860206],\n",
       "        [235.3742965 , 142.32953289,   0.47511122]])"
      ]
     },
     "execution_count": 53,
     "metadata": {},
     "output_type": "execute_result"
    }
   ],
   "source": [
    "pts_2d_"
   ]
  },
  {
   "cell_type": "code",
   "execution_count": 54,
   "id": "461852d6",
   "metadata": {},
   "outputs": [
    {
     "data": {
      "text/plain": [
       "matrix([[ 80.15271064,  80.52709773],\n",
       "        [133.18287885,  83.56509917],\n",
       "        [104.16217464, 145.01842383],\n",
       "        [157.19234285, 148.05642527],\n",
       "        [124.90605085, 158.15150018],\n",
       "        [177.93621906, 161.18950161],\n",
       "        [139.29820268, 144.30590817],\n",
       "        [192.32837089, 147.34390961],\n",
       "        [202.48596501, 106.49291812],\n",
       "        [216.87811683,  92.64732612],\n",
       "        [220.98214468, 156.17512489],\n",
       "        [235.3742965 , 142.32953289]])"
      ]
     },
     "execution_count": 54,
     "metadata": {},
     "output_type": "execute_result"
    }
   ],
   "source": [
    "pts_2d_[:,0:2]"
   ]
  },
  {
   "cell_type": "code",
   "execution_count": 55,
   "id": "9c64017c",
   "metadata": {},
   "outputs": [
    {
     "data": {
      "text/plain": [
       "matrix([[0.43046317],\n",
       "        [0.50372897],\n",
       "        [0.47746727],\n",
       "        [0.55073307],\n",
       "        [0.42750402],\n",
       "        [0.50076982],\n",
       "        [0.34401318],\n",
       "        [0.41727898],\n",
       "        [0.52239149],\n",
       "        [0.43890065],\n",
       "        [0.55860206],\n",
       "        [0.47511122]])"
      ]
     },
     "execution_count": 55,
     "metadata": {},
     "output_type": "execute_result"
    }
   ],
   "source": [
    "pts_2d_[:,2]"
   ]
  },
  {
   "cell_type": "code",
   "execution_count": 56,
   "id": "353b5d89",
   "metadata": {},
   "outputs": [],
   "source": [
    "pts_repro = pts_2d_[:,0:2] / pts_2d_[:,2]"
   ]
  },
  {
   "cell_type": "code",
   "execution_count": 57,
   "id": "6d90e1c0",
   "metadata": {},
   "outputs": [
    {
     "data": {
      "text/plain": [
       "matrix([[186.20108862, 187.07081945],\n",
       "        [264.39392517, 165.89297939],\n",
       "        [218.15563242, 303.72432288],\n",
       "        [285.42383119, 268.8351822 ],\n",
       "        [292.17514613, 369.94154693],\n",
       "        [355.32536289, 321.88341675],\n",
       "        [404.92112313, 419.47784889],\n",
       "        [460.9107611 , 353.10647726],\n",
       "        [387.6134428 , 203.8565321 ],\n",
       "        [494.13943311, 211.08951828],\n",
       "        [395.59851297, 279.58207781],\n",
       "        [495.40884118, 299.57098121]])"
      ]
     },
     "execution_count": 57,
     "metadata": {},
     "output_type": "execute_result"
    }
   ],
   "source": [
    "pts_repro"
   ]
  },
  {
   "cell_type": "code",
   "execution_count": null,
   "id": "f8a24c46",
   "metadata": {},
   "outputs": [],
   "source": []
  },
  {
   "cell_type": "markdown",
   "id": "45b0e311",
   "metadata": {},
   "source": [
    "### reprojectPoints"
   ]
  },
  {
   "cell_type": "code",
   "execution_count": 71,
   "id": "892eb20d",
   "metadata": {},
   "outputs": [],
   "source": [
    "def reprojectPoints(P, M_tilde, K):\n",
    "    # Reproject 3D points given a projection matrix\n",
    "    #\n",
    "    # P         [n x 3] coordinates of the 3d points in the world frame\n",
    "    # M_tilde   [3 x 4] projection matrix\n",
    "    # K         [3 x 3] camera matrix\n",
    "    #\n",
    "    # Returns [n x 2] coordinates of the reprojected 2d points\n",
    "    \n",
    "\n",
    "    # YOUR CODE GOES HERE\n",
    "    num_corners = P.shape[0]\n",
    "    p_W_mat_h = np.hstack((P,np.mat(np.ones((num_corners,1)))))\n",
    "    pts_2d_ = (K * M_tilde * p_W_mat_h.T).T\n",
    "    pts_repro = pts_2d_[:,0:2] / pts_2d_[:,2]\n",
    "    return pts_repro"
   ]
  },
  {
   "cell_type": "code",
   "execution_count": 72,
   "id": "701fe187",
   "metadata": {},
   "outputs": [],
   "source": [
    "p_re = reprojectPoints(P, M, K)"
   ]
  },
  {
   "cell_type": "code",
   "execution_count": 73,
   "id": "94c0b71b",
   "metadata": {},
   "outputs": [
    {
     "data": {
      "text/plain": [
       "matrix([[186.20108862, 187.07081945],\n",
       "        [264.39392517, 165.89297939],\n",
       "        [218.15563242, 303.72432288],\n",
       "        [285.42383119, 268.8351822 ],\n",
       "        [292.17514613, 369.94154693],\n",
       "        [355.32536289, 321.88341675],\n",
       "        [404.92112313, 419.47784889],\n",
       "        [460.9107611 , 353.10647726],\n",
       "        [387.6134428 , 203.8565321 ],\n",
       "        [494.13943311, 211.08951828],\n",
       "        [395.59851297, 279.58207781],\n",
       "        [495.40884118, 299.57098121]])"
      ]
     },
     "execution_count": 73,
     "metadata": {},
     "output_type": "execute_result"
    }
   ],
   "source": [
    "p_re"
   ]
  },
  {
   "cell_type": "code",
   "execution_count": 74,
   "id": "fbcf617a",
   "metadata": {},
   "outputs": [
    {
     "data": {
      "text/plain": [
       "matrix([[186.20108862],\n",
       "        [264.39392517],\n",
       "        [218.15563242],\n",
       "        [285.42383119],\n",
       "        [292.17514613],\n",
       "        [355.32536289],\n",
       "        [404.92112313],\n",
       "        [460.9107611 ],\n",
       "        [387.6134428 ],\n",
       "        [494.13943311],\n",
       "        [395.59851297],\n",
       "        [495.40884118]])"
      ]
     },
     "execution_count": 74,
     "metadata": {},
     "output_type": "execute_result"
    }
   ],
   "source": [
    "p_re[:, 0]"
   ]
  },
  {
   "cell_type": "code",
   "execution_count": 76,
   "id": "1ba46c60",
   "metadata": {},
   "outputs": [
    {
     "data": {
      "text/plain": [
       "matrix([[187.07081945],\n",
       "        [165.89297939],\n",
       "        [303.72432288],\n",
       "        [268.8351822 ],\n",
       "        [369.94154693],\n",
       "        [321.88341675],\n",
       "        [419.47784889],\n",
       "        [353.10647726],\n",
       "        [203.8565321 ],\n",
       "        [211.08951828],\n",
       "        [279.58207781],\n",
       "        [299.57098121]])"
      ]
     },
     "execution_count": 76,
     "metadata": {},
     "output_type": "execute_result"
    }
   ],
   "source": [
    "p_re[:, 1]"
   ]
  },
  {
   "cell_type": "code",
   "execution_count": null,
   "id": "04bb337b",
   "metadata": {},
   "outputs": [],
   "source": []
  },
  {
   "cell_type": "code",
   "execution_count": null,
   "id": "456e0c3b",
   "metadata": {},
   "outputs": [],
   "source": []
  },
  {
   "cell_type": "markdown",
   "id": "b4aa36c4",
   "metadata": {},
   "source": [
    "## Answer"
   ]
  },
  {
   "cell_type": "code",
   "execution_count": 77,
   "id": "9d984e87",
   "metadata": {},
   "outputs": [],
   "source": [
    "def reprojectPoints_solution(P, M_tilde, K):\n",
    "    # Reproject 3D points given a projection matrix\n",
    "    #\n",
    "    # P         [n x 3] coordinates of the 3d points in the world frame\n",
    "    # M_tilde   [3 x 4] projection matrix\n",
    "    # K         [3 x 3] camera matrix\n",
    "    #\n",
    "    # Returns [n x 2] coordinates of the reprojected 2d points\n",
    "\n",
    "    p_homo = (K @ M_tilde @ np.r_[P.T, np.ones((1, P.shape[0]))]).T\n",
    "    return p_homo[:,:2]/p_homo[:,2,np.newaxis]"
   ]
  },
  {
   "cell_type": "code",
   "execution_count": 78,
   "id": "e121ef28",
   "metadata": {},
   "outputs": [],
   "source": [
    "p_re = reprojectPoints_solution(P, M, K)"
   ]
  },
  {
   "cell_type": "code",
   "execution_count": 79,
   "id": "5ff57535",
   "metadata": {},
   "outputs": [
    {
     "data": {
      "text/plain": [
       "matrix([[186.20108862, 187.07081945],\n",
       "        [264.39392517, 165.89297939],\n",
       "        [218.15563242, 303.72432288],\n",
       "        [285.42383119, 268.8351822 ],\n",
       "        [292.17514613, 369.94154693],\n",
       "        [355.32536289, 321.88341675],\n",
       "        [404.92112313, 419.47784889],\n",
       "        [460.9107611 , 353.10647726],\n",
       "        [387.6134428 , 203.8565321 ],\n",
       "        [494.13943311, 211.08951828],\n",
       "        [395.59851297, 279.58207781],\n",
       "        [495.40884118, 299.57098121]])"
      ]
     },
     "execution_count": 79,
     "metadata": {},
     "output_type": "execute_result"
    }
   ],
   "source": [
    "p_re"
   ]
  },
  {
   "cell_type": "code",
   "execution_count": null,
   "id": "1baac63a",
   "metadata": {},
   "outputs": [],
   "source": []
  }
 ],
 "metadata": {
  "kernelspec": {
   "display_name": "Python [conda env:VAMR]",
   "language": "python",
   "name": "conda-env-VAMR-py"
  },
  "language_info": {
   "codemirror_mode": {
    "name": "ipython",
    "version": 3
   },
   "file_extension": ".py",
   "mimetype": "text/x-python",
   "name": "python",
   "nbconvert_exporter": "python",
   "pygments_lexer": "ipython3",
   "version": "3.8.13"
  }
 },
 "nbformat": 4,
 "nbformat_minor": 5
}
